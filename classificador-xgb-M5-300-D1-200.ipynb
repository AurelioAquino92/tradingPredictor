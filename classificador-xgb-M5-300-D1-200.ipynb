{
 "cells": [
  {
   "attachments": {},
   "cell_type": "markdown",
   "metadata": {},
   "source": [
    "# Bibliotecas"
   ]
  },
  {
   "cell_type": "code",
   "execution_count": null,
   "metadata": {},
   "outputs": [],
   "source": [
    "from obterDados import obterSimboloPosicao, obterSimboloData\n",
    "from pickle import dump, load\n",
    "import numpy as np\n",
    "from tqdm import tqdm"
   ]
  },
  {
   "cell_type": "markdown",
   "metadata": {},
   "source": [
    "# Abrindo dados"
   ]
  },
  {
   "cell_type": "code",
   "execution_count": null,
   "metadata": {},
   "outputs": [],
   "source": [
    "x = np.float64(np.load(open('data/x.npy', 'rb')))\n",
    "y = np.int8(np.load(open('data/y.npy', 'rb')))"
   ]
  },
  {
   "cell_type": "code",
   "execution_count": null,
   "metadata": {},
   "outputs": [],
   "source": [
    "from keras.utils import to_categorical\n",
    "\n",
    "y_one_hot = to_categorical(y, 3)\n",
    "y_one_hot"
   ]
  },
  {
   "cell_type": "markdown",
   "metadata": {},
   "source": [
    "# Criar Modelos"
   ]
  },
  {
   "cell_type": "markdown",
   "metadata": {},
   "source": [
    "### Lazy Classifier"
   ]
  },
  {
   "cell_type": "code",
   "execution_count": null,
   "metadata": {},
   "outputs": [],
   "source": [
    "# from lazypredict.Supervised import LazyClassifier\n",
    "# from sklearn.model_selection import train_test_split\n",
    "# import numpy as np\n",
    "\n",
    "# lazyReg = LazyClassifier()\n",
    "# x = np.load(open('data/x.npy', 'rb'))\n",
    "# y = np.load(open('data/y.npy', 'rb'))\n",
    "# x_train, x_test, y_train, y_test = train_test_split(x, y, test_size=0.1)\n",
    "# results, models = lazyReg.fit(x_train, x_test, y_train, y_test)\n",
    "# results"
   ]
  },
  {
   "cell_type": "markdown",
   "metadata": {},
   "source": [
    "### XGBoost"
   ]
  },
  {
   "cell_type": "code",
   "execution_count": null,
   "metadata": {},
   "outputs": [],
   "source": [
    "from xgboost import XGBClassifier\n",
    "\n",
    "modelo = XGBClassifier(objective=\"multi:softprob\")\n",
    "modelo.fit(x, y)\n",
    "dump(modelo, open(f'models/modeloClassificadorXGBoost{str(x.shape[1])}.pickle', 'wb'))"
   ]
  },
  {
   "cell_type": "markdown",
   "metadata": {},
   "source": [
    "### Extra Trees"
   ]
  },
  {
   "cell_type": "code",
   "execution_count": null,
   "metadata": {},
   "outputs": [],
   "source": [
    "from sklearn.ensemble import ExtraTreesClassifier\n",
    "\n",
    "modelo = ExtraTreesClassifier()\n",
    "modelo.fit(x, y)\n",
    "dump(modelo, open(f'models/modeloClassificadorExtraTrees{str(x.shape[1])}.pickle', 'wb'))"
   ]
  },
  {
   "cell_type": "markdown",
   "metadata": {},
   "source": [
    "### KNN"
   ]
  },
  {
   "cell_type": "code",
   "execution_count": null,
   "metadata": {},
   "outputs": [],
   "source": [
    "from sklearn.neighbors import KNeighborsClassifier\n",
    "\n",
    "modelo = KNeighborsClassifier()\n",
    "modelo.fit(x, y)\n",
    "dump(modelo, open(f'models/modeloClassificadorKNN{str(x.shape[1])}.pickle', 'wb'))"
   ]
  },
  {
   "cell_type": "markdown",
   "metadata": {},
   "source": [
    "# Avaliação dos modelos"
   ]
  },
  {
   "cell_type": "code",
   "execution_count": null,
   "metadata": {},
   "outputs": [],
   "source": [
    "from sklearn.metrics import classification_report, ConfusionMatrixDisplay\n",
    "\n",
    "modelo = load(open(f'models/modeloClassificadorKNN3006.pickle', 'rb'))"
   ]
  },
  {
   "cell_type": "code",
   "execution_count": null,
   "metadata": {},
   "outputs": [],
   "source": [
    "# from sklearn.model_selection import train_test_split\n",
    "\n",
    "# x_train, x_test, y_train, y_test = train_test_split(x, y_one_hot, test_size=0.2)"
   ]
  },
  {
   "cell_type": "code",
   "execution_count": null,
   "metadata": {},
   "outputs": [],
   "source": [
    "# print(classification_report(y, modelo.predict(x)))"
   ]
  },
  {
   "cell_type": "code",
   "execution_count": null,
   "metadata": {},
   "outputs": [],
   "source": [
    "# print(classification_report(y_train, modelo.predict(x_train)))"
   ]
  },
  {
   "cell_type": "code",
   "execution_count": null,
   "metadata": {},
   "outputs": [],
   "source": [
    "# print(classification_report(y_test, modelo.predict(x_test)))"
   ]
  },
  {
   "cell_type": "code",
   "execution_count": null,
   "metadata": {},
   "outputs": [],
   "source": [
    "# ConfusionMatrixDisplay.from_estimator(modelo, x, y)"
   ]
  },
  {
   "cell_type": "code",
   "execution_count": null,
   "metadata": {},
   "outputs": [],
   "source": [
    "# ConfusionMatrixDisplay.from_estimator(modelo, x_train, y_train)"
   ]
  },
  {
   "cell_type": "code",
   "execution_count": null,
   "metadata": {},
   "outputs": [],
   "source": [
    "# ConfusionMatrixDisplay.from_estimator(modelo, x_test, y_test)"
   ]
  },
  {
   "cell_type": "markdown",
   "metadata": {},
   "source": [
    "# Teste Finaceiro"
   ]
  },
  {
   "cell_type": "code",
   "execution_count": null,
   "metadata": {},
   "outputs": [],
   "source": [
    "from json import dumps\n",
    "\n",
    "target = 30\n",
    "stop = 10\n",
    "timeLimit = 24\n",
    "total = 0\n",
    "long = False\n",
    "short = False\n",
    "position = 0\n",
    "candle = -1\n",
    "operacoes = {\n",
    "    'longSuccess' : [0, 0],\n",
    "    'longFail' : [0, 0],\n",
    "    'longEndSuccess' : [0, 0],\n",
    "    'longEndFail' : [0, 0],\n",
    "    'shortSuccess' : [0, 0],\n",
    "    'shortFail' : [0, 0],\n",
    "    'shortEndSuccess' : [0, 0],\n",
    "    'shortEndFail' : [0, 0],\n",
    "}\n",
    "for i in tqdm(range(50*108, -1, -1)):\n",
    "    histM5 = obterSimboloPosicao('WDO$N', n=300, delayCandles=i)\n",
    "    histM5['minute'] = histM5.index.minute\n",
    "    histM5['hour'] = histM5.index.hour\n",
    "    histM5['day_of_week'] = histM5.index.day_of_week\n",
    "    histM5['day'] = histM5.index.day\n",
    "    histM5NP = histM5.to_numpy()\n",
    "    hist = np.zeros((501, 6))\n",
    "    hist[0, -4:] = histM5NP[-1][-4:]\n",
    "    hist[1:301] = histM5NP[:, :6]\n",
    "    histD1 = obterSimboloData(histM5.index[-1])\n",
    "    histD1NP = histD1.to_numpy()\n",
    "    hist[301:] = histD1NP\n",
    "    vmax = hist[1:301, :4].max()\n",
    "    vmin = hist[1:301, :4].min()\n",
    "    hist[1:301, :4] = (hist[1:301, :4] - vmin) / (vmax - vmin)\n",
    "    vmax = hist[1:301, 4].max()\n",
    "    vmin = hist[1:301, 4].min()\n",
    "    hist[1:301, 4] = (hist[1:301, 4] - vmin) / (vmax - vmin)\n",
    "    vmax = hist[1:301, 5].max()\n",
    "    vmin = hist[1:301, 5].min()\n",
    "    hist[1:301, 5] = (hist[1:301, 5] - vmin) / (vmax - vmin)\n",
    "    vmax = hist[301:, :4].max()\n",
    "    vmin = hist[301:, :4].min()\n",
    "    hist[301:, :4] = (hist[301:, :4] - vmin) / (vmax - vmin)\n",
    "    vmax = hist[301:, 4].max()\n",
    "    vmin = hist[301:, 4].min()\n",
    "    hist[301:, 4] = (hist[301:, 4] - vmin) / (vmax - vmin)\n",
    "    vmax = hist[301:, 5].max()\n",
    "    vmin = hist[301:, 5].min()\n",
    "    hist[301:, 5] = (hist[301:, 5] - vmin) / (vmax - vmin)\n",
    "    hist[0, 2] /= 60\n",
    "    hist[0, 3] /= 24\n",
    "    hist[0, 4] /= 4\n",
    "    hist[0, 5] /= 31\n",
    "    priceNow = histM5['close'].iloc[-1]\n",
    "    if long:\n",
    "        if priceNow >= position + target:\n",
    "            total += priceNow - position\n",
    "            long = False\n",
    "            operacoes['longSuccess'][0] += 1\n",
    "            operacoes['longSuccess'][1] += priceNow - position\n",
    "        if priceNow <= position - stop:\n",
    "            total += priceNow - position\n",
    "            long = False\n",
    "            operacoes['longFail'][0] += 1\n",
    "            operacoes['longFail'][1] += priceNow - position\n",
    "        if i >= candle + timeLimit:\n",
    "            total += priceNow - position\n",
    "            long = False\n",
    "            if priceNow - position > 0:\n",
    "                operacoes['longEndSuccess'][0] += 1\n",
    "                operacoes['longEndSuccess'][1] += priceNow - position\n",
    "            else:\n",
    "                operacoes['longEndFail'][0] += 1\n",
    "                operacoes['longEndFail'][1] += priceNow - position\n",
    "        continue\n",
    "    if short:\n",
    "        if priceNow <= position - target:\n",
    "            total += position - priceNow\n",
    "            short = False\n",
    "            operacoes['shortSuccess'][0] += 1\n",
    "            operacoes['shortSuccess'][1] += position - priceNow\n",
    "        if priceNow >= position + stop:\n",
    "            total += position - priceNow\n",
    "            short = False\n",
    "            operacoes['shortFail'][0] += 1\n",
    "            operacoes['shortFail'][1] += position - priceNow\n",
    "        if i >= candle + timeLimit:\n",
    "            total += position - priceNow\n",
    "            short = False\n",
    "            if position - priceNow > 0:\n",
    "                operacoes['shortEndSuccess'][0] += 1\n",
    "                operacoes['shortEndSuccess'][1] += position - priceNow\n",
    "            else:\n",
    "                operacoes['shortEndFail'][0] += 1\n",
    "                operacoes['shortEndFail'][1] += position - priceNow\n",
    "        continue\n",
    "\n",
    "    previsao = modelo.predict([hist.flatten()])[0]\n",
    "    if previsao == 1:\n",
    "        long = True\n",
    "        position = priceNow\n",
    "        candle = i\n",
    "        # print('Compra:', str(histM5.index[-1]))\n",
    "    if previsao == 2:\n",
    "        short = True\n",
    "        position = priceNow\n",
    "        candle = i\n",
    "        # print('Venda:', str(histM5.index[-1]))\n",
    "\n",
    "print('Total:', total)\n",
    "print('Operações: ', dumps(operacoes, indent=4))"
   ]
  }
 ],
 "metadata": {
  "kernelspec": {
   "display_name": "Python 3",
   "language": "python",
   "name": "python3"
  },
  "language_info": {
   "codemirror_mode": {
    "name": "ipython",
    "version": 3
   },
   "file_extension": ".py",
   "mimetype": "text/x-python",
   "name": "python",
   "nbconvert_exporter": "python",
   "pygments_lexer": "ipython3",
   "version": "3.10.8"
  },
  "orig_nbformat": 4
 },
 "nbformat": 4,
 "nbformat_minor": 2
}
