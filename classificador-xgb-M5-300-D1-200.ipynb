{
 "cells": [
  {
   "attachments": {},
   "cell_type": "markdown",
   "metadata": {},
   "source": [
    "# Bibliotecas"
   ]
  },
  {
   "cell_type": "code",
   "execution_count": null,
   "metadata": {},
   "outputs": [],
   "source": [
    "from obterDados import obterSimboloPosicao, obterSimboloData\n",
    "from pickle import dump, load\n",
    "import numpy as np\n",
    "from tqdm import tqdm\n",
    "from matplotlib import pyplot as plt"
   ]
  },
  {
   "attachments": {},
   "cell_type": "markdown",
   "metadata": {},
   "source": [
    "# Obtendo dados"
   ]
  },
  {
   "cell_type": "code",
   "execution_count": null,
   "metadata": {},
   "outputs": [],
   "source": [
    "rawDataM5 = obterSimboloPosicao('WDO$N')\n",
    "rawDataM5"
   ]
  },
  {
   "cell_type": "code",
   "execution_count": null,
   "metadata": {},
   "outputs": [],
   "source": [
    "# rawDataM5[:-100*108]"
   ]
  },
  {
   "cell_type": "code",
   "execution_count": null,
   "metadata": {},
   "outputs": [],
   "source": [
    "rawDataM5['minute'] = rawDataM5.index.minute\n",
    "rawDataM5['hour'] = rawDataM5.index.hour\n",
    "rawDataM5['day_of_week'] = rawDataM5.index.day_of_week\n",
    "rawDataM5['day'] = rawDataM5.index.day\n",
    "rawDataM5NP = rawDataM5.to_numpy()\n",
    "# rawDataM5NP = rawDataM5[:-100*108].to_numpy()\n",
    "rawDataM5NP"
   ]
  },
  {
   "cell_type": "code",
   "execution_count": null,
   "metadata": {},
   "outputs": [],
   "source": [
    "# np.save(open('data/raw/rawDataM5NP.npy', 'wb'), rawDataM5NP)"
   ]
  },
  {
   "attachments": {},
   "cell_type": "markdown",
   "metadata": {},
   "source": [
    "# Tratamento de Dados"
   ]
  },
  {
   "attachments": {},
   "cell_type": "markdown",
   "metadata": {},
   "source": [
    "### Gerando colunas com preços passados"
   ]
  },
  {
   "cell_type": "code",
   "execution_count": null,
   "metadata": {},
   "outputs": [],
   "source": [
    "nPassado = 300\n",
    "nFuturo = 24\n",
    "histM5NP = np.zeros((len(rawDataM5NP)-(nPassado+nFuturo), nPassado+1, 6))\n",
    "for i in tqdm(range(len(histM5NP))):\n",
    "    histM5NP[i, 0, -4:] = rawDataM5NP[i:i+nPassado][-1][-4:]\n",
    "    histM5NP[i, 1:] = rawDataM5NP[i:i+nPassado, :6]"
   ]
  },
  {
   "cell_type": "markdown",
   "metadata": {},
   "source": [
    "### Achar quando comprar, vender ou fazer nada"
   ]
  },
  {
   "cell_type": "code",
   "execution_count": null,
   "metadata": {},
   "outputs": [],
   "source": [
    "pontos = 30\n",
    "y = np.zeros((len(histM5NP)))\n",
    "for i in tqdm(range(len(y))):\n",
    "    ultimoPreco = histM5NP[i, -1, 3]\n",
    "    for j in range(nFuturo):\n",
    "        # nao fazer nada se for mais de 14hs\n",
    "        # if rawNP[nPassado+i+j, -3] > 14:\n",
    "        #     break\n",
    "        # comprar\n",
    "        if rawDataM5NP[nPassado+i+j, 1] >= ultimoPreco + pontos:\n",
    "            y[i] = 1\n",
    "            break\n",
    "        # vender\n",
    "        if rawDataM5NP[nPassado+i+j, 2] <= ultimoPreco - pontos:\n",
    "            y[i] = 2\n",
    "            break"
   ]
  },
  {
   "cell_type": "markdown",
   "metadata": {},
   "source": [
    "# Obtendo histórico D1"
   ]
  },
  {
   "cell_type": "code",
   "execution_count": null,
   "metadata": {},
   "outputs": [],
   "source": [
    "histNP = np.zeros((histM5NP.shape[0], histM5NP.shape[1] + 200, histM5NP.shape[2]))\n",
    "\n",
    "for i in tqdm(range(len(histNP))):\n",
    "    rawDataD1 = obterSimboloData(rawDataM5.index[i+nFuturo])\n",
    "    rawDataD1NP = rawDataD1.to_numpy()\n",
    "    histNP[i, :histM5NP.shape[1]] = histM5NP[i]\n",
    "    histNP[i, histM5NP.shape[1]:] = rawDataD1NP\n",
    "    "
   ]
  },
  {
   "cell_type": "markdown",
   "metadata": {},
   "source": [
    "### Normalização"
   ]
  },
  {
   "cell_type": "code",
   "execution_count": null,
   "metadata": {},
   "outputs": [],
   "source": [
    "histNPNorm = np.zeros(histNP.shape, dtype=np.float64)\n",
    "for i in tqdm(range(len(histNPNorm))):\n",
    "    # preços\n",
    "    vmax = histNP[i, 1:nPassado+1, :4].max()\n",
    "    vmin = histNP[i, 1:nPassado+1, :4].min()\n",
    "    histNPNorm[i, 1:nPassado+1, :4] = (histNP[i, 1:nPassado+1, :4] - vmin) / (vmax - vmin)\n",
    "    # tick volume\n",
    "    vmax = histNP[i, 1:nPassado+1, 4].max()\n",
    "    vmin = histNP[i, 1:nPassado+1, 4].min()\n",
    "    histNPNorm[i, 1:nPassado+1, 4] = (histNP[i, 1:nPassado+1, 4] - vmin) / (vmax - vmin)\n",
    "    # real volume\n",
    "    vmax = histNP[i, 1:nPassado+1, 5].max()\n",
    "    vmin = histNP[i, 1:nPassado+1, 5].min()\n",
    "    histNPNorm[i, 1:nPassado+1, 5] = (histNP[i, 1:nPassado+1, 5] - vmin) / (vmax - vmin)\n",
    "    # preços\n",
    "    vmax = histNP[i, nPassado+1:, :4].max()\n",
    "    vmin = histNP[i, nPassado+1:, :4].min()\n",
    "    histNPNorm[i, nPassado+1:, :4] = (histNP[i, nPassado+1:, :4] - vmin) / (vmax - vmin)\n",
    "    # tick volume\n",
    "    vmax = histNP[i, nPassado+1:, 4].max()\n",
    "    vmin = histNP[i, nPassado+1:, 4].min()\n",
    "    histNPNorm[i, nPassado+1:, 4] = (histNP[i, nPassado+1:, 4] - vmin) / (vmax - vmin)\n",
    "    # real volume\n",
    "    vmax = histNP[i, nPassado+1:, 5].max()\n",
    "    vmin = histNP[i, nPassado+1:, 5].min()\n",
    "    histNPNorm[i, nPassado+1:, 5] = (histNP[i, nPassado+1:, 5] - vmin) / (vmax - vmin)\n",
    "# minuto\n",
    "histNPNorm[:, 0, 2] = histNP[:, 0, 2] / 60\n",
    "# hora\n",
    "histNPNorm[:, 0, 3] = histNP[:, 0, 3] / 24\n",
    "# dia da semana\n",
    "histNPNorm[:, 0, 4] = histNP[:, 0, 4] / 4\n",
    "# dia\n",
    "histNPNorm[:, 0, 5] = histNP[:, 0, 5] / 31\n"
   ]
  },
  {
   "cell_type": "markdown",
   "metadata": {},
   "source": [
    "### Reshape para 1d"
   ]
  },
  {
   "cell_type": "code",
   "execution_count": null,
   "metadata": {},
   "outputs": [],
   "source": [
    "x = np.reshape(histNPNorm, (histNPNorm.shape[0], histNPNorm.shape[1] * histNPNorm.shape[2]))"
   ]
  },
  {
   "cell_type": "markdown",
   "metadata": {},
   "source": [
    "### Balanceamento de Classes"
   ]
  },
  {
   "cell_type": "code",
   "execution_count": null,
   "metadata": {},
   "outputs": [],
   "source": [
    "unicos, contagem = np.unique(y, return_counts=True)\n",
    "print(contagem)\n",
    "plt.pie(contagem, labels=unicos)"
   ]
  },
  {
   "cell_type": "code",
   "execution_count": null,
   "metadata": {},
   "outputs": [],
   "source": [
    "amostra = contagem.min()\n",
    "Amostragem = np.zeros((amostra * 3, x.shape[1], x.shape[2] + 1), dtype=np.float64)\n",
    "\n",
    "for i in range(3):\n",
    "    xClasse_i = x[y == i]\n",
    "    xAmostra = xClasse_i[np.random.choice(xClasse_i.shape[0], size=amostra, replace=False)]\n",
    "    Amostragem[i*amostra:(i+1)*amostra, :, :-1] = xAmostra\n",
    "    Amostragem[i*amostra:(i+1)*amostra, :, -1] = i\n",
    "\n",
    "Amostragem.shape"
   ]
  },
  {
   "cell_type": "code",
   "execution_count": null,
   "metadata": {},
   "outputs": [],
   "source": [
    "np.random.shuffle(Amostragem)\n",
    "x = Amostragem[:, :, :-1]\n",
    "y = Amostragem[:, :, -1][:, 0]\n",
    "y"
   ]
  },
  {
   "cell_type": "code",
   "execution_count": null,
   "metadata": {},
   "outputs": [],
   "source": [
    "unicos, contagem = np.unique(y, return_counts=True)\n",
    "print(contagem)\n",
    "plt.pie(contagem, labels=unicos)"
   ]
  },
  {
   "attachments": {},
   "cell_type": "markdown",
   "metadata": {},
   "source": [
    "### Separar dados de treino e teste"
   ]
  },
  {
   "cell_type": "code",
   "execution_count": null,
   "metadata": {},
   "outputs": [],
   "source": [
    "np.save(open('data/x.npy', 'wb'), x)\n",
    "np.save(open('data/y.npy', 'wb'), y)"
   ]
  },
  {
   "cell_type": "code",
   "execution_count": null,
   "metadata": {},
   "outputs": [],
   "source": [
    "x = np.float64(np.load(open('data/x.npy', 'rb')))\n",
    "y = np.int8(np.load(open('data/y.npy', 'rb')))"
   ]
  },
  {
   "cell_type": "code",
   "execution_count": null,
   "metadata": {},
   "outputs": [],
   "source": [
    "from keras.utils import to_categorical\n",
    "\n",
    "y_one_hot = to_categorical(y, 3)\n",
    "y_one_hot"
   ]
  },
  {
   "cell_type": "code",
   "execution_count": null,
   "metadata": {},
   "outputs": [],
   "source": [
    "# from sklearn.model_selection import train_test_split\n",
    "\n",
    "# x_train, x_test, y_train, y_test = train_test_split(x, y_one_hot, test_size=0.2)"
   ]
  },
  {
   "cell_type": "markdown",
   "metadata": {},
   "source": [
    "# Criar Modelo"
   ]
  },
  {
   "cell_type": "markdown",
   "metadata": {},
   "source": [
    "### Lazy Classifier"
   ]
  },
  {
   "cell_type": "code",
   "execution_count": null,
   "metadata": {},
   "outputs": [],
   "source": [
    "# from lazypredict.Supervised import LazyClassifier\n",
    "# from sklearn.model_selection import train_test_split\n",
    "# import numpy as np\n",
    "\n",
    "# lazyReg = LazyClassifier()\n",
    "# x = np.load(open('data/x.npy', 'rb'))\n",
    "# y = np.load(open('data/y.npy', 'rb'))\n",
    "# x_train, x_test, y_train, y_test = train_test_split(x, y, test_size=0.1)\n",
    "# results, models = lazyReg.fit(x_train, x_test, y_train, y_test)\n",
    "# results"
   ]
  },
  {
   "cell_type": "markdown",
   "metadata": {},
   "source": [
    "### Criando modelos"
   ]
  },
  {
   "cell_type": "code",
   "execution_count": null,
   "metadata": {},
   "outputs": [],
   "source": [
    "from xgboost import XGBClassifier\n",
    "\n",
    "modelo = XGBClassifier(objective=\"multi:softprob\")\n",
    "modelo.fit(x, y)\n",
    "dump(modelo, open(f'models/modeloClassificadorXGBoost{str(x.shape[1])}.pickle', 'wb'))"
   ]
  },
  {
   "cell_type": "code",
   "execution_count": null,
   "metadata": {},
   "outputs": [],
   "source": [
    "from sklearn.ensemble import ExtraTreesClassifier\n",
    "\n",
    "modelo = ExtraTreesClassifier()\n",
    "modelo.fit(x, y)\n",
    "dump(modelo, open(f'models/modeloClassificadorExtraTrees{str(x.shape[1])}.pickle', 'wb'))"
   ]
  },
  {
   "cell_type": "code",
   "execution_count": null,
   "metadata": {},
   "outputs": [],
   "source": [
    "from sklearn.neighbors import KNeighborsClassifier\n",
    "\n",
    "modelo = KNeighborsClassifier()\n",
    "modelo.fit(x, y)\n",
    "dump(modelo, open(f'models/modeloClassificadorKNN{str(x.shape[1])}.pickle', 'wb'))"
   ]
  },
  {
   "cell_type": "markdown",
   "metadata": {},
   "source": [
    "# Pontuação de treino e teste"
   ]
  },
  {
   "cell_type": "code",
   "execution_count": null,
   "metadata": {},
   "outputs": [],
   "source": [
    "from sklearn.metrics import classification_report, ConfusionMatrixDisplay\n",
    "\n",
    "modelo = load(open(f'models/modeloClassificadorXGBoost3006.pickle', 'rb'))"
   ]
  },
  {
   "cell_type": "code",
   "execution_count": null,
   "metadata": {},
   "outputs": [],
   "source": [
    "print(classification_report(y, modelo.predict(x)))"
   ]
  },
  {
   "cell_type": "code",
   "execution_count": null,
   "metadata": {},
   "outputs": [],
   "source": [
    "# print(classification_report(y_train, modelo.predict(x_train)))"
   ]
  },
  {
   "cell_type": "code",
   "execution_count": null,
   "metadata": {},
   "outputs": [],
   "source": [
    "# print(classification_report(y_test, modelo.predict(x_test)))"
   ]
  },
  {
   "cell_type": "code",
   "execution_count": null,
   "metadata": {},
   "outputs": [],
   "source": [
    "ConfusionMatrixDisplay.from_estimator(modelo, x, y)"
   ]
  },
  {
   "cell_type": "code",
   "execution_count": null,
   "metadata": {},
   "outputs": [],
   "source": [
    "# ConfusionMatrixDisplay.from_estimator(modelo, x_train, y_train)"
   ]
  },
  {
   "cell_type": "code",
   "execution_count": null,
   "metadata": {},
   "outputs": [],
   "source": [
    "# ConfusionMatrixDisplay.from_estimator(modelo, x_test, y_test)"
   ]
  },
  {
   "cell_type": "markdown",
   "metadata": {},
   "source": [
    "# Teste Finaceiro"
   ]
  },
  {
   "cell_type": "code",
   "execution_count": 31,
   "metadata": {},
   "outputs": [
    {
     "name": "stderr",
     "output_type": "stream",
     "text": [
      "100%|██████████| 1081/1081 [05:06<00:00,  3.53it/s]"
     ]
    },
    {
     "name": "stdout",
     "output_type": "stream",
     "text": [
      "Total: 204.5\n",
      "Operações:  {\n",
      "    \"longSuccess\": [\n",
      "        3,\n",
      "        96.5\n",
      "    ],\n",
      "    \"longFail\": [\n",
      "        0,\n",
      "        0\n",
      "    ],\n",
      "    \"longEndSuccess\": [\n",
      "        0,\n",
      "        0\n",
      "    ],\n",
      "    \"longEndFail\": [\n",
      "        0,\n",
      "        0\n",
      "    ],\n",
      "    \"shortSuccess\": [\n",
      "        3,\n",
      "        108.0\n",
      "    ],\n",
      "    \"shortFail\": [\n",
      "        0,\n",
      "        0\n",
      "    ],\n",
      "    \"shortEndSuccess\": [\n",
      "        0,\n",
      "        0\n",
      "    ],\n",
      "    \"shortEndFail\": [\n",
      "        0,\n",
      "        0\n",
      "    ]\n",
      "}\n"
     ]
    },
    {
     "name": "stderr",
     "output_type": "stream",
     "text": [
      "\n"
     ]
    }
   ],
   "source": [
    "from json import dumps\n",
    "\n",
    "target = 30\n",
    "stop = 10\n",
    "timeLimit = 24\n",
    "total = 0\n",
    "long = False\n",
    "short = False\n",
    "position = 0\n",
    "candle = -1\n",
    "operacoes = {\n",
    "    'longSuccess' : [0, 0],\n",
    "    'longFail' : [0, 0],\n",
    "    'longEndSuccess' : [0, 0],\n",
    "    'longEndFail' : [0, 0],\n",
    "    'shortSuccess' : [0, 0],\n",
    "    'shortFail' : [0, 0],\n",
    "    'shortEndSuccess' : [0, 0],\n",
    "    'shortEndFail' : [0, 0],\n",
    "}\n",
    "for i in tqdm(range(10*108, -1, -1)):\n",
    "    histM5 = obterSimboloPosicao('WDO$N', n=300, delayCandles=i)\n",
    "    histM5['minute'] = histM5.index.minute\n",
    "    histM5['hour'] = histM5.index.hour\n",
    "    histM5['day_of_week'] = histM5.index.day_of_week\n",
    "    histM5['day'] = histM5.index.day\n",
    "    histM5NP = histM5.to_numpy()\n",
    "    hist = np.zeros((501, 6))\n",
    "    hist[0, -4:] = histM5NP[-1][-4:]\n",
    "    hist[1:301] = histM5NP[:, :6]\n",
    "    histD1 = obterSimboloData(histM5.index[-1])\n",
    "    histD1NP = histD1.to_numpy()\n",
    "    hist[301:] = histD1NP\n",
    "    vmax = hist[1:301, :4].max()\n",
    "    vmin = hist[1:301, :4].min()\n",
    "    hist[1:301, :4] = (hist[1:301, :4] - vmin) / (vmax - vmin)\n",
    "    vmax = hist[1:301, 4].max()\n",
    "    vmin = hist[1:301, 4].min()\n",
    "    hist[1:301, 4] = (hist[1:301, 4] - vmin) / (vmax - vmin)\n",
    "    vmax = hist[1:301, 5].max()\n",
    "    vmin = hist[1:301, 5].min()\n",
    "    hist[1:301, 5] = (hist[1:301, 5] - vmin) / (vmax - vmin)\n",
    "    vmax = hist[301:, :4].max()\n",
    "    vmin = hist[301:, :4].min()\n",
    "    hist[301:, :4] = (hist[301:, :4] - vmin) / (vmax - vmin)\n",
    "    vmax = hist[301:, 4].max()\n",
    "    vmin = hist[301:, 4].min()\n",
    "    hist[301:, 4] = (hist[301:, 4] - vmin) / (vmax - vmin)\n",
    "    vmax = hist[301:, 5].max()\n",
    "    vmin = hist[301:, 5].min()\n",
    "    hist[301:, 5] = (hist[301:, 5] - vmin) / (vmax - vmin)\n",
    "    hist[0, 2] /= 60\n",
    "    hist[0, 3] /= 24\n",
    "    hist[0, 4] /= 4\n",
    "    hist[0, 5] /= 31\n",
    "    priceNow = histM5['close'].iloc[-1]\n",
    "    if long:\n",
    "        if priceNow >= position + target:\n",
    "            total += priceNow - position\n",
    "            long = False\n",
    "            operacoes['longSuccess'][0] += 1\n",
    "            operacoes['longSuccess'][1] += priceNow - position\n",
    "        if priceNow <= position - stop:\n",
    "            total += priceNow - position\n",
    "            long = False\n",
    "            operacoes['longFail'][0] += 1\n",
    "            operacoes['longFail'][1] += priceNow - position\n",
    "        if i >= candle + timeLimit:\n",
    "            total += priceNow - position\n",
    "            long = False\n",
    "            if priceNow - position > 0:\n",
    "                operacoes['longEndSuccess'][0] += 1\n",
    "                operacoes['longEndSuccess'][1] += priceNow - position\n",
    "            else:\n",
    "                operacoes['longEndFail'][0] += 1\n",
    "                operacoes['longEndFail'][1] += priceNow - position\n",
    "        continue\n",
    "    if short:\n",
    "        if priceNow <= position - target:\n",
    "            total += position - priceNow\n",
    "            short = False\n",
    "            operacoes['shortSuccess'][0] += 1\n",
    "            operacoes['shortSuccess'][1] += position - priceNow\n",
    "        if priceNow >= position + stop:\n",
    "            total += position - priceNow\n",
    "            short = False\n",
    "            operacoes['shortFail'][0] += 1\n",
    "            operacoes['shortFail'][1] += position - priceNow\n",
    "        if i >= candle + timeLimit:\n",
    "            total += position - priceNow\n",
    "            short = False\n",
    "            if position - priceNow > 0:\n",
    "                operacoes['shortEndSuccess'][0] += 1\n",
    "                operacoes['shortEndSuccess'][1] += position - priceNow\n",
    "            else:\n",
    "                operacoes['shortEndFail'][0] += 1\n",
    "                operacoes['shortEndFail'][1] += position - priceNow\n",
    "        continue\n",
    "\n",
    "    previsao = modelo.predict(np.array([hist.flatten()]))[0]\n",
    "    if previsao == 1:\n",
    "        long = True\n",
    "        position = priceNow\n",
    "        candle = i\n",
    "    if previsao == 2:\n",
    "        short = True\n",
    "        position = priceNow\n",
    "        candle = i\n",
    "\n",
    "print('Total:', total)\n",
    "print('Operações: ', dumps(operacoes, indent=4))"
   ]
  }
 ],
 "metadata": {
  "kernelspec": {
   "display_name": "Python 3",
   "language": "python",
   "name": "python3"
  },
  "language_info": {
   "codemirror_mode": {
    "name": "ipython",
    "version": 3
   },
   "file_extension": ".py",
   "mimetype": "text/x-python",
   "name": "python",
   "nbconvert_exporter": "python",
   "pygments_lexer": "ipython3",
   "version": "3.10.8"
  },
  "orig_nbformat": 4
 },
 "nbformat": 4,
 "nbformat_minor": 2
}
