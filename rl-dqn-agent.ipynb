{
 "cells": [
  {
   "attachments": {},
   "cell_type": "markdown",
   "metadata": {},
   "source": [
    "# Bibliotecas"
   ]
  },
  {
   "cell_type": "code",
   "execution_count": null,
   "metadata": {},
   "outputs": [],
   "source": [
    "from obterDados import obterSimboloPosicao, obterSimboloData\n",
    "import numpy as np\n",
    "import tensorflow as tf\n",
    "import gymnasium as gym\n",
    "import gym_anytrading\n",
    "from stable_baselines3 import DQN\n",
    "from json import dumps"
   ]
  },
  {
   "cell_type": "markdown",
   "metadata": {},
   "source": [
    "# Obtendo dados de M5 e D1"
   ]
  },
  {
   "cell_type": "code",
   "execution_count": null,
   "metadata": {},
   "outputs": [],
   "source": [
    "rawDataM5 = obterSimboloPosicao()[:-100*108]\n",
    "rawDataM5"
   ]
  },
  {
   "cell_type": "code",
   "execution_count": null,
   "metadata": {},
   "outputs": [],
   "source": [
    "rawDataD1 = obterSimboloData(rawDataM5.index[-1], n=int(len(rawDataM5)/108)+200)\n",
    "rawDataD1"
   ]
  },
  {
   "cell_type": "markdown",
   "metadata": {},
   "source": [
    "# Criando ambiente e testando aleatoriamente"
   ]
  },
  {
   "cell_type": "code",
   "execution_count": null,
   "metadata": {},
   "outputs": [],
   "source": [
    "from customTradingEnv2 import CustomTradingEnv\n",
    "\n",
    "env = CustomTradingEnv(df_5min=rawDataM5, df_daily=rawDataD1)"
   ]
  },
  {
   "cell_type": "code",
   "execution_count": null,
   "metadata": {},
   "outputs": [],
   "source": [
    "# observation = env.reset()\n",
    "# done = False\n",
    "# cont = 0\n",
    "# while not done:\n",
    "#     action = env.action_space.sample()\n",
    "#     observation, reward, done, info = env.step(action)\n",
    "\n",
    "# info"
   ]
  },
  {
   "cell_type": "markdown",
   "metadata": {},
   "source": [
    "# Treinando modelo com aprendizado por reforço"
   ]
  },
  {
   "cell_type": "code",
   "execution_count": null,
   "metadata": {},
   "outputs": [],
   "source": [
    "from stable_baselines3.common.callbacks import CheckpointCallback\n",
    "\n",
    "modelo = DQN('MultiInputPolicy', env, verbose=1, tensorboard_log='logs/dqn/', exploration_final_eps=0.2)\n",
    "\n",
    "models_dir = 'models/DQN'\n",
    "checkpointCallback = CheckpointCallback(save_freq=10000, save_path=models_dir)\n",
    "modelo.learn(total_timesteps=len(rawDataM5)*200, callback=checkpointCallback)"
   ]
  },
  {
   "cell_type": "markdown",
   "metadata": {},
   "source": [
    "### Continuar treinamento a partir de modelo salvo"
   ]
  },
  {
   "cell_type": "code",
   "execution_count": null,
   "metadata": {},
   "outputs": [],
   "source": [
    "from stable_baselines3.common.callbacks import CheckpointCallback\n",
    "\n",
    "models_dir = 'models/DQN'\n",
    "model_path = f\"{models_dir}/rl_model_3810000_steps.zip\"\n",
    "modelo = DQN.load(model_path, env=env)\n",
    "checkpointCallback = CheckpointCallback(save_freq=10000, save_path=models_dir)\n",
    "modelo.learn(total_timesteps=len(rawDataM5)*300, callback=checkpointCallback, reset_num_timesteps=False)"
   ]
  },
  {
   "cell_type": "markdown",
   "metadata": {},
   "source": [
    "# Testando modelo treinado"
   ]
  },
  {
   "cell_type": "code",
   "execution_count": null,
   "metadata": {},
   "outputs": [],
   "source": [
    "testDataM5 = obterSimboloPosicao()[-(20*108+300):]\n",
    "testDataD1 = obterSimboloData(testDataM5.index[-1], n=int(len(testDataM5)/108)+200)"
   ]
  },
  {
   "cell_type": "code",
   "execution_count": null,
   "metadata": {},
   "outputs": [],
   "source": [
    "from customTradingEnv2 import CustomTradingEnv\n",
    "\n",
    "env = CustomTradingEnv(df_5min=testDataM5, df_daily=testDataD1)"
   ]
  },
  {
   "cell_type": "code",
   "execution_count": null,
   "metadata": {},
   "outputs": [],
   "source": [
    "models_dir = 'models/DQN'\n",
    "model_path = f\"{models_dir}/rl_model_6020000_steps.zip\"\n",
    "modelo = DQN.load(model_path, env=env)"
   ]
  },
  {
   "cell_type": "code",
   "execution_count": null,
   "metadata": {},
   "outputs": [],
   "source": [
    "observation = env.reset()\n",
    "done = False\n",
    "while not done:\n",
    "    action = modelo.predict(observation)\n",
    "    observation, reward, done, info = env.step(int(action[0]))\n",
    "    # env.render()\n",
    "\n",
    "info"
   ]
  },
  {
   "cell_type": "code",
   "execution_count": null,
   "metadata": {},
   "outputs": [],
   "source": [
    "from matplotlib import pyplot as plt\n",
    "\n",
    "plt.figure(figsize=(200, 50))\n",
    "plt.plot(testDataM5['Close'].to_numpy())\n",
    "for (idx, action, price) in info['trades']:\n",
    "    if action == 'Buy':\n",
    "        plt.plot(idx, price, 'o', color='g')\n",
    "    if action == 'Sell':\n",
    "        plt.plot(idx, price, 'o', color='r')\n",
    "plt.show()"
   ]
  }
 ],
 "metadata": {
  "kernelspec": {
   "display_name": "Python 3",
   "language": "python",
   "name": "python3"
  },
  "language_info": {
   "codemirror_mode": {
    "name": "ipython",
    "version": 3
   },
   "file_extension": ".py",
   "mimetype": "text/x-python",
   "name": "python",
   "nbconvert_exporter": "python",
   "pygments_lexer": "ipython3",
   "version": "3.10.8"
  },
  "orig_nbformat": 4
 },
 "nbformat": 4,
 "nbformat_minor": 2
}
