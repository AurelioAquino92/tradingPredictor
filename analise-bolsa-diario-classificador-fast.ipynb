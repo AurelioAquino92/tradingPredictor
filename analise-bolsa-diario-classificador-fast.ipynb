{
 "cells": [
  {
   "attachments": {},
   "cell_type": "markdown",
   "metadata": {},
   "source": [
    "# Bibliotecas"
   ]
  },
  {
   "cell_type": "code",
   "execution_count": null,
   "metadata": {},
   "outputs": [],
   "source": [
    "from sklearn.metrics import r2_score, mean_squared_error\n",
    "from obterDados import obterSimbolo\n",
    "import numpy as np\n",
    "from tqdm import tqdm\n",
    "from matplotlib import pyplot as plt"
   ]
  },
  {
   "attachments": {},
   "cell_type": "markdown",
   "metadata": {},
   "source": [
    "# Obtendo dados"
   ]
  },
  {
   "cell_type": "code",
   "execution_count": null,
   "metadata": {},
   "outputs": [],
   "source": [
    "rawDataM5 = obterSimbolo('WDO$N')\n",
    "rawDataM5"
   ]
  },
  {
   "cell_type": "code",
   "execution_count": null,
   "metadata": {},
   "outputs": [],
   "source": [
    "rawDataM5 = rawDataM5.drop(columns=['spread'])\n",
    "rawDataM5['hour'] = rawDataM5.index.hour\n",
    "rawNP = rawDataM5.to_numpy()\n",
    "rawNP"
   ]
  },
  {
   "attachments": {},
   "cell_type": "markdown",
   "metadata": {},
   "source": [
    "# Tratamento de Dados"
   ]
  },
  {
   "attachments": {},
   "cell_type": "markdown",
   "metadata": {},
   "source": [
    "### Gerando colunas com preços passados"
   ]
  },
  {
   "cell_type": "code",
   "execution_count": 4,
   "metadata": {},
   "outputs": [
    {
     "name": "stderr",
     "output_type": "stream",
     "text": [
      "100%|██████████| 98975/98975 [00:03<00:00, 25127.50it/s]\n"
     ]
    }
   ],
   "source": [
    "nPassado = 1000\n",
    "nFuturo = 24\n",
    "histNp = np.zeros((len(rawNP)-(nPassado+nFuturo), nPassado, 7))\n",
    "for i in tqdm(range(len(histNp))):\n",
    "    histNp[i] = rawNP[i:i+nPassado]"
   ]
  },
  {
   "cell_type": "markdown",
   "metadata": {},
   "source": [
    "### Achar quando comprar, vender ou fazer nada"
   ]
  },
  {
   "cell_type": "code",
   "execution_count": 5,
   "metadata": {},
   "outputs": [
    {
     "name": "stderr",
     "output_type": "stream",
     "text": [
      "100%|██████████| 98975/98975 [00:01<00:00, 56465.58it/s]\n"
     ]
    }
   ],
   "source": [
    "pontos = 30\n",
    "y = np.zeros((len(histNp)))\n",
    "# y[:, 0] = 1\n",
    "for i in tqdm(range(len(y))):\n",
    "    ultimoPreco = histNp[i, -1, 3]\n",
    "    for j in range(nFuturo):\n",
    "        # nao fazer nada se for mais de 14hs\n",
    "        if rawNP[nPassado+i+j, -1] > 14:\n",
    "            break\n",
    "        # comprar\n",
    "        if rawNP[nPassado+i+j, 1] >= ultimoPreco + pontos:\n",
    "            y[i] = 1\n",
    "            break\n",
    "        # vender\n",
    "        if rawNP[nPassado+i+j, 2] <= ultimoPreco - pontos:\n",
    "            y[i] = 2\n",
    "            break\n"
   ]
  },
  {
   "cell_type": "markdown",
   "metadata": {},
   "source": [
    "### Normalização"
   ]
  },
  {
   "cell_type": "code",
   "execution_count": 6,
   "metadata": {},
   "outputs": [
    {
     "name": "stderr",
     "output_type": "stream",
     "text": [
      "100%|██████████| 98975/98975 [01:07<00:00, 1464.96it/s]\n"
     ]
    }
   ],
   "source": [
    "histNpNorm = np.zeros(histNp.shape)\n",
    "for i in tqdm(range(len(histNpNorm))):\n",
    "    # preços\n",
    "    vmax = histNp[i, :, :4].max()\n",
    "    vmin = histNp[i, :, :4].min()\n",
    "    histNpNorm[i, :, :4] = (histNp[i, :, :4] - vmin) / (vmax - vmin)\n",
    "    # tick volume\n",
    "    vmax = histNp[i, :, 4].max()\n",
    "    vmin = histNp[i, :, 4].min()\n",
    "    histNpNorm[i, :, 4] = (histNp[i, :, 4] - vmin) / (vmax - vmin)\n",
    "    # real volume\n",
    "    vmax = histNp[i, :, 5].max()\n",
    "    vmin = histNp[i, :, 5].min()\n",
    "    histNpNorm[i, :, 5] = (histNp[i, :, 5] - vmin) / (vmax - vmin)\n",
    "    # hora\n",
    "    histNpNorm[i, :, 6] = histNp[i, :, 6] / 24\n"
   ]
  },
  {
   "cell_type": "markdown",
   "metadata": {},
   "source": [
    "### Reshape para 2d"
   ]
  },
  {
   "cell_type": "code",
   "execution_count": 7,
   "metadata": {},
   "outputs": [],
   "source": [
    "x = np.reshape(histNpNorm, (histNpNorm.shape[0], histNpNorm.shape[1] * histNpNorm.shape[2]))"
   ]
  },
  {
   "cell_type": "markdown",
   "metadata": {},
   "source": [
    "### Balanceamento de Classes"
   ]
  },
  {
   "cell_type": "code",
   "execution_count": 8,
   "metadata": {},
   "outputs": [
    {
     "name": "stdout",
     "output_type": "stream",
     "text": [
      "[76497 10871 11607]\n"
     ]
    },
    {
     "data": {
      "text/plain": [
       "([<matplotlib.patches.Wedge at 0x1ecf323d630>,\n",
       "  <matplotlib.patches.Wedge at 0x1ecf323c6a0>,\n",
       "  <matplotlib.patches.Wedge at 0x1ecf323dcf0>],\n",
       " [Text(-0.8316974699896298, 0.719916188464219, '0.0'),\n",
       "  Text(0.5166155074023258, -0.9711376923544044, '1.0'),\n",
       "  Text(1.0261868416523983, -0.39615724910630606, '2.0')])"
      ]
     },
     "execution_count": 8,
     "metadata": {},
     "output_type": "execute_result"
    },
    {
     "data": {
      "image/png": "[encoded data removed]",
      "text/plain": [
       "<Figure size 640x480 with 1 Axes>"
      ]
     },
     "metadata": {},
     "output_type": "display_data"
    }
   ],
   "source": [
    "unicos, contagem = np.unique(y, return_counts=True)\n",
    "print(contagem)\n",
    "plt.pie(contagem, labels=unicos)"
   ]
  },
  {
   "cell_type": "code",
   "execution_count": 9,
   "metadata": {},
   "outputs": [
    {
     "name": "stdout",
     "output_type": "stream",
     "text": [
      "[10871 10871 10871]\n"
     ]
    },
    {
     "data": {
      "text/plain": [
       "([<matplotlib.patches.Wedge at 0x1ecf3646230>,\n",
       "  <matplotlib.patches.Wedge at 0x1ecf3646710>,\n",
       "  <matplotlib.patches.Wedge at 0x1ecf3646ad0>],\n",
       " [Text(0.5499999702695115, 0.9526279613277875, '0.0'),\n",
       "  Text(-1.0999999999999954, -1.0298943258065002e-07, '1.0'),\n",
       "  Text(0.5500001486524352, -0.9526278583383436, '2.0')])"
      ]
     },
     "execution_count": 9,
     "metadata": {},
     "output_type": "execute_result"
    },
    {
     "data": {
      "image/png": "[encoded data removed]",
      "text/plain": [
       "<Figure size 640x480 with 1 Axes>"
      ]
     },
     "metadata": {},
     "output_type": "display_data"
    }
   ],
   "source": [
    "amostra = contagem.min()\n",
    "Amostragem = np.zeros((amostra * 3, x.shape[1] + 1))\n",
    "\n",
    "for i in range(3):\n",
    "    xClasse_i = x[y == i]\n",
    "    xAmostra = xClasse_i[np.random.choice(xClasse_i.shape[0], size=amostra, replace=False)]\n",
    "    Amostragem[i*amostra:(i+1)*amostra, :-1] = xAmostra\n",
    "    Amostragem[i*amostra:(i+1)*amostra, -1] = i\n",
    "\n",
    "np.random.shuffle(Amostragem)\n",
    "x = Amostragem[:, :-1]\n",
    "y = Amostragem[:, -1]\n",
    "\n",
    "unicos, contagem = np.unique(y, return_counts=True)\n",
    "print(contagem)\n",
    "plt.pie(contagem, labels=unicos)"
   ]
  },
  {
   "attachments": {},
   "cell_type": "markdown",
   "metadata": {},
   "source": [
    "### Separar dados de treino e teste"
   ]
  },
  {
   "cell_type": "code",
   "execution_count": 10,
   "metadata": {},
   "outputs": [],
   "source": [
    "from sklearn.model_selection import train_test_split\n",
    "x_train, x_test, y_train, y_test = train_test_split(x, y, test_size=0.2)"
   ]
  },
  {
   "cell_type": "markdown",
   "metadata": {},
   "source": [
    "# Criar Modelo"
   ]
  },
  {
   "attachments": {},
   "cell_type": "markdown",
   "metadata": {},
   "source": [
    "### Lazy Classifier"
   ]
  },
  {
   "cell_type": "code",
   "execution_count": 11,
   "metadata": {},
   "outputs": [
    {
     "name": "stderr",
     "output_type": "stream",
     "text": [
      "  0%|          | 0/29 [00:00<?, ?it/s]"
     ]
    }
   ],
   "source": [
    "from lazypredict.Supervised import LazyClassifier\n",
    "\n",
    "lazyReg = LazyClassifier()\n",
    "lazyReg.fit(x_train, x_test, y_train, y_test)"
   ]
  },
  {
   "attachments": {},
   "cell_type": "markdown",
   "metadata": {},
   "source": [
    "### Criando um dos modelos encontrados"
   ]
  },
  {
   "cell_type": "code",
   "execution_count": null,
   "metadata": {},
   "outputs": [],
   "source": [
    "from sklearn.ensemble import AdaBoostClassifier\n",
    "from sklearn.neural_network import MLPClassifier\n",
    "from xgboost import XGBClassifier\n",
    "import pickle\n",
    "\n",
    "# modelo = MLPClassifier(verbose=True)\n",
    "# modelo = AdaBoostClassifier()\n",
    "modelo = XGBClassifier(objective=\"multi:softprob\")\n",
    "# modelo.fit(x_train, y_train, sample_weight=pesos)\n",
    "modelo.fit(x_train, y_train)\n",
    "# pickle.dump(modelo, open('models/modeloClassificadorMLP.pickle', 'wb'))\n",
    "# pickle.dump(modelo, open('models/modeloClassificadorAdaBoost.pickle', 'wb'))\n",
    "pickle.dump(modelo, open('models/modeloClassificadorXGBoost.pickle', 'wb'))"
   ]
  },
  {
   "cell_type": "markdown",
   "metadata": {},
   "source": [
    "# Pontuação de treino e teste"
   ]
  },
  {
   "cell_type": "code",
   "execution_count": null,
   "metadata": {},
   "outputs": [],
   "source": [
    "from sklearn.metrics import classification_report, ConfusionMatrixDisplay\n",
    "from pickle import load\n",
    "\n",
    "modelo = load(open('models/modeloClassificadorXGBoost.pickle', 'rb'))"
   ]
  },
  {
   "cell_type": "code",
   "execution_count": null,
   "metadata": {},
   "outputs": [],
   "source": [
    "print(classification_report(y_train, modelo.predict(x_train)))"
   ]
  },
  {
   "cell_type": "code",
   "execution_count": null,
   "metadata": {},
   "outputs": [],
   "source": [
    "print(classification_report(y_test, modelo.predict(x_test)))"
   ]
  },
  {
   "cell_type": "code",
   "execution_count": null,
   "metadata": {},
   "outputs": [],
   "source": [
    "ConfusionMatrixDisplay.from_estimator(modelo, x_train, y_train)"
   ]
  },
  {
   "cell_type": "code",
   "execution_count": null,
   "metadata": {},
   "outputs": [],
   "source": [
    "ConfusionMatrixDisplay.from_estimator(modelo, x_test, y_test)"
   ]
  },
  {
   "cell_type": "markdown",
   "metadata": {},
   "source": [
    "# Teste Finaceiro"
   ]
  },
  {
   "cell_type": "code",
   "execution_count": null,
   "metadata": {},
   "outputs": [],
   "source": [
    "from json import dumps\n",
    "\n",
    "target = 30\n",
    "stop = 10\n",
    "timeLimit = 24\n",
    "total = 0\n",
    "long = False\n",
    "short = False\n",
    "position = 0\n",
    "candle = -1\n",
    "operacoes = {\n",
    "    'longSuccess' : [0, 0],\n",
    "    'longFail' : [0, 0],\n",
    "    'longEndSuccess' : [0, 0],\n",
    "    'longEndFail' : [0, 0],\n",
    "    'shortSuccess' : [0, 0],\n",
    "    'shortFail' : [0, 0],\n",
    "    'shortEndSuccess' : [0, 0],\n",
    "    'shortEndFail' : [0, 0],\n",
    "}\n",
    "for i in tqdm(range(len(x_test))):\n",
    "    priceNow = rawNP[-(splitDays+nPassado):][i+nPassado, 3]\n",
    "    if long:\n",
    "        if priceNow >= position + target:\n",
    "            total += priceNow - position\n",
    "            long = False\n",
    "            operacoes['longSuccess'][0] += 1\n",
    "            operacoes['longSuccess'][1] += priceNow - position\n",
    "        if priceNow <= position - stop:\n",
    "            total += priceNow - position\n",
    "            long = False\n",
    "            operacoes['longFail'][0] += 1\n",
    "            operacoes['longFail'][1] += priceNow - position\n",
    "        if i >= candle + timeLimit:\n",
    "            total += priceNow - position\n",
    "            long = False\n",
    "            if priceNow - position > 0:\n",
    "                operacoes['longEndSuccess'][0] += 1\n",
    "                operacoes['longEndSuccess'][1] += priceNow - position\n",
    "            else:\n",
    "                operacoes['longEndFail'][0] += 1\n",
    "                operacoes['longEndFail'][1] += priceNow - position\n",
    "        continue\n",
    "    if short:\n",
    "        if priceNow <= position - target:\n",
    "            total += position - priceNow\n",
    "            short = False\n",
    "            operacoes['shortSuccess'][0] += 1\n",
    "            operacoes['shortSuccess'][1] += position - priceNow\n",
    "        if priceNow >= position + stop:\n",
    "            total += position - priceNow\n",
    "            short = False\n",
    "            operacoes['shortFail'][0] += 1\n",
    "            operacoes['shortFail'][1] += position - priceNow\n",
    "        if i >= candle + timeLimit:\n",
    "            total += position - priceNow\n",
    "            short = False\n",
    "            if position - priceNow > 0:\n",
    "                operacoes['shortEndSuccess'][0] += 1\n",
    "                operacoes['shortEndSuccess'][1] += position - priceNow\n",
    "            else:\n",
    "                operacoes['shortEndFail'][0] += 1\n",
    "                operacoes['shortEndFail'][1] += position - priceNow\n",
    "        continue\n",
    "\n",
    "    previsao = modelo.predict([x_test[i]])[0]\n",
    "    if previsao == 1:\n",
    "        long = True\n",
    "        position = priceNow\n",
    "        candle = i\n",
    "    if previsao == 2:\n",
    "        short = True\n",
    "        position = priceNow\n",
    "        candle = i\n",
    "\n",
    "print('Total:', total)\n",
    "print('Operações: ', dumps(operacoes, indent=4))"
   ]
  }
 ],
 "metadata": {
  "kernelspec": {
   "display_name": "Python 3",
   "language": "python",
   "name": "python3"
  },
  "language_info": {
   "codemirror_mode": {
    "name": "ipython",
    "version": 3
   },
   "file_extension": ".py",
   "mimetype": "text/x-python",
   "name": "python",
   "nbconvert_exporter": "python",
   "pygments_lexer": "ipython3",
   "version": "3.10.8"
  },
  "orig_nbformat": 4
 },
 "nbformat": 4,
 "nbformat_minor": 2
}
