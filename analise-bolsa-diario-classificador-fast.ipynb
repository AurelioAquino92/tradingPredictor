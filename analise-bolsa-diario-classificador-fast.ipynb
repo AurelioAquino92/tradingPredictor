{
 "cells": [
  {
   "attachments": {},
   "cell_type": "markdown",
   "metadata": {},
   "source": [
    "# Bibliotecas"
   ]
  },
  {
   "cell_type": "code",
   "execution_count": null,
   "metadata": {},
   "outputs": [],
   "source": [
    "from sklearn.metrics import r2_score, mean_squared_error\n",
    "from obterDados import obterSimbolo\n",
    "import numpy as np\n",
    "from tqdm import tqdm"
   ]
  },
  {
   "attachments": {},
   "cell_type": "markdown",
   "metadata": {},
   "source": [
    "# Obtendo dados"
   ]
  },
  {
   "cell_type": "code",
   "execution_count": null,
   "metadata": {},
   "outputs": [],
   "source": [
    "rawDataM5 = obterSimbolo('WDO$')\n",
    "rawDataM5"
   ]
  },
  {
   "cell_type": "code",
   "execution_count": null,
   "metadata": {},
   "outputs": [],
   "source": [
    "rawDataM5 = rawDataM5.drop(columns=['spread'])\n",
    "rawDataM5['hour'] = rawDataM5.index.hour\n",
    "rawNP = rawDataM5.to_numpy()\n",
    "rawNP"
   ]
  },
  {
   "attachments": {},
   "cell_type": "markdown",
   "metadata": {},
   "source": [
    "# Tratamento de Dados"
   ]
  },
  {
   "attachments": {},
   "cell_type": "markdown",
   "metadata": {},
   "source": [
    "### Gerando colunas com preços passados"
   ]
  },
  {
   "cell_type": "code",
   "execution_count": null,
   "metadata": {},
   "outputs": [],
   "source": [
    "nPassado = 1000\n",
    "nFuturo = 24\n",
    "histNp = np.zeros((len(rawNP)-(nPassado+nFuturo), nPassado, 7))\n",
    "for i in tqdm(range(len(histNp))):\n",
    "    histNp[i] = rawNP[i:i+nPassado]"
   ]
  },
  {
   "cell_type": "markdown",
   "metadata": {},
   "source": [
    "### Achar quando comprar, vender ou fazer nada"
   ]
  },
  {
   "cell_type": "code",
   "execution_count": null,
   "metadata": {},
   "outputs": [],
   "source": [
    "pontos = 30\n",
    "y = np.zeros((len(histNp), 3))\n",
    "y[:, 0] = 1\n",
    "for i in tqdm(range(len(y))):\n",
    "    ultimoPreco = histNp[i, -1, 3]\n",
    "    for j in range(nFuturo):\n",
    "        # nao fazer nada se for mais de 14hs\n",
    "        if rawNP[nPassado+i+j, -1] > 14:\n",
    "            break\n",
    "        # comprar\n",
    "        if rawNP[nPassado+i+j, 1] >= ultimoPreco + pontos:\n",
    "            y[i, 0] = 0\n",
    "            y[i, 1] = 1\n",
    "            break\n",
    "        # vender\n",
    "        if rawNP[nPassado+i+j, 2] <= ultimoPreco - pontos:\n",
    "            y[i, 0] = 0\n",
    "            y[i, 2] = 1\n",
    "            break"
   ]
  },
  {
   "cell_type": "markdown",
   "metadata": {},
   "source": [
    "### Normalização"
   ]
  },
  {
   "cell_type": "code",
   "execution_count": null,
   "metadata": {},
   "outputs": [],
   "source": [
    "histNpNorm = np.zeros(histNp.shape)\n",
    "for i in tqdm(range(len(histNpNorm))):\n",
    "    # preços\n",
    "    vmax = histNp[i, :, :4].max()\n",
    "    vmin = histNp[i, :, :4].min()\n",
    "    histNpNorm[i, :, :4] = (histNp[i, :, :4] - vmin) / (vmax - vmin)\n",
    "    # tick volume\n",
    "    vmax = histNp[i, :, 4].max()\n",
    "    vmin = histNp[i, :, 4].min()\n",
    "    histNpNorm[i, :, 4] = (histNp[i, :, 4] - vmin) / (vmax - vmin)\n",
    "    # real volume\n",
    "    vmax = histNp[i, :, 5].max()\n",
    "    vmin = histNp[i, :, 5].min()\n",
    "    histNpNorm[i, :, 5] = (histNp[i, :, 5] - vmin) / (vmax - vmin)\n",
    "    # hora\n",
    "    histNpNorm[i, :, 6] = histNp[i, :, 6] / 24\n"
   ]
  },
  {
   "attachments": {},
   "cell_type": "markdown",
   "metadata": {},
   "source": [
    "### Separar dados de treino e teste"
   ]
  },
  {
   "cell_type": "code",
   "execution_count": null,
   "metadata": {},
   "outputs": [],
   "source": [
    "splitDays = 108 * 200\n",
    "x = np.reshape(histNpNorm, (histNpNorm.shape[0], histNpNorm.shape[1] * histNpNorm.shape[2]))\n",
    "x_train = x[:-splitDays]\n",
    "x_test = x[-splitDays:]\n",
    "y_train = y[:-splitDays]\n",
    "y_test = y[-splitDays:]"
   ]
  },
  {
   "cell_type": "markdown",
   "metadata": {},
   "source": [
    "# Criar Modelo"
   ]
  },
  {
   "attachments": {},
   "cell_type": "markdown",
   "metadata": {},
   "source": [
    "### Lazy Classifier"
   ]
  },
  {
   "cell_type": "code",
   "execution_count": null,
   "metadata": {},
   "outputs": [],
   "source": [
    "# from lazypredict.Supervised import LazyClassifier\n",
    "\n",
    "# lazyReg = LazyClassifier()\n",
    "# lazyReg.fit(x_train, x_test, y_train, y_test)"
   ]
  },
  {
   "cell_type": "markdown",
   "metadata": {},
   "source": [
    "### Gerando pesos das classes"
   ]
  },
  {
   "cell_type": "code",
   "execution_count": null,
   "metadata": {},
   "outputs": [],
   "source": [
    "# import numpy as np\n",
    "\n",
    "# pesos = y_train.copy()\n",
    "# maximaOcorrencia = -1\n",
    "# for i in range(3):\n",
    "#     print(y_train[y_train == i].count())\n",
    "#     if y_train[y_train == i].count() > maximaOcorrencia:\n",
    "#         maximaOcorrencia = y_train[y_train == i].count()\n",
    "# for i in range(3):\n",
    "#     pesos[pesos == i] = maximaOcorrencia / (len(pesos) * y_train[y_train == i].count())\n",
    "# pesos"
   ]
  },
  {
   "attachments": {},
   "cell_type": "markdown",
   "metadata": {},
   "source": [
    "### Criando um dos modelos encontrados"
   ]
  },
  {
   "cell_type": "code",
   "execution_count": 11,
   "metadata": {},
   "outputs": [],
   "source": [
    "from sklearn.ensemble import AdaBoostClassifier\n",
    "from sklearn.neural_network import MLPClassifier\n",
    "from xgboost import XGBClassifier\n",
    "import pickle\n",
    "\n",
    "# modelo = MLPClassifier(verbose=True)\n",
    "# modelo = AdaBoostClassifier()\n",
    "# modelo = XGBClassifier()\n",
    "# modelo.fit(x_train_class, y_train_class, sample_weight=pesos)\n",
    "# modelo.fit(x_train, y_train)\n",
    "pickle.dump(modelo, open('models/modeloClassificadorMLP.pickle', 'wb'))\n",
    "# pickle.dump(modelo, open('modeloClassificadorAdaBoost.pickle', 'wb'))"
   ]
  },
  {
   "cell_type": "markdown",
   "metadata": {},
   "source": [
    "# Pontuação de treino e teste"
   ]
  },
  {
   "cell_type": "code",
   "execution_count": null,
   "metadata": {},
   "outputs": [],
   "source": [
    "from sklearn.metrics import classification_report, ConfusionMatrixDisplay\n",
    "from pickle import load\n",
    "\n",
    "modelo = load(open('models/modeloClassificadorAdaBoost.pickle', 'rb'))\n",
    "print('Treino: ', classification_report(y_train, modelo.predict(x_train)))\n",
    "print('Teste: ', classification_report(y_test, modelo.predict(x_test)))"
   ]
  },
  {
   "cell_type": "code",
   "execution_count": null,
   "metadata": {},
   "outputs": [],
   "source": [
    "ConfusionMatrixDisplay.from_estimator(modelo, x_train, y_train)"
   ]
  },
  {
   "cell_type": "code",
   "execution_count": null,
   "metadata": {},
   "outputs": [],
   "source": [
    "ConfusionMatrixDisplay.from_estimator(modelo, x_test, y_test)"
   ]
  }
 ],
 "metadata": {
  "kernelspec": {
   "display_name": "Python 3",
   "language": "python",
   "name": "python3"
  },
  "language_info": {
   "codemirror_mode": {
    "name": "ipython",
    "version": 3
   },
   "file_extension": ".py",
   "mimetype": "text/x-python",
   "name": "python",
   "nbconvert_exporter": "python",
   "pygments_lexer": "ipython3",
   "version": "3.10.8"
  },
  "orig_nbformat": 4
 },
 "nbformat": 4,
 "nbformat_minor": 2
}
