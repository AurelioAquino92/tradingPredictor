{
 "cells": [
  {
   "attachments": {},
   "cell_type": "markdown",
   "metadata": {},
   "source": [
    "# Bibliotecas"
   ]
  },
  {
   "cell_type": "code",
   "execution_count": 2,
   "metadata": {},
   "outputs": [],
   "source": [
    "from obterDados import obterSimbolo\n",
    "import numpy as np\n",
    "from tqdm import tqdm\n",
    "from matplotlib import pyplot as plt\n",
    "from pickle import dump, load"
   ]
  },
  {
   "attachments": {},
   "cell_type": "markdown",
   "metadata": {},
   "source": [
    "# Obtendo dados"
   ]
  },
  {
   "cell_type": "code",
   "execution_count": 2,
   "metadata": {},
   "outputs": [
    {
     "data": {
      "text/html": [
       "<div>\n",
       "<style scoped>\n",
       "    .dataframe tbody tr th:only-of-type {\n",
       "        vertical-align: middle;\n",
       "    }\n",
       "\n",
       "    .dataframe tbody tr th {\n",
       "        vertical-align: top;\n",
       "    }\n",
       "\n",
       "    .dataframe thead th {\n",
       "        text-align: right;\n",
       "    }\n",
       "</style>\n",
       "<table border=\"1\" class=\"dataframe\">\n",
       "  <thead>\n",
       "    <tr style=\"text-align: right;\">\n",
       "      <th></th>\n",
       "      <th>open</th>\n",
       "      <th>high</th>\n",
       "      <th>low</th>\n",
       "      <th>close</th>\n",
       "      <th>tick_volume</th>\n",
       "      <th>spread</th>\n",
       "      <th>real_volume</th>\n",
       "    </tr>\n",
       "    <tr>\n",
       "      <th>time</th>\n",
       "      <th></th>\n",
       "      <th></th>\n",
       "      <th></th>\n",
       "      <th></th>\n",
       "      <th></th>\n",
       "      <th></th>\n",
       "      <th></th>\n",
       "    </tr>\n",
       "  </thead>\n",
       "  <tbody>\n",
       "    <tr>\n",
       "      <th>2020-01-02 14:25:00</th>\n",
       "      <td>4041.0</td>\n",
       "      <td>4041.5</td>\n",
       "      <td>4039.5</td>\n",
       "      <td>4040.0</td>\n",
       "      <td>2576</td>\n",
       "      <td>500</td>\n",
       "      <td>11609</td>\n",
       "    </tr>\n",
       "    <tr>\n",
       "      <th>2020-01-02 14:30:00</th>\n",
       "      <td>4040.0</td>\n",
       "      <td>4041.0</td>\n",
       "      <td>4038.0</td>\n",
       "      <td>4038.5</td>\n",
       "      <td>1539</td>\n",
       "      <td>500</td>\n",
       "      <td>6374</td>\n",
       "    </tr>\n",
       "    <tr>\n",
       "      <th>2020-01-02 14:35:00</th>\n",
       "      <td>4038.5</td>\n",
       "      <td>4040.0</td>\n",
       "      <td>4036.0</td>\n",
       "      <td>4036.5</td>\n",
       "      <td>2936</td>\n",
       "      <td>500</td>\n",
       "      <td>12038</td>\n",
       "    </tr>\n",
       "    <tr>\n",
       "      <th>2020-01-02 14:40:00</th>\n",
       "      <td>4037.0</td>\n",
       "      <td>4038.0</td>\n",
       "      <td>4035.5</td>\n",
       "      <td>4036.0</td>\n",
       "      <td>2098</td>\n",
       "      <td>500</td>\n",
       "      <td>8757</td>\n",
       "    </tr>\n",
       "    <tr>\n",
       "      <th>2020-01-02 14:45:00</th>\n",
       "      <td>4036.0</td>\n",
       "      <td>4038.0</td>\n",
       "      <td>4035.0</td>\n",
       "      <td>4036.0</td>\n",
       "      <td>2087</td>\n",
       "      <td>500</td>\n",
       "      <td>7680</td>\n",
       "    </tr>\n",
       "    <tr>\n",
       "      <th>...</th>\n",
       "      <td>...</td>\n",
       "      <td>...</td>\n",
       "      <td>...</td>\n",
       "      <td>...</td>\n",
       "      <td>...</td>\n",
       "      <td>...</td>\n",
       "      <td>...</td>\n",
       "    </tr>\n",
       "    <tr>\n",
       "      <th>2023-08-31 16:40:00</th>\n",
       "      <td>4972.5</td>\n",
       "      <td>4972.5</td>\n",
       "      <td>4969.0</td>\n",
       "      <td>4970.0</td>\n",
       "      <td>885</td>\n",
       "      <td>0</td>\n",
       "      <td>12824</td>\n",
       "    </tr>\n",
       "    <tr>\n",
       "      <th>2023-08-31 16:45:00</th>\n",
       "      <td>4970.5</td>\n",
       "      <td>4971.0</td>\n",
       "      <td>4968.0</td>\n",
       "      <td>4969.0</td>\n",
       "      <td>933</td>\n",
       "      <td>0</td>\n",
       "      <td>12207</td>\n",
       "    </tr>\n",
       "    <tr>\n",
       "      <th>2023-08-31 16:50:00</th>\n",
       "      <td>4969.5</td>\n",
       "      <td>4972.0</td>\n",
       "      <td>4967.0</td>\n",
       "      <td>4968.0</td>\n",
       "      <td>1132</td>\n",
       "      <td>0</td>\n",
       "      <td>23659</td>\n",
       "    </tr>\n",
       "    <tr>\n",
       "      <th>2023-08-31 16:55:00</th>\n",
       "      <td>4968.5</td>\n",
       "      <td>4973.0</td>\n",
       "      <td>4967.5</td>\n",
       "      <td>4972.5</td>\n",
       "      <td>1150</td>\n",
       "      <td>0</td>\n",
       "      <td>19849</td>\n",
       "    </tr>\n",
       "    <tr>\n",
       "      <th>2023-08-31 17:00:00</th>\n",
       "      <td>4972.5</td>\n",
       "      <td>4972.5</td>\n",
       "      <td>4971.5</td>\n",
       "      <td>4971.5</td>\n",
       "      <td>60</td>\n",
       "      <td>0</td>\n",
       "      <td>1223</td>\n",
       "    </tr>\n",
       "  </tbody>\n",
       "</table>\n",
       "<p>99999 rows × 7 columns</p>\n",
       "</div>"
      ],
      "text/plain": [
       "                       open    high     low   close  tick_volume  spread  \\\n",
       "time                                                                       \n",
       "2020-01-02 14:25:00  4041.0  4041.5  4039.5  4040.0         2576     500   \n",
       "2020-01-02 14:30:00  4040.0  4041.0  4038.0  4038.5         1539     500   \n",
       "2020-01-02 14:35:00  4038.5  4040.0  4036.0  4036.5         2936     500   \n",
       "2020-01-02 14:40:00  4037.0  4038.0  4035.5  4036.0         2098     500   \n",
       "2020-01-02 14:45:00  4036.0  4038.0  4035.0  4036.0         2087     500   \n",
       "...                     ...     ...     ...     ...          ...     ...   \n",
       "2023-08-31 16:40:00  4972.5  4972.5  4969.0  4970.0          885       0   \n",
       "2023-08-31 16:45:00  4970.5  4971.0  4968.0  4969.0          933       0   \n",
       "2023-08-31 16:50:00  4969.5  4972.0  4967.0  4968.0         1132       0   \n",
       "2023-08-31 16:55:00  4968.5  4973.0  4967.5  4972.5         1150       0   \n",
       "2023-08-31 17:00:00  4972.5  4972.5  4971.5  4971.5           60       0   \n",
       "\n",
       "                     real_volume  \n",
       "time                              \n",
       "2020-01-02 14:25:00        11609  \n",
       "2020-01-02 14:30:00         6374  \n",
       "2020-01-02 14:35:00        12038  \n",
       "2020-01-02 14:40:00         8757  \n",
       "2020-01-02 14:45:00         7680  \n",
       "...                          ...  \n",
       "2023-08-31 16:40:00        12824  \n",
       "2023-08-31 16:45:00        12207  \n",
       "2023-08-31 16:50:00        23659  \n",
       "2023-08-31 16:55:00        19849  \n",
       "2023-08-31 17:00:00         1223  \n",
       "\n",
       "[99999 rows x 7 columns]"
      ]
     },
     "execution_count": 2,
     "metadata": {},
     "output_type": "execute_result"
    }
   ],
   "source": [
    "rawDataM5 = obterSimbolo('WDO$N')\n",
    "rawDataM5"
   ]
  },
  {
   "cell_type": "code",
   "execution_count": 3,
   "metadata": {},
   "outputs": [
    {
     "data": {
      "text/html": [
       "<div>\n",
       "<style scoped>\n",
       "    .dataframe tbody tr th:only-of-type {\n",
       "        vertical-align: middle;\n",
       "    }\n",
       "\n",
       "    .dataframe tbody tr th {\n",
       "        vertical-align: top;\n",
       "    }\n",
       "\n",
       "    .dataframe thead th {\n",
       "        text-align: right;\n",
       "    }\n",
       "</style>\n",
       "<table border=\"1\" class=\"dataframe\">\n",
       "  <thead>\n",
       "    <tr style=\"text-align: right;\">\n",
       "      <th></th>\n",
       "      <th>open</th>\n",
       "      <th>high</th>\n",
       "      <th>low</th>\n",
       "      <th>close</th>\n",
       "      <th>tick_volume</th>\n",
       "      <th>spread</th>\n",
       "      <th>real_volume</th>\n",
       "    </tr>\n",
       "    <tr>\n",
       "      <th>time</th>\n",
       "      <th></th>\n",
       "      <th></th>\n",
       "      <th></th>\n",
       "      <th></th>\n",
       "      <th></th>\n",
       "      <th></th>\n",
       "      <th></th>\n",
       "    </tr>\n",
       "  </thead>\n",
       "  <tbody>\n",
       "    <tr>\n",
       "      <th>2020-01-02 14:25:00</th>\n",
       "      <td>4041.0</td>\n",
       "      <td>4041.5</td>\n",
       "      <td>4039.5</td>\n",
       "      <td>4040.0</td>\n",
       "      <td>2576</td>\n",
       "      <td>500</td>\n",
       "      <td>11609</td>\n",
       "    </tr>\n",
       "    <tr>\n",
       "      <th>2020-01-02 14:30:00</th>\n",
       "      <td>4040.0</td>\n",
       "      <td>4041.0</td>\n",
       "      <td>4038.0</td>\n",
       "      <td>4038.5</td>\n",
       "      <td>1539</td>\n",
       "      <td>500</td>\n",
       "      <td>6374</td>\n",
       "    </tr>\n",
       "    <tr>\n",
       "      <th>2020-01-02 14:35:00</th>\n",
       "      <td>4038.5</td>\n",
       "      <td>4040.0</td>\n",
       "      <td>4036.0</td>\n",
       "      <td>4036.5</td>\n",
       "      <td>2936</td>\n",
       "      <td>500</td>\n",
       "      <td>12038</td>\n",
       "    </tr>\n",
       "    <tr>\n",
       "      <th>2020-01-02 14:40:00</th>\n",
       "      <td>4037.0</td>\n",
       "      <td>4038.0</td>\n",
       "      <td>4035.5</td>\n",
       "      <td>4036.0</td>\n",
       "      <td>2098</td>\n",
       "      <td>500</td>\n",
       "      <td>8757</td>\n",
       "    </tr>\n",
       "    <tr>\n",
       "      <th>2020-01-02 14:45:00</th>\n",
       "      <td>4036.0</td>\n",
       "      <td>4038.0</td>\n",
       "      <td>4035.0</td>\n",
       "      <td>4036.0</td>\n",
       "      <td>2087</td>\n",
       "      <td>500</td>\n",
       "      <td>7680</td>\n",
       "    </tr>\n",
       "    <tr>\n",
       "      <th>...</th>\n",
       "      <td>...</td>\n",
       "      <td>...</td>\n",
       "      <td>...</td>\n",
       "      <td>...</td>\n",
       "      <td>...</td>\n",
       "      <td>...</td>\n",
       "      <td>...</td>\n",
       "    </tr>\n",
       "    <tr>\n",
       "      <th>2022-09-02 10:30:00</th>\n",
       "      <td>5227.0</td>\n",
       "      <td>5238.0</td>\n",
       "      <td>5225.5</td>\n",
       "      <td>5237.5</td>\n",
       "      <td>21115</td>\n",
       "      <td>500</td>\n",
       "      <td>62033</td>\n",
       "    </tr>\n",
       "    <tr>\n",
       "      <th>2022-09-02 10:35:00</th>\n",
       "      <td>5237.0</td>\n",
       "      <td>5242.5</td>\n",
       "      <td>5232.0</td>\n",
       "      <td>5237.0</td>\n",
       "      <td>23744</td>\n",
       "      <td>500</td>\n",
       "      <td>67119</td>\n",
       "    </tr>\n",
       "    <tr>\n",
       "      <th>2022-09-02 10:40:00</th>\n",
       "      <td>5237.5</td>\n",
       "      <td>5249.5</td>\n",
       "      <td>5237.0</td>\n",
       "      <td>5246.0</td>\n",
       "      <td>20683</td>\n",
       "      <td>500</td>\n",
       "      <td>56959</td>\n",
       "    </tr>\n",
       "    <tr>\n",
       "      <th>2022-09-02 10:45:00</th>\n",
       "      <td>5245.5</td>\n",
       "      <td>5248.5</td>\n",
       "      <td>5237.0</td>\n",
       "      <td>5237.0</td>\n",
       "      <td>23346</td>\n",
       "      <td>500</td>\n",
       "      <td>64492</td>\n",
       "    </tr>\n",
       "    <tr>\n",
       "      <th>2022-09-02 10:50:00</th>\n",
       "      <td>5237.0</td>\n",
       "      <td>5245.0</td>\n",
       "      <td>5232.0</td>\n",
       "      <td>5243.0</td>\n",
       "      <td>22549</td>\n",
       "      <td>500</td>\n",
       "      <td>63226</td>\n",
       "    </tr>\n",
       "  </tbody>\n",
       "</table>\n",
       "<p>72783 rows × 7 columns</p>\n",
       "</div>"
      ],
      "text/plain": [
       "                       open    high     low   close  tick_volume  spread  \\\n",
       "time                                                                       \n",
       "2020-01-02 14:25:00  4041.0  4041.5  4039.5  4040.0         2576     500   \n",
       "2020-01-02 14:30:00  4040.0  4041.0  4038.0  4038.5         1539     500   \n",
       "2020-01-02 14:35:00  4038.5  4040.0  4036.0  4036.5         2936     500   \n",
       "2020-01-02 14:40:00  4037.0  4038.0  4035.5  4036.0         2098     500   \n",
       "2020-01-02 14:45:00  4036.0  4038.0  4035.0  4036.0         2087     500   \n",
       "...                     ...     ...     ...     ...          ...     ...   \n",
       "2022-09-02 10:30:00  5227.0  5238.0  5225.5  5237.5        21115     500   \n",
       "2022-09-02 10:35:00  5237.0  5242.5  5232.0  5237.0        23744     500   \n",
       "2022-09-02 10:40:00  5237.5  5249.5  5237.0  5246.0        20683     500   \n",
       "2022-09-02 10:45:00  5245.5  5248.5  5237.0  5237.0        23346     500   \n",
       "2022-09-02 10:50:00  5237.0  5245.0  5232.0  5243.0        22549     500   \n",
       "\n",
       "                     real_volume  \n",
       "time                              \n",
       "2020-01-02 14:25:00        11609  \n",
       "2020-01-02 14:30:00         6374  \n",
       "2020-01-02 14:35:00        12038  \n",
       "2020-01-02 14:40:00         8757  \n",
       "2020-01-02 14:45:00         7680  \n",
       "...                          ...  \n",
       "2022-09-02 10:30:00        62033  \n",
       "2022-09-02 10:35:00        67119  \n",
       "2022-09-02 10:40:00        56959  \n",
       "2022-09-02 10:45:00        64492  \n",
       "2022-09-02 10:50:00        63226  \n",
       "\n",
       "[72783 rows x 7 columns]"
      ]
     },
     "execution_count": 3,
     "metadata": {},
     "output_type": "execute_result"
    }
   ],
   "source": [
    "rawDataM5[:-252*108]"
   ]
  },
  {
   "cell_type": "code",
   "execution_count": 4,
   "metadata": {},
   "outputs": [
    {
     "data": {
      "text/plain": [
       "array([[4.0410e+03, 4.0415e+03, 4.0395e+03, ..., 1.4000e+01, 3.0000e+00,\n",
       "        2.0000e+00],\n",
       "       [4.0400e+03, 4.0410e+03, 4.0380e+03, ..., 1.4000e+01, 3.0000e+00,\n",
       "        2.0000e+00],\n",
       "       [4.0385e+03, 4.0400e+03, 4.0360e+03, ..., 1.4000e+01, 3.0000e+00,\n",
       "        2.0000e+00],\n",
       "       ...,\n",
       "       [4.9695e+03, 4.9720e+03, 4.9670e+03, ..., 1.6000e+01, 3.0000e+00,\n",
       "        3.1000e+01],\n",
       "       [4.9685e+03, 4.9730e+03, 4.9675e+03, ..., 1.6000e+01, 3.0000e+00,\n",
       "        3.1000e+01],\n",
       "       [4.9725e+03, 4.9725e+03, 4.9715e+03, ..., 1.7000e+01, 3.0000e+00,\n",
       "        3.1000e+01]])"
      ]
     },
     "execution_count": 4,
     "metadata": {},
     "output_type": "execute_result"
    }
   ],
   "source": [
    "rawDataM5 = rawDataM5.drop(columns=['spread'])\n",
    "rawDataM5['minute'] = rawDataM5.index.minute\n",
    "rawDataM5['hour'] = rawDataM5.index.hour\n",
    "rawDataM5['day_of_week'] = rawDataM5.index.day_of_week\n",
    "rawDataM5['day'] = rawDataM5.index.day\n",
    "rawNP = rawDataM5.to_numpy()\n",
    "rawNP"
   ]
  },
  {
   "attachments": {},
   "cell_type": "markdown",
   "metadata": {},
   "source": [
    "# Tratamento de Dados"
   ]
  },
  {
   "attachments": {},
   "cell_type": "markdown",
   "metadata": {},
   "source": [
    "### Gerando colunas com preços passados"
   ]
  },
  {
   "cell_type": "code",
   "execution_count": 5,
   "metadata": {},
   "outputs": [
    {
     "name": "stderr",
     "output_type": "stream",
     "text": [
      "100%|██████████| 98975/98975 [00:13<00:00, 7559.35it/s] \n"
     ]
    }
   ],
   "source": [
    "nPassado = 1000\n",
    "nFuturo = 24\n",
    "histNp = np.zeros((len(rawNP)-(nPassado+nFuturo), nPassado, rawDataM5.shape[1]))\n",
    "for i in tqdm(range(len(histNp))):\n",
    "    histNp[i] = rawNP[i:i+nPassado]"
   ]
  },
  {
   "cell_type": "markdown",
   "metadata": {},
   "source": [
    "### Achar quando comprar, vender ou fazer nada"
   ]
  },
  {
   "cell_type": "code",
   "execution_count": 6,
   "metadata": {},
   "outputs": [
    {
     "name": "stderr",
     "output_type": "stream",
     "text": [
      "100%|██████████| 98975/98975 [00:11<00:00, 8707.83it/s] \n"
     ]
    }
   ],
   "source": [
    "pontos = 30\n",
    "y = np.zeros((len(histNp)))\n",
    "# y[:, 0] = 1\n",
    "for i in tqdm(range(len(y))):\n",
    "    ultimoPreco = histNp[i, -1, 3]\n",
    "    for j in range(nFuturo):\n",
    "        # nao fazer nada se for mais de 14hs\n",
    "        # if rawNP[nPassado+i+j, -3] > 14:\n",
    "        #     break\n",
    "        # comprar\n",
    "        if rawNP[nPassado+i+j, 1] >= ultimoPreco + pontos:\n",
    "            y[i] = 1\n",
    "            break\n",
    "        # vender\n",
    "        if rawNP[nPassado+i+j, 2] <= ultimoPreco - pontos:\n",
    "            y[i] = 2\n",
    "            break\n"
   ]
  },
  {
   "cell_type": "markdown",
   "metadata": {},
   "source": [
    "### Normalização"
   ]
  },
  {
   "cell_type": "code",
   "execution_count": 7,
   "metadata": {},
   "outputs": [
    {
     "name": "stderr",
     "output_type": "stream",
     "text": [
      "100%|██████████| 98975/98975 [01:19<00:00, 1239.55it/s]\n"
     ]
    }
   ],
   "source": [
    "histNpNorm = np.zeros(histNp.shape, dtype=np.float16)\n",
    "for i in tqdm(range(len(histNpNorm))):\n",
    "    # preços\n",
    "    vmax = histNp[i, :, :4].max()\n",
    "    vmin = histNp[i, :, :4].min()\n",
    "    histNpNorm[i, :, :4] = (histNp[i, :, :4] - vmin) / (vmax - vmin)\n",
    "    # tick volume\n",
    "    vmax = histNp[i, :, 4].max()\n",
    "    vmin = histNp[i, :, 4].min()\n",
    "    histNpNorm[i, :, 4] = (histNp[i, :, 4] - vmin) / (vmax - vmin)\n",
    "    # real volume\n",
    "    vmax = histNp[i, :, 5].max()\n",
    "    vmin = histNp[i, :, 5].min()\n",
    "    histNpNorm[i, :, 5] = (histNp[i, :, 5] - vmin) / (vmax - vmin)\n",
    "    # minuto\n",
    "    histNpNorm[i, :, 6] = histNp[i, :, 6] / 60\n",
    "    # hora\n",
    "    histNpNorm[i, :, 7] = histNp[i, :, 7] / 24\n",
    "    # dia da semana\n",
    "    histNpNorm[i, :, 8] = histNp[i, :, 8] / 4\n",
    "    # dia\n",
    "    histNpNorm[i, :, 9] = histNp[i, :, 9] / 31\n"
   ]
  },
  {
   "cell_type": "markdown",
   "metadata": {},
   "source": [
    "### Reshape para 2d"
   ]
  },
  {
   "cell_type": "code",
   "execution_count": 8,
   "metadata": {},
   "outputs": [],
   "source": [
    "x = np.reshape(histNpNorm, (histNpNorm.shape[0], histNpNorm.shape[1] * histNpNorm.shape[2]))"
   ]
  },
  {
   "cell_type": "markdown",
   "metadata": {},
   "source": [
    "### Balanceamento de Classes"
   ]
  },
  {
   "cell_type": "code",
   "execution_count": 9,
   "metadata": {},
   "outputs": [
    {
     "name": "stdout",
     "output_type": "stream",
     "text": [
      "[56965 20596 21414]\n"
     ]
    },
    {
     "data": {
      "text/plain": [
       "([<matplotlib.patches.Wedge at 0x130a97c7be0>,\n",
       "  <matplotlib.patches.Wedge at 0x130a97c6b90>,\n",
       "  <matplotlib.patches.Wedge at 0x130a985c400>],\n",
       " [Text(-0.25863552812199975, 1.069162131574559, '0.0'),\n",
       "  Text(-0.47088319112060734, -0.9941172065305347, '1.0'),\n",
       "  Text(0.8555321028593509, -0.6914223173842865, '2.0')])"
      ]
     },
     "execution_count": 9,
     "metadata": {},
     "output_type": "execute_result"
    },
    {
     "data": {
      "image/png": "[encoded data removed]",
      "text/plain": [
       "<Figure size 640x480 with 1 Axes>"
      ]
     },
     "metadata": {},
     "output_type": "display_data"
    }
   ],
   "source": [
    "unicos, contagem = np.unique(y, return_counts=True)\n",
    "print(contagem)\n",
    "plt.pie(contagem, labels=unicos)"
   ]
  },
  {
   "cell_type": "code",
   "execution_count": 10,
   "metadata": {},
   "outputs": [
    {
     "name": "stdout",
     "output_type": "stream",
     "text": [
      "[20596 20596 20596]\n"
     ]
    },
    {
     "data": {
      "text/plain": [
       "([<matplotlib.patches.Wedge at 0x130aa0fc970>,\n",
       "  <matplotlib.patches.Wedge at 0x130aa0fce20>,\n",
       "  <matplotlib.patches.Wedge at 0x130aa0fd150>],\n",
       " [Text(0.5499999702695115, 0.9526279613277875, '0.0'),\n",
       "  Text(-1.0999999999999954, -1.0298943258065002e-07, '1.0'),\n",
       "  Text(0.5500001486524352, -0.9526278583383436, '2.0')])"
      ]
     },
     "execution_count": 10,
     "metadata": {},
     "output_type": "execute_result"
    },
    {
     "data": {
      "image/png": "[encoded data removed]",
      "text/plain": [
       "<Figure size 640x480 with 1 Axes>"
      ]
     },
     "metadata": {},
     "output_type": "display_data"
    }
   ],
   "source": [
    "amostra = contagem.min()\n",
    "Amostragem = np.zeros((amostra * 3, x.shape[1] + 1), dtype=np.float16)\n",
    "\n",
    "for i in range(3):\n",
    "    xClasse_i = x[y == i]\n",
    "    xAmostra = xClasse_i[np.random.choice(xClasse_i.shape[0], size=amostra, replace=False)]\n",
    "    Amostragem[i*amostra:(i+1)*amostra, :-1] = xAmostra\n",
    "    Amostragem[i*amostra:(i+1)*amostra, -1] = i\n",
    "\n",
    "np.random.shuffle(Amostragem)\n",
    "x = Amostragem[:, :-1]\n",
    "y = Amostragem[:, -1]\n",
    "\n",
    "unicos, contagem = np.unique(y, return_counts=True)\n",
    "print(contagem)\n",
    "plt.pie(contagem, labels=unicos)"
   ]
  },
  {
   "attachments": {},
   "cell_type": "markdown",
   "metadata": {},
   "source": [
    "### Separar dados de treino e teste"
   ]
  },
  {
   "cell_type": "code",
   "execution_count": 11,
   "metadata": {},
   "outputs": [],
   "source": [
    "# from sklearn.model_selection import train_test_split\n",
    "\n",
    "# x_train, x_test, y_train, y_test = train_test_split(x, y, test_size=0.2)"
   ]
  },
  {
   "cell_type": "code",
   "execution_count": 12,
   "metadata": {},
   "outputs": [],
   "source": [
    "np.save(open('data/x.npy', 'wb'), x)\n",
    "np.save(open('data/y.npy', 'wb'), y)"
   ]
  },
  {
   "cell_type": "code",
   "execution_count": 3,
   "metadata": {},
   "outputs": [],
   "source": [
    "x = np.float16(np.load(open('data/x.npy', 'rb')))\n",
    "y = np.float16(np.load(open('data/y.npy', 'rb')))"
   ]
  },
  {
   "cell_type": "markdown",
   "metadata": {},
   "source": [
    "# Criar Modelo"
   ]
  },
  {
   "attachments": {},
   "cell_type": "markdown",
   "metadata": {},
   "source": [
    "### Lazy Classifier"
   ]
  },
  {
   "cell_type": "code",
   "execution_count": null,
   "metadata": {},
   "outputs": [],
   "source": [
    "# from lazypredict.Supervised import LazyClassifier\n",
    "# from sklearn.model_selection import train_test_split\n",
    "# import numpy as np\n",
    "\n",
    "# lazyReg = LazyClassifier()\n",
    "# x = np.load(open('data/x.npy', 'rb'))\n",
    "# y = np.load(open('data/y.npy', 'rb'))\n",
    "# x_train, x_test, y_train, y_test = train_test_split(x, y, test_size=0.1)\n",
    "# results, models = lazyReg.fit(x_train, x_test, y_train, y_test)\n",
    "# results"
   ]
  },
  {
   "attachments": {},
   "cell_type": "markdown",
   "metadata": {},
   "source": [
    "### Criando modelos"
   ]
  },
  {
   "cell_type": "code",
   "execution_count": 5,
   "metadata": {},
   "outputs": [],
   "source": [
    "from xgboost import XGBClassifier\n",
    "\n",
    "modelo = XGBClassifier(objective=\"multi:softprob\")\n",
    "modelo.fit(x, y)\n",
    "dump(modelo, open(f'models/modeloClassificadorXGBoost{str(x.shape[1])}.pickle', 'wb'))"
   ]
  },
  {
   "cell_type": "code",
   "execution_count": null,
   "metadata": {},
   "outputs": [],
   "source": [
    "from sklearn.ensemble import ExtraTreesClassifier\n",
    "\n",
    "modelo = ExtraTreesClassifier()\n",
    "modelo.fit(x, y)\n",
    "dump(modelo, open(f'models/modeloClassificadorExtraTrees{str(x.shape[1])}.pickle', 'wb'))"
   ]
  },
  {
   "cell_type": "code",
   "execution_count": null,
   "metadata": {},
   "outputs": [],
   "source": [
    "# from sklearn.svm import SVC\n",
    "\n",
    "# modelo = SVC()\n",
    "# modelo.fit(x_train, y_train)\n",
    "# dump(modelo, open(f'models/modeloClassificadorSVC{str(x.shape[1])}.pickle', 'wb'))"
   ]
  },
  {
   "cell_type": "markdown",
   "metadata": {},
   "source": [
    "# Pontuação de treino e teste"
   ]
  },
  {
   "cell_type": "code",
   "execution_count": null,
   "metadata": {},
   "outputs": [],
   "source": [
    "from sklearn.metrics import classification_report, ConfusionMatrixDisplay\n",
    "\n",
    "modelo = load(open(f'models/modeloClassificadorExtraTrees10000.pickle', 'rb'))"
   ]
  },
  {
   "cell_type": "code",
   "execution_count": null,
   "metadata": {},
   "outputs": [],
   "source": [
    "print(classification_report(y, modelo.predict(x)))"
   ]
  },
  {
   "cell_type": "code",
   "execution_count": null,
   "metadata": {},
   "outputs": [],
   "source": [
    "print(classification_report(y_train, modelo.predict(x_train)))"
   ]
  },
  {
   "cell_type": "code",
   "execution_count": null,
   "metadata": {},
   "outputs": [],
   "source": [
    "print(classification_report(y_test, modelo.predict(x_test)))"
   ]
  },
  {
   "cell_type": "code",
   "execution_count": null,
   "metadata": {},
   "outputs": [],
   "source": [
    "ConfusionMatrixDisplay.from_estimator(modelo, x, y)"
   ]
  },
  {
   "cell_type": "code",
   "execution_count": null,
   "metadata": {},
   "outputs": [],
   "source": [
    "ConfusionMatrixDisplay.from_estimator(modelo, x_train, y_train)"
   ]
  },
  {
   "cell_type": "code",
   "execution_count": null,
   "metadata": {},
   "outputs": [],
   "source": [
    "ConfusionMatrixDisplay.from_estimator(modelo, x_test, y_test)"
   ]
  },
  {
   "cell_type": "markdown",
   "metadata": {},
   "source": [
    "# Teste Finaceiro"
   ]
  },
  {
   "cell_type": "code",
   "execution_count": null,
   "metadata": {},
   "outputs": [],
   "source": [
    "from json import dumps\n",
    "\n",
    "target = 30\n",
    "stop = 10\n",
    "timeLimit = 24\n",
    "total = 0\n",
    "long = False\n",
    "short = False\n",
    "position = 0\n",
    "candle = -1\n",
    "operacoes = {\n",
    "    'longSuccess' : [0, 0],\n",
    "    'longFail' : [0, 0],\n",
    "    'longEndSuccess' : [0, 0],\n",
    "    'longEndFail' : [0, 0],\n",
    "    'shortSuccess' : [0, 0],\n",
    "    'shortFail' : [0, 0],\n",
    "    'shortEndSuccess' : [0, 0],\n",
    "    'shortEndFail' : [0, 0],\n",
    "}\n",
    "for i in tqdm(range(252*108, -1, -1)):\n",
    "    dados = obterSimbolo('WDO$N', n=1000, delayCandles=i)\n",
    "    hist = dados.copy().drop(columns=['spread'])\n",
    "    hist['minute'] = hist.index.minute\n",
    "    hist['hour'] = hist.index.hour\n",
    "    hist['day_of_week'] = hist.index.day_of_week\n",
    "    hist['day'] = hist.index.day\n",
    "    histNP = hist.to_numpy()\n",
    "    vmax = histNP[:, :4].max()\n",
    "    vmin = histNP[:, :4].min()\n",
    "    histNP[:, :4] = (histNP[:, :4] - vmin) / (vmax - vmin)\n",
    "    vmax = histNP[:, 4].max()\n",
    "    vmin = histNP[:, 4].min()\n",
    "    histNP[:, 4] = (histNP[:, 4] - vmin) / (vmax - vmin)\n",
    "    vmax = histNP[:, 5].max()\n",
    "    vmin = histNP[:, 5].min()\n",
    "    histNP[:, 5] = (histNP[:, 5] - vmin) / (vmax - vmin)\n",
    "    histNP[:, 6] /= 60\n",
    "    histNP[:, 7] /= 24\n",
    "    histNP[:, 8] /= 4\n",
    "    histNP[:, 9] /= 31\n",
    "    priceNow = hist['close'].iloc[-1]\n",
    "    if long:\n",
    "        if priceNow >= position + target:\n",
    "            total += priceNow - position\n",
    "            long = False\n",
    "            operacoes['longSuccess'][0] += 1\n",
    "            operacoes['longSuccess'][1] += priceNow - position\n",
    "        if priceNow <= position - stop:\n",
    "            total += priceNow - position\n",
    "            long = False\n",
    "            operacoes['longFail'][0] += 1\n",
    "            operacoes['longFail'][1] += priceNow - position\n",
    "        if i >= candle + timeLimit:\n",
    "            total += priceNow - position\n",
    "            long = False\n",
    "            if priceNow - position > 0:\n",
    "                operacoes['longEndSuccess'][0] += 1\n",
    "                operacoes['longEndSuccess'][1] += priceNow - position\n",
    "            else:\n",
    "                operacoes['longEndFail'][0] += 1\n",
    "                operacoes['longEndFail'][1] += priceNow - position\n",
    "        continue\n",
    "    if short:\n",
    "        if priceNow <= position - target:\n",
    "            total += position - priceNow\n",
    "            short = False\n",
    "            operacoes['shortSuccess'][0] += 1\n",
    "            operacoes['shortSuccess'][1] += position - priceNow\n",
    "        if priceNow >= position + stop:\n",
    "            total += position - priceNow\n",
    "            short = False\n",
    "            operacoes['shortFail'][0] += 1\n",
    "            operacoes['shortFail'][1] += position - priceNow\n",
    "        if i >= candle + timeLimit:\n",
    "            total += position - priceNow\n",
    "            short = False\n",
    "            if position - priceNow > 0:\n",
    "                operacoes['shortEndSuccess'][0] += 1\n",
    "                operacoes['shortEndSuccess'][1] += position - priceNow\n",
    "            else:\n",
    "                operacoes['shortEndFail'][0] += 1\n",
    "                operacoes['shortEndFail'][1] += position - priceNow\n",
    "        continue\n",
    "\n",
    "    previsao = modelo.predict([histNP.flatten()])[0]\n",
    "    if previsao == 1:\n",
    "        long = True\n",
    "        position = priceNow\n",
    "        candle = i\n",
    "    if previsao == 2:\n",
    "        short = True\n",
    "        position = priceNow\n",
    "        candle = i\n",
    "\n",
    "print('Total:', total)\n",
    "print('Operações: ', dumps(operacoes, indent=4))"
   ]
  }
 ],
 "metadata": {
  "kernelspec": {
   "display_name": "Python 3",
   "language": "python",
   "name": "python3"
  },
  "language_info": {
   "codemirror_mode": {
    "name": "ipython",
    "version": 3
   },
   "file_extension": ".py",
   "mimetype": "text/x-python",
   "name": "python",
   "nbconvert_exporter": "python",
   "pygments_lexer": "ipython3",
   "version": "3.10.8"
  },
  "orig_nbformat": 4
 },
 "nbformat": 4,
 "nbformat_minor": 2
}
