{
 "cells": [
  {
   "attachments": {},
   "cell_type": "markdown",
   "metadata": {},
   "source": [
    "# Bibliotecas"
   ]
  },
  {
   "cell_type": "code",
   "execution_count": null,
   "metadata": {},
   "outputs": [],
   "source": [
    "from obterDados import obterSimboloPosicao, obterSimboloData\n",
    "import numpy as np\n",
    "from tqdm import tqdm\n",
    "from matplotlib import pyplot as plt\n",
    "import tensorflow as tf\n",
    "import gymnasium as gym\n",
    "import gym_anytrading\n",
    "from stable_baselines3 import A2C"
   ]
  },
  {
   "cell_type": "code",
   "execution_count": null,
   "metadata": {},
   "outputs": [],
   "source": [
    "rawDataM5 = obterSimboloPosicao()\n",
    "rawDataM5"
   ]
  },
  {
   "cell_type": "code",
   "execution_count": null,
   "metadata": {},
   "outputs": [],
   "source": [
    "rawDataM5.rename(columns={\n",
    "    'open': 'Open',\n",
    "    'high': 'High',\n",
    "    'low': 'Low',\n",
    "    'close': 'Close',\n",
    "    'real_volume': 'Volume'\n",
    "}, inplace=True)\n",
    "rawDataM5"
   ]
  },
  {
   "cell_type": "code",
   "execution_count": null,
   "metadata": {},
   "outputs": [],
   "source": [
    "rawDataD1 = obterSimboloData(rawDataM5.index[-1], n=int(len(rawDataM5)/108)+200)\n",
    "rawDataD1"
   ]
  },
  {
   "cell_type": "code",
   "execution_count": null,
   "metadata": {},
   "outputs": [],
   "source": [
    "rawDataD1.rename(columns={\n",
    "    'open': 'Open',\n",
    "    'high': 'High',\n",
    "    'low': 'Low',\n",
    "    'close': 'Close',\n",
    "    'real_volume': 'Volume'\n",
    "}, inplace=True)\n",
    "rawDataD1"
   ]
  },
  {
   "cell_type": "code",
   "execution_count": null,
   "metadata": {},
   "outputs": [],
   "source": [
    "windowSize = 108*20\n",
    "trainEnd = len(rawDataM5.to_numpy()) - 50 * 108\n",
    "dataLength = len(rawDataM5)"
   ]
  },
  {
   "cell_type": "code",
   "execution_count": null,
   "metadata": {},
   "outputs": [],
   "source": [
    "from customTradingEnv import CustomTradingEnv\n",
    "\n",
    "env = CustomTradingEnv(\n",
    "    df_5min=rawDataM5,\n",
    "    df_daily=rawDataD1,\n",
    "    initial_balance=10000,\n",
    "    take_profit=30,\n",
    "    stop_loss=10,\n",
    "    observation_window_5min=300,\n",
    "    observation_window_daily=200\n",
    ")"
   ]
  },
  {
   "cell_type": "code",
   "execution_count": null,
   "metadata": {},
   "outputs": [],
   "source": [
    "# env = gym.make('stocks-v0', df=rawDataM5, frame_bound=(windowSize, trainEnd), window_size=windowSize)"
   ]
  },
  {
   "cell_type": "code",
   "execution_count": null,
   "metadata": {},
   "outputs": [],
   "source": [
    "observation = env.reset()\n",
    "done = False\n",
    "while not done:\n",
    "    action = env.action_space.sample()\n",
    "    observation, reward, done, info = env.step(action)\n",
    "    # done = terminated or truncated\n",
    "    # env.render()\n",
    "\n",
    "print(\"reward:\", reward)\n",
    "# plt.cla()\n",
    "# env.unwrapped.render_all()\n",
    "# plt.show()"
   ]
  },
  {
   "cell_type": "code",
   "execution_count": null,
   "metadata": {},
   "outputs": [],
   "source": [
    "modelo = A2C('MlpPolicy', env, verbose=1, tensorboard_log='logs/a2c/')\n",
    "modelo.learn(total_timesteps=dataLength*2)"
   ]
  },
  {
   "cell_type": "code",
   "execution_count": null,
   "metadata": {},
   "outputs": [],
   "source": [
    "# env = CustomTradingEnv(\n",
    "#     df_5min=rawDataM5,\n",
    "#     df_daily=rawDataD1,\n",
    "#     initial_balance=10000,\n",
    "#     take_profit=30,\n",
    "#     stop_loss=10,\n",
    "#     observation_window_5min=300,\n",
    "#     observation_window_daily=200\n",
    "# )"
   ]
  },
  {
   "cell_type": "code",
   "execution_count": null,
   "metadata": {},
   "outputs": [],
   "source": [
    "# env = gym.make('stocks-v0', df=rawDataM5, frame_bound=(trainEnd-windowSize, dataLength), window_size=windowSize)"
   ]
  },
  {
   "cell_type": "code",
   "execution_count": null,
   "metadata": {},
   "outputs": [],
   "source": [
    "observation = env.reset()\n",
    "done = False\n",
    "while not done:\n",
    "    action = env.action_space.sample()\n",
    "    observation, reward, done, info = env.step(action)\n",
    "    # done = terminated or truncated\n",
    "    # env.render()\n",
    "\n",
    "# print(\"info:\", info)\n",
    "plt.cla()\n",
    "env.unwrapped.render_all()\n",
    "plt.show()"
   ]
  }
 ],
 "metadata": {
  "kernelspec": {
   "display_name": "Python 3",
   "language": "python",
   "name": "python3"
  },
  "language_info": {
   "codemirror_mode": {
    "name": "ipython",
    "version": 3
   },
   "file_extension": ".py",
   "mimetype": "text/x-python",
   "name": "python",
   "nbconvert_exporter": "python",
   "pygments_lexer": "ipython3",
   "version": "3.10.8"
  },
  "orig_nbformat": 4
 },
 "nbformat": 4,
 "nbformat_minor": 2
}
