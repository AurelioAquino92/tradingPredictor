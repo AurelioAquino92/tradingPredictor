{
 "cells": [
  {
   "attachments": {},
   "cell_type": "markdown",
   "metadata": {},
   "source": [
    "# Bibliotecas"
   ]
  },
  {
   "cell_type": "code",
   "execution_count": 1,
   "metadata": {},
   "outputs": [
    {
     "name": "stderr",
     "output_type": "stream",
     "text": [
      "2024-03-07 20:50:35.105210: I tensorflow/core/util/port.cc:113] oneDNN custom operations are on. You may see slightly different numerical results due to floating-point round-off errors from different computation orders. To turn them off, set the environment variable `TF_ENABLE_ONEDNN_OPTS=0`.\n",
      "2024-03-07 20:50:35.393744: E external/local_xla/xla/stream_executor/cuda/cuda_dnn.cc:9261] Unable to register cuDNN factory: Attempting to register factory for plugin cuDNN when one has already been registered\n",
      "2024-03-07 20:50:35.393785: E external/local_xla/xla/stream_executor/cuda/cuda_fft.cc:607] Unable to register cuFFT factory: Attempting to register factory for plugin cuFFT when one has already been registered\n",
      "2024-03-07 20:50:35.445554: E external/local_xla/xla/stream_executor/cuda/cuda_blas.cc:1515] Unable to register cuBLAS factory: Attempting to register factory for plugin cuBLAS when one has already been registered\n",
      "2024-03-07 20:50:35.534767: I tensorflow/core/platform/cpu_feature_guard.cc:182] This TensorFlow binary is optimized to use available CPU instructions in performance-critical operations.\n",
      "To enable the following instructions: AVX2 AVX_VNNI FMA, in other operations, rebuild TensorFlow with the appropriate compiler flags.\n",
      "2024-03-07 20:50:36.379875: W tensorflow/compiler/tf2tensorrt/utils/py_utils.cc:38] TF-TRT Warning: Could not find TensorRT\n",
      "/usr/lib/python3/dist-packages/scipy/__init__.py:146: UserWarning: A NumPy version >=1.17.3 and <1.25.0 is required for this version of SciPy (detected version 1.26.3\n",
      "  warnings.warn(f\"A NumPy version >={np_minversion} and <{np_maxversion}\"\n"
     ]
    }
   ],
   "source": [
    "import numpy as np\n",
    "from tqdm import tqdm\n",
    "import tensorflow as tf\n",
    "from keras.models import Sequential\n",
    "from keras.layers import Conv2D\n",
    "from keras.layers import MaxPooling2D\n",
    "from keras.layers import Flatten\n",
    "from keras.layers import Dense"
   ]
  },
  {
   "cell_type": "markdown",
   "metadata": {},
   "source": [
    "# Abrindo dados"
   ]
  },
  {
   "cell_type": "code",
   "execution_count": 2,
   "metadata": {},
   "outputs": [],
   "source": [
    "x = np.float64(np.load(open('data/cnn/x.npy', 'rb')))\n",
    "y = np.int8(np.load(open('data/cnn/y.npy', 'rb')))"
   ]
  },
  {
   "cell_type": "code",
   "execution_count": 3,
   "metadata": {},
   "outputs": [
    {
     "data": {
      "text/plain": [
       "array([[1., 0., 0.],\n",
       "       [1., 0., 0.],\n",
       "       [0., 0., 1.],\n",
       "       ...,\n",
       "       [0., 1., 0.],\n",
       "       [0., 0., 1.],\n",
       "       [0., 1., 0.]], dtype=float32)"
      ]
     },
     "execution_count": 3,
     "metadata": {},
     "output_type": "execute_result"
    }
   ],
   "source": [
    "from keras.utils import to_categorical\n",
    "\n",
    "y_one_hot = to_categorical(y, 3)\n",
    "y_one_hot"
   ]
  },
  {
   "cell_type": "markdown",
   "metadata": {},
   "source": [
    "# Criar Modelo"
   ]
  },
  {
   "cell_type": "code",
   "execution_count": 5,
   "metadata": {},
   "outputs": [
    {
     "name": "stdout",
     "output_type": "stream",
     "text": [
      "Model: \"sequential_1\"\n",
      "_________________________________________________________________\n",
      " Layer (type)                Output Shape              Param #   \n",
      "=================================================================\n",
      " conv2d_2 (Conv2D)           (None, 477, 2, 256)       32256     \n",
      "                                                                 \n",
      " max_pooling2d_1 (MaxPoolin  (None, 238, 1, 256)       0         \n",
      " g2D)                                                            \n",
      "                                                                 \n",
      " flatten (Flatten)           (None, 60928)             0         \n",
      "                                                                 \n",
      " dense (Dense)               (None, 1024)              62391296  \n",
      "                                                                 \n",
      " dense_1 (Dense)             (None, 512)               524800    \n",
      "                                                                 \n",
      " dense_2 (Dense)             (None, 3)                 1539      \n",
      "                                                                 \n",
      "=================================================================\n",
      "Total params: 62949891 (240.13 MB)\n",
      "Trainable params: 62949891 (240.13 MB)\n",
      "Non-trainable params: 0 (0.00 Byte)\n",
      "_________________________________________________________________\n"
     ]
    }
   ],
   "source": [
    "modelo = Sequential()\n",
    "\n",
    "modelo.add(Conv2D(256, (25, 5), activation='relu', input_shape=(501, 6, 1)))\n",
    "modelo.add(MaxPooling2D((2, 2)))\n",
    "\n",
    "modelo.add(Flatten())\n",
    "modelo.add(Dense(1024, activation='relu'))\n",
    "modelo.add(Dense(512, activation='relu'))\n",
    "modelo.add(Dense(3, activation='softmax'))\n",
    "\n",
    "modelo.compile(optimizer='adam',\n",
    "              loss='categorical_crossentropy',\n",
    "              metrics=['accuracy'])\n",
    "\n",
    "modelo.summary()"
   ]
  },
  {
   "cell_type": "markdown",
   "metadata": {},
   "source": [
    "# Treinar Modelo"
   ]
  },
  {
   "cell_type": "code",
   "execution_count": 6,
   "metadata": {},
   "outputs": [
    {
     "name": "stderr",
     "output_type": "stream",
     "text": [
      "2024-03-07 20:59:21.763419: I external/local_tsl/tsl/platform/default/subprocess.cc:304] Start cannot spawn child process: No such file or directory\n"
     ]
    },
    {
     "name": "stdout",
     "output_type": "stream",
     "text": [
      "Epoch 1/200\n"
     ]
    },
    {
     "name": "stderr",
     "output_type": "stream",
     "text": [
      "2024-03-07 20:59:22.399502: I external/local_xla/xla/stream_executor/cuda/cuda_dnn.cc:454] Loaded cuDNN version 8902\n",
      "2024-03-07 20:59:22.646242: I external/local_tsl/tsl/platform/default/subprocess.cc:304] Start cannot spawn child process: No such file or directory\n",
      "2024-03-07 20:59:23.393411: I external/local_xla/xla/service/service.cc:168] XLA service 0x7f6505154050 initialized for platform CUDA (this does not guarantee that XLA will be used). Devices:\n",
      "2024-03-07 20:59:23.393442: I external/local_xla/xla/service/service.cc:176]   StreamExecutor device (0): NVIDIA GeForce RTX 4070 Laptop GPU, Compute Capability 8.9\n",
      "2024-03-07 20:59:23.405619: I tensorflow/compiler/mlir/tensorflow/utils/dump_mlir_util.cc:269] disabling MLIR crash reproducer, set env var `MLIR_CRASH_REPRODUCER_DIRECTORY` to enable.\n",
      "WARNING: All log messages before absl::InitializeLog() is called are written to STDERR\n",
      "I0000 00:00:1709859563.497825    5611 device_compiler.h:186] Compiled cluster using XLA!  This line is logged at most once for the lifetime of the process.\n"
     ]
    },
    {
     "name": "stdout",
     "output_type": "stream",
     "text": [
      "234/234 [==============================] - ETA: 0s - loss: 1.0265 - accuracy: 0.4614"
     ]
    },
    {
     "name": "stderr",
     "output_type": "stream",
     "text": [
      "/home/aurelio/.local/lib/python3.10/site-packages/keras/src/engine/training.py:3103: UserWarning: You are saving your model as an HDF5 file via `model.save()`. This file format is considered legacy. We recommend using instead the native Keras format, e.g. `model.save('my_model.keras')`.\n",
      "  saving_api.save_model(\n"
     ]
    },
    {
     "name": "stdout",
     "output_type": "stream",
     "text": [
      "234/234 [==============================] - 18s 66ms/step - loss: 1.0265 - accuracy: 0.4614 - val_loss: 0.9790 - val_accuracy: 0.4782\n",
      "Epoch 2/200\n",
      "234/234 [==============================] - 12s 50ms/step - loss: 0.9372 - accuracy: 0.5409 - val_loss: 0.8695 - val_accuracy: 0.5922\n",
      "Epoch 3/200\n",
      "234/234 [==============================] - 12s 50ms/step - loss: 0.7455 - accuracy: 0.6751 - val_loss: 0.6425 - val_accuracy: 0.7328\n",
      "Epoch 4/200\n",
      "234/234 [==============================] - 12s 50ms/step - loss: 0.5134 - accuracy: 0.7980 - val_loss: 0.4852 - val_accuracy: 0.8121\n",
      "Epoch 5/200\n",
      "234/234 [==============================] - 12s 51ms/step - loss: 0.3746 - accuracy: 0.8579 - val_loss: 0.4017 - val_accuracy: 0.8526\n",
      "Epoch 6/200\n",
      "234/234 [==============================] - 12s 50ms/step - loss: 0.2981 - accuracy: 0.8909 - val_loss: 0.3532 - val_accuracy: 0.8729\n",
      "Epoch 7/200\n",
      "234/234 [==============================] - 12s 50ms/step - loss: 0.2592 - accuracy: 0.9034 - val_loss: 0.3398 - val_accuracy: 0.8761\n",
      "Epoch 8/200\n",
      "234/234 [==============================] - 12s 50ms/step - loss: 0.2283 - accuracy: 0.9143 - val_loss: 0.3455 - val_accuracy: 0.8803\n",
      "Epoch 9/200\n",
      "234/234 [==============================] - 12s 50ms/step - loss: 0.2076 - accuracy: 0.9204 - val_loss: 0.3371 - val_accuracy: 0.8831\n",
      "Epoch 10/200\n",
      "234/234 [==============================] - 12s 50ms/step - loss: 0.1873 - accuracy: 0.9280 - val_loss: 0.3287 - val_accuracy: 0.8876\n",
      "Epoch 11/200\n",
      "234/234 [==============================] - 11s 47ms/step - loss: 0.1718 - accuracy: 0.9332 - val_loss: 0.3445 - val_accuracy: 0.8827\n",
      "Epoch 12/200\n",
      "234/234 [==============================] - 11s 47ms/step - loss: 0.1602 - accuracy: 0.9371 - val_loss: 0.3318 - val_accuracy: 0.8873\n",
      "Epoch 13/200\n",
      "234/234 [==============================] - 12s 50ms/step - loss: 0.1442 - accuracy: 0.9439 - val_loss: 0.3337 - val_accuracy: 0.8922\n",
      "Epoch 14/200\n",
      "234/234 [==============================] - 11s 47ms/step - loss: 0.1323 - accuracy: 0.9473 - val_loss: 0.3420 - val_accuracy: 0.8901\n",
      "Epoch 15/200\n",
      "234/234 [==============================] - 11s 47ms/step - loss: 0.1215 - accuracy: 0.9520 - val_loss: 0.3659 - val_accuracy: 0.8857\n",
      "Epoch 16/200\n",
      "234/234 [==============================] - 12s 49ms/step - loss: 0.1135 - accuracy: 0.9555 - val_loss: 0.3594 - val_accuracy: 0.8928\n",
      "Epoch 17/200\n",
      "234/234 [==============================] - 11s 47ms/step - loss: 0.1032 - accuracy: 0.9588 - val_loss: 0.3831 - val_accuracy: 0.8902\n",
      "Epoch 18/200\n",
      "234/234 [==============================] - 11s 47ms/step - loss: 0.0987 - accuracy: 0.9614 - val_loss: 0.3959 - val_accuracy: 0.8908\n",
      "Epoch 19/200\n",
      "234/234 [==============================] - 11s 47ms/step - loss: 0.0906 - accuracy: 0.9648 - val_loss: 0.4039 - val_accuracy: 0.8903\n",
      "Epoch 20/200\n",
      "234/234 [==============================] - 11s 47ms/step - loss: 0.0837 - accuracy: 0.9681 - val_loss: 0.4311 - val_accuracy: 0.8891\n",
      "Epoch 21/200\n",
      "234/234 [==============================] - 11s 47ms/step - loss: 0.0753 - accuracy: 0.9707 - val_loss: 0.4346 - val_accuracy: 0.8897\n",
      "Epoch 22/200\n",
      "234/234 [==============================] - 11s 47ms/step - loss: 0.0700 - accuracy: 0.9723 - val_loss: 0.4487 - val_accuracy: 0.8919\n",
      "Epoch 23/200\n",
      "234/234 [==============================] - 11s 47ms/step - loss: 0.0607 - accuracy: 0.9771 - val_loss: 0.4735 - val_accuracy: 0.8896\n",
      "Epoch 24/200\n",
      "234/234 [==============================] - 11s 48ms/step - loss: 0.0605 - accuracy: 0.9776 - val_loss: 0.5045 - val_accuracy: 0.8889\n",
      "Epoch 25/200\n",
      "234/234 [==============================] - 11s 47ms/step - loss: 0.0596 - accuracy: 0.9777 - val_loss: 0.4913 - val_accuracy: 0.8887\n",
      "Epoch 26/200\n",
      "234/234 [==============================] - 11s 47ms/step - loss: 0.0541 - accuracy: 0.9796 - val_loss: 0.4947 - val_accuracy: 0.8912\n",
      "Epoch 27/200\n",
      "234/234 [==============================] - 11s 47ms/step - loss: 0.0477 - accuracy: 0.9823 - val_loss: 0.5226 - val_accuracy: 0.8912\n",
      "Epoch 28/200\n",
      "234/234 [==============================] - 11s 47ms/step - loss: 0.0431 - accuracy: 0.9843 - val_loss: 0.5347 - val_accuracy: 0.8902\n",
      "Epoch 29/200\n",
      "234/234 [==============================] - 11s 47ms/step - loss: 0.0390 - accuracy: 0.9861 - val_loss: 0.5364 - val_accuracy: 0.8890\n",
      "Epoch 30/200\n",
      "234/234 [==============================] - 11s 47ms/step - loss: 0.0370 - accuracy: 0.9875 - val_loss: 0.5895 - val_accuracy: 0.8894\n",
      "Epoch 31/200\n",
      "234/234 [==============================] - 11s 47ms/step - loss: 0.0373 - accuracy: 0.9870 - val_loss: 0.5716 - val_accuracy: 0.8914\n",
      "Epoch 32/200\n",
      "234/234 [==============================] - 11s 47ms/step - loss: 0.0378 - accuracy: 0.9869 - val_loss: 0.6037 - val_accuracy: 0.8880\n",
      "Epoch 33/200\n",
      "234/234 [==============================] - 11s 47ms/step - loss: 0.0332 - accuracy: 0.9886 - val_loss: 0.6178 - val_accuracy: 0.8884\n",
      "Epoch 33: early stopping\n"
     ]
    },
    {
     "data": {
      "text/plain": [
       "<keras.src.callbacks.History at 0x7f66447f1480>"
      ]
     },
     "execution_count": 6,
     "metadata": {},
     "output_type": "execute_result"
    }
   ],
   "source": [
    "from keras.callbacks import EarlyStopping, ModelCheckpoint, TensorBoard\n",
    "\n",
    "tensorboard_callback = TensorBoard(log_dir=\"./logs/cnn/\")\n",
    "earlystop_cb = EarlyStopping(monitor='val_accuracy', patience=20, min_delta=0.001, verbose=True)\n",
    "modelcheckpoint_cb = ModelCheckpoint('models/CNNmodel.h5', 'val_accuracy', save_best_only=True)\n",
    "\n",
    "modelo.fit(\n",
    "    x,\n",
    "    y_one_hot,\n",
    "    shuffle=True, \n",
    "    epochs=200,\n",
    "    batch_size=256,\n",
    "    validation_split=0.2,\n",
    "    callbacks=[tensorboard_callback, earlystop_cb, modelcheckpoint_cb]\n",
    ")"
   ]
  },
  {
   "cell_type": "code",
   "execution_count": null,
   "metadata": {},
   "outputs": [],
   "source": [
    "# modelo.save('models/tf-cnn-model')"
   ]
  }
 ],
 "metadata": {
  "kernelspec": {
   "display_name": "Python 3",
   "language": "python",
   "name": "python3"
  },
  "language_info": {
   "codemirror_mode": {
    "name": "ipython",
    "version": 3
   },
   "file_extension": ".py",
   "mimetype": "text/x-python",
   "name": "python",
   "nbconvert_exporter": "python",
   "pygments_lexer": "ipython3",
   "version": "3.10.12"
  },
  "orig_nbformat": 4
 },
 "nbformat": 4,
 "nbformat_minor": 2
}
