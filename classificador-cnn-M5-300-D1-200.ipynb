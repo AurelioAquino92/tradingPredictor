{
 "cells": [
  {
   "attachments": {},
   "cell_type": "markdown",
   "metadata": {},
   "source": [
    "# Bibliotecas"
   ]
  },
  {
   "cell_type": "code",
   "execution_count": 1,
   "metadata": {},
   "outputs": [],
   "source": [
    "from obterDados import obterSimboloPosicao, obterSimboloData\n",
    "import numpy as np\n",
    "from tqdm import tqdm\n",
    "from matplotlib import pyplot as plt\n",
    "import tensorflow as tf\n",
    "from keras.models import Sequential\n",
    "from keras.layers import Conv2D\n",
    "from keras.layers import MaxPooling2D\n",
    "from keras.layers import Flatten\n",
    "from keras.layers import Dense"
   ]
  },
  {
   "attachments": {},
   "cell_type": "markdown",
   "metadata": {},
   "source": [
    "# Obtendo dados"
   ]
  },
  {
   "cell_type": "code",
   "execution_count": 2,
   "metadata": {},
   "outputs": [
    {
     "data": {
      "text/html": [
       "<div>\n",
       "<style scoped>\n",
       "    .dataframe tbody tr th:only-of-type {\n",
       "        vertical-align: middle;\n",
       "    }\n",
       "\n",
       "    .dataframe tbody tr th {\n",
       "        vertical-align: top;\n",
       "    }\n",
       "\n",
       "    .dataframe thead th {\n",
       "        text-align: right;\n",
       "    }\n",
       "</style>\n",
       "<table border=\"1\" class=\"dataframe\">\n",
       "  <thead>\n",
       "    <tr style=\"text-align: right;\">\n",
       "      <th></th>\n",
       "      <th>open</th>\n",
       "      <th>high</th>\n",
       "      <th>low</th>\n",
       "      <th>close</th>\n",
       "      <th>tick_volume</th>\n",
       "      <th>real_volume</th>\n",
       "    </tr>\n",
       "    <tr>\n",
       "      <th>time</th>\n",
       "      <th></th>\n",
       "      <th></th>\n",
       "      <th></th>\n",
       "      <th></th>\n",
       "      <th></th>\n",
       "      <th></th>\n",
       "    </tr>\n",
       "  </thead>\n",
       "  <tbody>\n",
       "    <tr>\n",
       "      <th>2020-01-21 12:00:00</th>\n",
       "      <td>4204.0</td>\n",
       "      <td>4205.0</td>\n",
       "      <td>4202.5</td>\n",
       "      <td>4204.0</td>\n",
       "      <td>1938</td>\n",
       "      <td>8761</td>\n",
       "    </tr>\n",
       "    <tr>\n",
       "      <th>2020-01-21 12:05:00</th>\n",
       "      <td>4204.0</td>\n",
       "      <td>4206.0</td>\n",
       "      <td>4203.5</td>\n",
       "      <td>4204.5</td>\n",
       "      <td>2064</td>\n",
       "      <td>8493</td>\n",
       "    </tr>\n",
       "    <tr>\n",
       "      <th>2020-01-21 12:10:00</th>\n",
       "      <td>4204.5</td>\n",
       "      <td>4205.0</td>\n",
       "      <td>4200.5</td>\n",
       "      <td>4200.5</td>\n",
       "      <td>3023</td>\n",
       "      <td>11783</td>\n",
       "    </tr>\n",
       "    <tr>\n",
       "      <th>2020-01-21 12:15:00</th>\n",
       "      <td>4200.5</td>\n",
       "      <td>4203.5</td>\n",
       "      <td>4199.5</td>\n",
       "      <td>4202.5</td>\n",
       "      <td>3415</td>\n",
       "      <td>12904</td>\n",
       "    </tr>\n",
       "    <tr>\n",
       "      <th>2020-01-21 12:20:00</th>\n",
       "      <td>4202.5</td>\n",
       "      <td>4205.5</td>\n",
       "      <td>4202.5</td>\n",
       "      <td>4205.0</td>\n",
       "      <td>2098</td>\n",
       "      <td>7592</td>\n",
       "    </tr>\n",
       "    <tr>\n",
       "      <th>...</th>\n",
       "      <td>...</td>\n",
       "      <td>...</td>\n",
       "      <td>...</td>\n",
       "      <td>...</td>\n",
       "      <td>...</td>\n",
       "      <td>...</td>\n",
       "    </tr>\n",
       "    <tr>\n",
       "      <th>2023-09-19 17:35:00</th>\n",
       "      <td>4878.0</td>\n",
       "      <td>4879.0</td>\n",
       "      <td>4877.5</td>\n",
       "      <td>4878.0</td>\n",
       "      <td>612</td>\n",
       "      <td>10182</td>\n",
       "    </tr>\n",
       "    <tr>\n",
       "      <th>2023-09-19 17:40:00</th>\n",
       "      <td>4878.0</td>\n",
       "      <td>4878.5</td>\n",
       "      <td>4877.5</td>\n",
       "      <td>4878.0</td>\n",
       "      <td>495</td>\n",
       "      <td>5478</td>\n",
       "    </tr>\n",
       "    <tr>\n",
       "      <th>2023-09-19 17:45:00</th>\n",
       "      <td>4878.0</td>\n",
       "      <td>4878.5</td>\n",
       "      <td>4875.0</td>\n",
       "      <td>4875.5</td>\n",
       "      <td>1309</td>\n",
       "      <td>14140</td>\n",
       "    </tr>\n",
       "    <tr>\n",
       "      <th>2023-09-19 17:50:00</th>\n",
       "      <td>4876.0</td>\n",
       "      <td>4877.0</td>\n",
       "      <td>4874.5</td>\n",
       "      <td>4875.0</td>\n",
       "      <td>720</td>\n",
       "      <td>9867</td>\n",
       "    </tr>\n",
       "    <tr>\n",
       "      <th>2023-09-19 17:55:00</th>\n",
       "      <td>4875.0</td>\n",
       "      <td>4876.5</td>\n",
       "      <td>4874.0</td>\n",
       "      <td>4875.5</td>\n",
       "      <td>535</td>\n",
       "      <td>6508</td>\n",
       "    </tr>\n",
       "  </tbody>\n",
       "</table>\n",
       "<p>99999 rows × 6 columns</p>\n",
       "</div>"
      ],
      "text/plain": [
       "                       open    high     low   close  tick_volume  real_volume\n",
       "time                                                                         \n",
       "2020-01-21 12:00:00  4204.0  4205.0  4202.5  4204.0         1938         8761\n",
       "2020-01-21 12:05:00  4204.0  4206.0  4203.5  4204.5         2064         8493\n",
       "2020-01-21 12:10:00  4204.5  4205.0  4200.5  4200.5         3023        11783\n",
       "2020-01-21 12:15:00  4200.5  4203.5  4199.5  4202.5         3415        12904\n",
       "2020-01-21 12:20:00  4202.5  4205.5  4202.5  4205.0         2098         7592\n",
       "...                     ...     ...     ...     ...          ...          ...\n",
       "2023-09-19 17:35:00  4878.0  4879.0  4877.5  4878.0          612        10182\n",
       "2023-09-19 17:40:00  4878.0  4878.5  4877.5  4878.0          495         5478\n",
       "2023-09-19 17:45:00  4878.0  4878.5  4875.0  4875.5         1309        14140\n",
       "2023-09-19 17:50:00  4876.0  4877.0  4874.5  4875.0          720         9867\n",
       "2023-09-19 17:55:00  4875.0  4876.5  4874.0  4875.5          535         6508\n",
       "\n",
       "[99999 rows x 6 columns]"
      ]
     },
     "execution_count": 2,
     "metadata": {},
     "output_type": "execute_result"
    }
   ],
   "source": [
    "rawDataM5 = obterSimboloPosicao('WDO$N')\n",
    "rawDataM5"
   ]
  },
  {
   "cell_type": "code",
   "execution_count": 3,
   "metadata": {},
   "outputs": [
    {
     "data": {
      "text/html": [
       "<div>\n",
       "<style scoped>\n",
       "    .dataframe tbody tr th:only-of-type {\n",
       "        vertical-align: middle;\n",
       "    }\n",
       "\n",
       "    .dataframe tbody tr th {\n",
       "        vertical-align: top;\n",
       "    }\n",
       "\n",
       "    .dataframe thead th {\n",
       "        text-align: right;\n",
       "    }\n",
       "</style>\n",
       "<table border=\"1\" class=\"dataframe\">\n",
       "  <thead>\n",
       "    <tr style=\"text-align: right;\">\n",
       "      <th></th>\n",
       "      <th>open</th>\n",
       "      <th>high</th>\n",
       "      <th>low</th>\n",
       "      <th>close</th>\n",
       "      <th>tick_volume</th>\n",
       "      <th>real_volume</th>\n",
       "    </tr>\n",
       "    <tr>\n",
       "      <th>time</th>\n",
       "      <th></th>\n",
       "      <th></th>\n",
       "      <th></th>\n",
       "      <th></th>\n",
       "      <th></th>\n",
       "      <th></th>\n",
       "    </tr>\n",
       "  </thead>\n",
       "  <tbody>\n",
       "    <tr>\n",
       "      <th>2020-01-21 12:00:00</th>\n",
       "      <td>4204.0</td>\n",
       "      <td>4205.0</td>\n",
       "      <td>4202.5</td>\n",
       "      <td>4204.0</td>\n",
       "      <td>1938</td>\n",
       "      <td>8761</td>\n",
       "    </tr>\n",
       "    <tr>\n",
       "      <th>2020-01-21 12:05:00</th>\n",
       "      <td>4204.0</td>\n",
       "      <td>4206.0</td>\n",
       "      <td>4203.5</td>\n",
       "      <td>4204.5</td>\n",
       "      <td>2064</td>\n",
       "      <td>8493</td>\n",
       "    </tr>\n",
       "    <tr>\n",
       "      <th>2020-01-21 12:10:00</th>\n",
       "      <td>4204.5</td>\n",
       "      <td>4205.0</td>\n",
       "      <td>4200.5</td>\n",
       "      <td>4200.5</td>\n",
       "      <td>3023</td>\n",
       "      <td>11783</td>\n",
       "    </tr>\n",
       "    <tr>\n",
       "      <th>2020-01-21 12:15:00</th>\n",
       "      <td>4200.5</td>\n",
       "      <td>4203.5</td>\n",
       "      <td>4199.5</td>\n",
       "      <td>4202.5</td>\n",
       "      <td>3415</td>\n",
       "      <td>12904</td>\n",
       "    </tr>\n",
       "    <tr>\n",
       "      <th>2020-01-21 12:20:00</th>\n",
       "      <td>4202.5</td>\n",
       "      <td>4205.5</td>\n",
       "      <td>4202.5</td>\n",
       "      <td>4205.0</td>\n",
       "      <td>2098</td>\n",
       "      <td>7592</td>\n",
       "    </tr>\n",
       "    <tr>\n",
       "      <th>...</th>\n",
       "      <td>...</td>\n",
       "      <td>...</td>\n",
       "      <td>...</td>\n",
       "      <td>...</td>\n",
       "      <td>...</td>\n",
       "      <td>...</td>\n",
       "    </tr>\n",
       "    <tr>\n",
       "      <th>2022-09-22 11:25:00</th>\n",
       "      <td>5182.0</td>\n",
       "      <td>5186.0</td>\n",
       "      <td>5178.0</td>\n",
       "      <td>5182.0</td>\n",
       "      <td>16432</td>\n",
       "      <td>74328</td>\n",
       "    </tr>\n",
       "    <tr>\n",
       "      <th>2022-09-22 11:30:00</th>\n",
       "      <td>5182.0</td>\n",
       "      <td>5187.0</td>\n",
       "      <td>5178.0</td>\n",
       "      <td>5185.5</td>\n",
       "      <td>15844</td>\n",
       "      <td>56609</td>\n",
       "    </tr>\n",
       "    <tr>\n",
       "      <th>2022-09-22 11:35:00</th>\n",
       "      <td>5185.5</td>\n",
       "      <td>5191.5</td>\n",
       "      <td>5183.0</td>\n",
       "      <td>5189.5</td>\n",
       "      <td>15123</td>\n",
       "      <td>53868</td>\n",
       "    </tr>\n",
       "    <tr>\n",
       "      <th>2022-09-22 11:40:00</th>\n",
       "      <td>5189.5</td>\n",
       "      <td>5193.0</td>\n",
       "      <td>5188.0</td>\n",
       "      <td>5192.0</td>\n",
       "      <td>10527</td>\n",
       "      <td>35505</td>\n",
       "    </tr>\n",
       "    <tr>\n",
       "      <th>2022-09-22 11:45:00</th>\n",
       "      <td>5191.5</td>\n",
       "      <td>5194.5</td>\n",
       "      <td>5189.0</td>\n",
       "      <td>5190.5</td>\n",
       "      <td>11150</td>\n",
       "      <td>39940</td>\n",
       "    </tr>\n",
       "  </tbody>\n",
       "</table>\n",
       "<p>72783 rows × 6 columns</p>\n",
       "</div>"
      ],
      "text/plain": [
       "                       open    high     low   close  tick_volume  real_volume\n",
       "time                                                                         \n",
       "2020-01-21 12:00:00  4204.0  4205.0  4202.5  4204.0         1938         8761\n",
       "2020-01-21 12:05:00  4204.0  4206.0  4203.5  4204.5         2064         8493\n",
       "2020-01-21 12:10:00  4204.5  4205.0  4200.5  4200.5         3023        11783\n",
       "2020-01-21 12:15:00  4200.5  4203.5  4199.5  4202.5         3415        12904\n",
       "2020-01-21 12:20:00  4202.5  4205.5  4202.5  4205.0         2098         7592\n",
       "...                     ...     ...     ...     ...          ...          ...\n",
       "2022-09-22 11:25:00  5182.0  5186.0  5178.0  5182.0        16432        74328\n",
       "2022-09-22 11:30:00  5182.0  5187.0  5178.0  5185.5        15844        56609\n",
       "2022-09-22 11:35:00  5185.5  5191.5  5183.0  5189.5        15123        53868\n",
       "2022-09-22 11:40:00  5189.5  5193.0  5188.0  5192.0        10527        35505\n",
       "2022-09-22 11:45:00  5191.5  5194.5  5189.0  5190.5        11150        39940\n",
       "\n",
       "[72783 rows x 6 columns]"
      ]
     },
     "execution_count": 3,
     "metadata": {},
     "output_type": "execute_result"
    }
   ],
   "source": [
    "rawDataM5[:-252*108]"
   ]
  },
  {
   "cell_type": "code",
   "execution_count": 4,
   "metadata": {},
   "outputs": [
    {
     "data": {
      "text/plain": [
       "array([[4.2040e+03, 4.2050e+03, 4.2025e+03, ..., 1.2000e+01, 1.0000e+00,\n",
       "        2.1000e+01],\n",
       "       [4.2040e+03, 4.2060e+03, 4.2035e+03, ..., 1.2000e+01, 1.0000e+00,\n",
       "        2.1000e+01],\n",
       "       [4.2045e+03, 4.2050e+03, 4.2005e+03, ..., 1.2000e+01, 1.0000e+00,\n",
       "        2.1000e+01],\n",
       "       ...,\n",
       "       [4.8780e+03, 4.8785e+03, 4.8750e+03, ..., 1.7000e+01, 1.0000e+00,\n",
       "        1.9000e+01],\n",
       "       [4.8760e+03, 4.8770e+03, 4.8745e+03, ..., 1.7000e+01, 1.0000e+00,\n",
       "        1.9000e+01],\n",
       "       [4.8750e+03, 4.8765e+03, 4.8740e+03, ..., 1.7000e+01, 1.0000e+00,\n",
       "        1.9000e+01]])"
      ]
     },
     "execution_count": 4,
     "metadata": {},
     "output_type": "execute_result"
    }
   ],
   "source": [
    "rawDataM5['minute'] = rawDataM5.index.minute\n",
    "rawDataM5['hour'] = rawDataM5.index.hour\n",
    "rawDataM5['day_of_week'] = rawDataM5.index.day_of_week\n",
    "rawDataM5['day'] = rawDataM5.index.day\n",
    "rawDataM5NP = rawDataM5.to_numpy()\n",
    "# rawNP = rawDataM5[:-252*108].to_numpy()\n",
    "rawDataM5NP"
   ]
  },
  {
   "cell_type": "code",
   "execution_count": 5,
   "metadata": {},
   "outputs": [],
   "source": [
    "# np.save(open('data/raw/rawDataM5.npy', 'wb'), rawNP)"
   ]
  },
  {
   "attachments": {},
   "cell_type": "markdown",
   "metadata": {},
   "source": [
    "# Tratamento de Dados"
   ]
  },
  {
   "attachments": {},
   "cell_type": "markdown",
   "metadata": {},
   "source": [
    "### Gerando colunas com preços passados"
   ]
  },
  {
   "cell_type": "code",
   "execution_count": 7,
   "metadata": {},
   "outputs": [
    {
     "name": "stderr",
     "output_type": "stream",
     "text": [
      "100%|██████████| 99675/99675 [00:00<00:00, 111823.02it/s]\n"
     ]
    }
   ],
   "source": [
    "nPassado = 300\n",
    "nFuturo = 24\n",
    "histM5NP = np.zeros((len(rawDataM5NP)-(nPassado+nFuturo), nPassado+1, 6))\n",
    "for i in tqdm(range(len(histM5NP))):\n",
    "    histM5NP[i, 0, -4:] = rawDataM5NP[i:i+nPassado][-1][-4:]\n",
    "    histM5NP[i, 1:] = rawDataM5NP[i:i+nPassado, :6]"
   ]
  },
  {
   "cell_type": "markdown",
   "metadata": {},
   "source": [
    "### Achar quando comprar, vender ou fazer nada"
   ]
  },
  {
   "cell_type": "code",
   "execution_count": 8,
   "metadata": {},
   "outputs": [
    {
     "name": "stderr",
     "output_type": "stream",
     "text": [
      "100%|██████████| 99675/99675 [00:01<00:00, 56496.63it/s]\n"
     ]
    }
   ],
   "source": [
    "pontos = 30\n",
    "y = np.zeros((len(histM5NP)))\n",
    "for i in tqdm(range(len(y))):\n",
    "    ultimoPreco = histM5NP[i, -1, 3]\n",
    "    for j in range(nFuturo):\n",
    "        # nao fazer nada se for mais de 14hs\n",
    "        # if rawNP[nPassado+i+j, -3] > 14:\n",
    "        #     break\n",
    "        # comprar\n",
    "        if rawDataM5NP[nPassado+i+j, 1] >= ultimoPreco + pontos:\n",
    "            y[i] = 1\n",
    "            break\n",
    "        # vender\n",
    "        if rawDataM5NP[nPassado+i+j, 2] <= ultimoPreco - pontos:\n",
    "            y[i] = 2\n",
    "            break"
   ]
  },
  {
   "cell_type": "markdown",
   "metadata": {},
   "source": [
    "# Obtendo histórico D1"
   ]
  },
  {
   "cell_type": "code",
   "execution_count": 10,
   "metadata": {},
   "outputs": [
    {
     "name": "stderr",
     "output_type": "stream",
     "text": [
      "100%|██████████| 99675/99675 [16:17<00:00, 101.93it/s]\n"
     ]
    }
   ],
   "source": [
    "histNP = np.zeros((histM5NP.shape[0], histM5NP.shape[1] + 200, histM5NP.shape[2]))\n",
    "\n",
    "for i in tqdm(range(len(histNP))):\n",
    "    rawDataD1 = obterSimboloData(rawDataM5.index[i+nFuturo])\n",
    "    rawDataD1NP = rawDataD1.to_numpy()\n",
    "    histNP[i, :histM5NP.shape[1]] = histM5NP[i]\n",
    "    histNP[i, histM5NP.shape[1]:] = rawDataD1NP\n",
    "    "
   ]
  },
  {
   "cell_type": "markdown",
   "metadata": {},
   "source": [
    "### Normalização"
   ]
  },
  {
   "cell_type": "code",
   "execution_count": 11,
   "metadata": {},
   "outputs": [
    {
     "name": "stderr",
     "output_type": "stream",
     "text": [
      "100%|██████████| 99675/99675 [00:14<00:00, 6935.57it/s]\n"
     ]
    }
   ],
   "source": [
    "histNPNorm = np.zeros(histNP.shape, dtype=np.float64)\n",
    "for i in tqdm(range(len(histNPNorm))):\n",
    "    # preços\n",
    "    vmax = histNP[i, 1:, :4].max()\n",
    "    vmin = histNP[i, 1:, :4].min()\n",
    "    histNPNorm[i, 1:, :4] = (histNP[i, 1:, :4] - vmin) / (vmax - vmin)\n",
    "    # tick volume\n",
    "    vmax = histNP[i, 1:, 4].max()\n",
    "    vmin = histNP[i, 1:, 4].min()\n",
    "    histNPNorm[i, 1:, 4] = (histNP[i, 1:, 4] - vmin) / (vmax - vmin)\n",
    "    # real volume\n",
    "    vmax = histNP[i, 1:, 5].max()\n",
    "    vmin = histNP[i, 1:, 5].min()\n",
    "    histNPNorm[i, 1:, 5] = (histNP[i, 1:, 5] - vmin) / (vmax - vmin)\n",
    "# minuto\n",
    "histNPNorm[:, 0, 2] = histNP[:, 0, 2] / 60\n",
    "# hora\n",
    "histNPNorm[:, 0, 3] = histNP[:, 0, 3] / 24\n",
    "# dia da semana\n",
    "histNPNorm[:, 0, 4] = histNP[:, 0, 4] / 4\n",
    "# dia\n",
    "histNPNorm[:, 0, 5] = histNP[:, 0, 5] / 31\n"
   ]
  },
  {
   "cell_type": "markdown",
   "metadata": {},
   "source": [
    "### Sem Reshape para 2d no caso para CNNs"
   ]
  },
  {
   "cell_type": "code",
   "execution_count": 12,
   "metadata": {},
   "outputs": [],
   "source": [
    "x = histNPNorm"
   ]
  },
  {
   "cell_type": "markdown",
   "metadata": {},
   "source": [
    "### Balanceamento de Classes"
   ]
  },
  {
   "cell_type": "code",
   "execution_count": 13,
   "metadata": {},
   "outputs": [
    {
     "name": "stdout",
     "output_type": "stream",
     "text": [
      "[57481 20673 21521]\n"
     ]
    },
    {
     "data": {
      "text/plain": [
       "([<matplotlib.patches.Wedge at 0x2b6a404da80>,\n",
       "  <matplotlib.patches.Wedge at 0x2b6a40413c0>,\n",
       "  <matplotlib.patches.Wedge at 0x2b6a404c730>],\n",
       " [Text(-0.26244576737134995, 1.0682332232190044, '0.0'),\n",
       "  Text(-0.46594023596609985, -0.996443523993134, '1.0'),\n",
       "  Text(0.8565000637785553, -0.6902228920771398, '2.0')])"
      ]
     },
     "execution_count": 13,
     "metadata": {},
     "output_type": "execute_result"
    },
    {
     "data": {
      "image/png": "[encoded data removed]",
      "text/plain": [
       "<Figure size 640x480 with 1 Axes>"
      ]
     },
     "metadata": {},
     "output_type": "display_data"
    }
   ],
   "source": [
    "unicos, contagem = np.unique(y, return_counts=True)\n",
    "print(contagem)\n",
    "plt.pie(contagem, labels=unicos)"
   ]
  },
  {
   "cell_type": "code",
   "execution_count": 14,
   "metadata": {},
   "outputs": [
    {
     "data": {
      "text/plain": [
       "(62019, 501, 7)"
      ]
     },
     "execution_count": 14,
     "metadata": {},
     "output_type": "execute_result"
    }
   ],
   "source": [
    "amostra = contagem.min()\n",
    "Amostragem = np.zeros((amostra * 3, x.shape[1], x.shape[2] + 1), dtype=np.float64)\n",
    "\n",
    "for i in range(3):\n",
    "    xClasse_i = x[y == i]\n",
    "    xAmostra = xClasse_i[np.random.choice(xClasse_i.shape[0], size=amostra, replace=False)]\n",
    "    Amostragem[i*amostra:(i+1)*amostra, :, :-1] = xAmostra\n",
    "    Amostragem[i*amostra:(i+1)*amostra, :, -1] = i\n",
    "\n",
    "Amostragem.shape"
   ]
  },
  {
   "cell_type": "code",
   "execution_count": 15,
   "metadata": {},
   "outputs": [
    {
     "data": {
      "text/plain": [
       "array([1., 2., 2., ..., 2., 2., 0.])"
      ]
     },
     "execution_count": 15,
     "metadata": {},
     "output_type": "execute_result"
    }
   ],
   "source": [
    "np.random.shuffle(Amostragem)\n",
    "x = Amostragem[:, :, :-1]\n",
    "y = Amostragem[:, :, -1][:, 0]\n",
    "y"
   ]
  },
  {
   "cell_type": "code",
   "execution_count": 16,
   "metadata": {},
   "outputs": [
    {
     "name": "stdout",
     "output_type": "stream",
     "text": [
      "[20673 20673 20673]\n"
     ]
    },
    {
     "data": {
      "text/plain": [
       "([<matplotlib.patches.Wedge at 0x2b6a40b9cc0>,\n",
       "  <matplotlib.patches.Wedge at 0x2b6a40ba140>,\n",
       "  <matplotlib.patches.Wedge at 0x2b6a40ba5c0>],\n",
       " [Text(0.5499999702695115, 0.9526279613277875, '0.0'),\n",
       "  Text(-1.0999999999999954, -1.0298943258065002e-07, '1.0'),\n",
       "  Text(0.5500001486524352, -0.9526278583383436, '2.0')])"
      ]
     },
     "execution_count": 16,
     "metadata": {},
     "output_type": "execute_result"
    },
    {
     "data": {
      "image/png": "[encoded data removed]",
      "text/plain": [
       "<Figure size 640x480 with 1 Axes>"
      ]
     },
     "metadata": {},
     "output_type": "display_data"
    }
   ],
   "source": [
    "unicos, contagem = np.unique(y, return_counts=True)\n",
    "print(contagem)\n",
    "plt.pie(contagem, labels=unicos)"
   ]
  },
  {
   "attachments": {},
   "cell_type": "markdown",
   "metadata": {},
   "source": [
    "### Separar dados de treino e teste"
   ]
  },
  {
   "cell_type": "code",
   "execution_count": 17,
   "metadata": {},
   "outputs": [],
   "source": [
    "np.save(open('data/cnn/x.npy', 'wb'), x)\n",
    "np.save(open('data/cnn/y.npy', 'wb'), y)"
   ]
  },
  {
   "cell_type": "code",
   "execution_count": 18,
   "metadata": {},
   "outputs": [],
   "source": [
    "x = np.float64(np.load(open('data/cnn/x.npy', 'rb')))\n",
    "y = np.int8(np.load(open('data/cnn/y.npy', 'rb')))"
   ]
  },
  {
   "cell_type": "code",
   "execution_count": 19,
   "metadata": {},
   "outputs": [
    {
     "data": {
      "text/plain": [
       "array([[0., 1., 0.],\n",
       "       [0., 0., 1.],\n",
       "       [0., 0., 1.],\n",
       "       ...,\n",
       "       [0., 0., 1.],\n",
       "       [0., 0., 1.],\n",
       "       [1., 0., 0.]], dtype=float32)"
      ]
     },
     "execution_count": 19,
     "metadata": {},
     "output_type": "execute_result"
    }
   ],
   "source": [
    "from keras.utils import to_categorical\n",
    "\n",
    "y_one_hot = to_categorical(y, 3)\n",
    "y_one_hot"
   ]
  },
  {
   "cell_type": "code",
   "execution_count": 20,
   "metadata": {},
   "outputs": [],
   "source": [
    "# from sklearn.model_selection import train_test_split\n",
    "\n",
    "# x_train, x_test, y_train, y_test = train_test_split(x, y_one_hot, test_size=0.2)"
   ]
  },
  {
   "cell_type": "markdown",
   "metadata": {},
   "source": [
    "# Criar Modelo"
   ]
  },
  {
   "cell_type": "code",
   "execution_count": 29,
   "metadata": {},
   "outputs": [
    {
     "name": "stdout",
     "output_type": "stream",
     "text": [
      "Model: \"sequential_7\"\n",
      "_________________________________________________________________\n",
      " Layer (type)                Output Shape              Param #   \n",
      "=================================================================\n",
      " conv2d_10 (Conv2D)          (None, 487, 4, 128)       5888      \n",
      "                                                                 \n",
      " max_pooling2d_8 (MaxPoolin  (None, 243, 2, 128)       0         \n",
      " g2D)                                                            \n",
      "                                                                 \n",
      " flatten_5 (Flatten)         (None, 62208)             0         \n",
      "                                                                 \n",
      " dense_15 (Dense)            (None, 256)               15925504  \n",
      "                                                                 \n",
      " dense_16 (Dense)            (None, 256)               65792     \n",
      "                                                                 \n",
      " dense_17 (Dense)            (None, 3)                 771       \n",
      "                                                                 \n",
      "=================================================================\n",
      "Total params: 15997955 (61.03 MB)\n",
      "Trainable params: 15997955 (61.03 MB)\n",
      "Non-trainable params: 0 (0.00 Byte)\n",
      "_________________________________________________________________\n"
     ]
    }
   ],
   "source": [
    "modelo = Sequential()\n",
    "\n",
    "modelo.add(Conv2D(128, (15, 3), activation='relu', input_shape=(501, 6, 1)))\n",
    "modelo.add(MaxPooling2D((2, 2)))\n",
    "\n",
    "modelo.add(Flatten())\n",
    "modelo.add(Dense(128, activation='relu'))\n",
    "modelo.add(Dense(128, activation='relu'))\n",
    "modelo.add(Dense(3, activation='softmax'))\n",
    "\n",
    "modelo.compile(optimizer='adam',\n",
    "              loss='categorical_crossentropy',\n",
    "              metrics=['accuracy'])\n",
    "\n",
    "modelo.summary()"
   ]
  },
  {
   "cell_type": "markdown",
   "metadata": {},
   "source": [
    "# Treinar Modelo"
   ]
  },
  {
   "cell_type": "code",
   "execution_count": 30,
   "metadata": {},
   "outputs": [
    {
     "name": "stdout",
     "output_type": "stream",
     "text": [
      "Epoch 1/100\n",
      "776/776 [==============================] - 339s 435ms/step - loss: 1.0509 - accuracy: 0.4339 - val_loss: 1.0102 - val_accuracy: 0.4749\n",
      "Epoch 2/100\n",
      "776/776 [==============================] - 447s 576ms/step - loss: 0.9534 - accuracy: 0.5200 - val_loss: 0.9146 - val_accuracy: 0.5487\n",
      "Epoch 3/100\n",
      "776/776 [==============================] - 482s 621ms/step - loss: 0.8797 - accuracy: 0.5778 - val_loss: 0.8398 - val_accuracy: 0.6098\n",
      "Epoch 4/100\n",
      "776/776 [==============================] - 494s 637ms/step - loss: 0.7883 - accuracy: 0.6393 - val_loss: 0.7521 - val_accuracy: 0.6617\n",
      "Epoch 5/100\n",
      "776/776 [==============================] - 504s 650ms/step - loss: 0.6826 - accuracy: 0.6988 - val_loss: 0.6618 - val_accuracy: 0.7165\n",
      "Epoch 6/100\n",
      "776/776 [==============================] - 522s 673ms/step - loss: 0.5957 - accuracy: 0.7491 - val_loss: 0.5838 - val_accuracy: 0.7609\n",
      "Epoch 7/100\n",
      "776/776 [==============================] - 524s 675ms/step - loss: 0.5277 - accuracy: 0.7815 - val_loss: 0.5353 - val_accuracy: 0.7816\n",
      "Epoch 8/100\n",
      "776/776 [==============================] - 529s 682ms/step - loss: 0.4760 - accuracy: 0.8073 - val_loss: 0.5246 - val_accuracy: 0.7883\n",
      "Epoch 9/100\n",
      "776/776 [==============================] - 525s 677ms/step - loss: 0.4361 - accuracy: 0.8256 - val_loss: 0.4866 - val_accuracy: 0.8086\n",
      "Epoch 10/100\n",
      "776/776 [==============================] - 524s 676ms/step - loss: 0.4013 - accuracy: 0.8402 - val_loss: 0.4831 - val_accuracy: 0.8094\n",
      "Epoch 11/100\n",
      "776/776 [==============================] - 523s 674ms/step - loss: 0.3790 - accuracy: 0.8488 - val_loss: 0.4369 - val_accuracy: 0.8322\n",
      "Epoch 12/100\n",
      "776/776 [==============================] - 529s 682ms/step - loss: 0.3571 - accuracy: 0.8580 - val_loss: 0.4432 - val_accuracy: 0.8326\n",
      "Epoch 13/100\n",
      "776/776 [==============================] - 524s 676ms/step - loss: 0.3414 - accuracy: 0.8645 - val_loss: 0.4432 - val_accuracy: 0.8326\n",
      "Epoch 14/100\n",
      "776/776 [==============================] - 461s 594ms/step - loss: 0.3228 - accuracy: 0.8718 - val_loss: 0.4336 - val_accuracy: 0.8398\n",
      "Epoch 15/100\n",
      "776/776 [==============================] - 471s 607ms/step - loss: 0.3141 - accuracy: 0.8753 - val_loss: 0.4242 - val_accuracy: 0.8431\n",
      "Epoch 16/100\n",
      "776/776 [==============================] - 463s 597ms/step - loss: 0.3025 - accuracy: 0.8785 - val_loss: 0.4114 - val_accuracy: 0.8513\n",
      "Epoch 17/100\n",
      "776/776 [==============================] - 463s 597ms/step - loss: 0.2934 - accuracy: 0.8841 - val_loss: 0.4047 - val_accuracy: 0.8495\n",
      "Epoch 18/100\n",
      "776/776 [==============================] - 458s 591ms/step - loss: 0.2829 - accuracy: 0.8874 - val_loss: 0.4078 - val_accuracy: 0.8514\n",
      "Epoch 19/100\n",
      "776/776 [==============================] - 456s 588ms/step - loss: 0.2780 - accuracy: 0.8870 - val_loss: 0.3929 - val_accuracy: 0.8557\n",
      "Epoch 20/100\n",
      "776/776 [==============================] - 458s 590ms/step - loss: 0.2664 - accuracy: 0.8938 - val_loss: 0.4015 - val_accuracy: 0.8575\n",
      "Epoch 21/100\n",
      "776/776 [==============================] - 451s 581ms/step - loss: 0.2612 - accuracy: 0.8952 - val_loss: 0.3901 - val_accuracy: 0.8589\n",
      "Epoch 22/100\n",
      "776/776 [==============================] - 448s 577ms/step - loss: 0.2551 - accuracy: 0.8980 - val_loss: 0.4205 - val_accuracy: 0.8550\n",
      "Epoch 23/100\n",
      "776/776 [==============================] - 444s 572ms/step - loss: 0.2473 - accuracy: 0.8994 - val_loss: 0.3845 - val_accuracy: 0.8634\n",
      "Epoch 24/100\n",
      "776/776 [==============================] - 440s 567ms/step - loss: 0.2451 - accuracy: 0.9020 - val_loss: 0.4096 - val_accuracy: 0.8569\n",
      "Epoch 25/100\n",
      "776/776 [==============================] - 437s 564ms/step - loss: 0.2374 - accuracy: 0.9035 - val_loss: 0.4053 - val_accuracy: 0.8588\n",
      "Epoch 26/100\n",
      "776/776 [==============================] - 435s 561ms/step - loss: 0.2342 - accuracy: 0.9048 - val_loss: 0.4047 - val_accuracy: 0.8588\n",
      "Epoch 27/100\n",
      "776/776 [==============================] - 432s 557ms/step - loss: 0.2313 - accuracy: 0.9056 - val_loss: 0.3919 - val_accuracy: 0.8684\n",
      "Epoch 28/100\n",
      "776/776 [==============================] - 438s 565ms/step - loss: 0.2253 - accuracy: 0.9080 - val_loss: 0.3874 - val_accuracy: 0.8673\n",
      "Epoch 29/100\n",
      "776/776 [==============================] - 414s 534ms/step - loss: 0.2214 - accuracy: 0.9108 - val_loss: 0.3873 - val_accuracy: 0.8692\n",
      "Epoch 30/100\n",
      "776/776 [==============================] - 420s 541ms/step - loss: 0.2189 - accuracy: 0.9093 - val_loss: 0.3894 - val_accuracy: 0.8696\n",
      "Epoch 31/100\n",
      "776/776 [==============================] - 418s 538ms/step - loss: 0.2142 - accuracy: 0.9125 - val_loss: 0.4198 - val_accuracy: 0.8601\n",
      "Epoch 32/100\n",
      "776/776 [==============================] - 417s 538ms/step - loss: 0.2099 - accuracy: 0.9133 - val_loss: 0.4069 - val_accuracy: 0.8671\n",
      "Epoch 33/100\n",
      "776/776 [==============================] - 416s 537ms/step - loss: 0.2079 - accuracy: 0.9145 - val_loss: 0.3793 - val_accuracy: 0.8736\n",
      "Epoch 34/100\n",
      "776/776 [==============================] - 414s 533ms/step - loss: 0.2055 - accuracy: 0.9159 - val_loss: 0.3913 - val_accuracy: 0.8688\n",
      "Epoch 35/100\n",
      "776/776 [==============================] - 411s 530ms/step - loss: 0.1990 - accuracy: 0.9179 - val_loss: 0.4060 - val_accuracy: 0.8668\n",
      "Epoch 36/100\n",
      "776/776 [==============================] - 409s 526ms/step - loss: 0.1966 - accuracy: 0.9191 - val_loss: 0.3903 - val_accuracy: 0.8774\n",
      "Epoch 37/100\n",
      "776/776 [==============================] - 411s 530ms/step - loss: 0.1945 - accuracy: 0.9199 - val_loss: 0.3943 - val_accuracy: 0.8700\n",
      "Epoch 38/100\n",
      "776/776 [==============================] - 404s 520ms/step - loss: 0.1916 - accuracy: 0.9202 - val_loss: 0.3882 - val_accuracy: 0.8719\n",
      "Epoch 39/100\n",
      "776/776 [==============================] - 402s 518ms/step - loss: 0.1907 - accuracy: 0.9198 - val_loss: 0.3981 - val_accuracy: 0.8689\n",
      "Epoch 40/100\n",
      "776/776 [==============================] - 401s 517ms/step - loss: 0.1881 - accuracy: 0.9224 - val_loss: 0.3959 - val_accuracy: 0.8769\n",
      "Epoch 41/100\n",
      "776/776 [==============================] - 398s 513ms/step - loss: 0.1842 - accuracy: 0.9239 - val_loss: 0.4221 - val_accuracy: 0.8728\n",
      "Epoch 42/100\n",
      "776/776 [==============================] - 396s 510ms/step - loss: 0.1809 - accuracy: 0.9258 - val_loss: 0.4200 - val_accuracy: 0.8711\n",
      "Epoch 43/100\n",
      "776/776 [==============================] - 394s 508ms/step - loss: 0.1792 - accuracy: 0.9260 - val_loss: 0.4019 - val_accuracy: 0.8704\n",
      "Epoch 44/100\n",
      "776/776 [==============================] - 394s 508ms/step - loss: 0.1761 - accuracy: 0.9265 - val_loss: 0.3916 - val_accuracy: 0.8756\n",
      "Epoch 45/100\n",
      "776/776 [==============================] - 392s 505ms/step - loss: 0.1763 - accuracy: 0.9253 - val_loss: 0.3974 - val_accuracy: 0.8740\n",
      "Epoch 46/100\n",
      "776/776 [==============================] - 394s 508ms/step - loss: 0.1734 - accuracy: 0.9270 - val_loss: 0.3993 - val_accuracy: 0.8744\n",
      "Epoch 47/100\n",
      "776/776 [==============================] - 389s 501ms/step - loss: 0.1721 - accuracy: 0.9274 - val_loss: 0.4029 - val_accuracy: 0.8769\n",
      "Epoch 48/100\n",
      "776/776 [==============================] - 386s 498ms/step - loss: 0.1703 - accuracy: 0.9291 - val_loss: 0.4057 - val_accuracy: 0.8779\n",
      "Epoch 49/100\n",
      "776/776 [==============================] - 385s 497ms/step - loss: 0.1680 - accuracy: 0.9300 - val_loss: 0.4178 - val_accuracy: 0.8787\n",
      "Epoch 50/100\n",
      "776/776 [==============================] - 384s 494ms/step - loss: 0.1641 - accuracy: 0.9309 - val_loss: 0.4206 - val_accuracy: 0.8754\n",
      "Epoch 51/100\n",
      "776/776 [==============================] - 383s 494ms/step - loss: 0.1640 - accuracy: 0.9315 - val_loss: 0.4130 - val_accuracy: 0.8791\n",
      "Epoch 52/100\n",
      "776/776 [==============================] - 382s 492ms/step - loss: 0.1603 - accuracy: 0.9321 - val_loss: 0.3989 - val_accuracy: 0.8777\n",
      "Epoch 53/100\n",
      "776/776 [==============================] - 378s 488ms/step - loss: 0.1596 - accuracy: 0.9325 - val_loss: 0.4401 - val_accuracy: 0.8683\n",
      "Epoch 54/100\n",
      "776/776 [==============================] - 380s 489ms/step - loss: 0.1564 - accuracy: 0.9344 - val_loss: 0.4044 - val_accuracy: 0.8779\n",
      "Epoch 55/100\n",
      "776/776 [==============================] - 382s 492ms/step - loss: 0.1571 - accuracy: 0.9331 - val_loss: 0.4124 - val_accuracy: 0.8748\n",
      "Epoch 56/100\n",
      "776/776 [==============================] - 377s 485ms/step - loss: 0.1556 - accuracy: 0.9348 - val_loss: 0.4200 - val_accuracy: 0.8745\n",
      "Epoch 57/100\n",
      "776/776 [==============================] - 376s 485ms/step - loss: 0.1535 - accuracy: 0.9350 - val_loss: 0.4238 - val_accuracy: 0.8777\n",
      "Epoch 58/100\n",
      "776/776 [==============================] - 374s 482ms/step - loss: 0.1512 - accuracy: 0.9368 - val_loss: 0.4452 - val_accuracy: 0.8757\n",
      "Epoch 59/100\n",
      "776/776 [==============================] - 357s 461ms/step - loss: 0.1499 - accuracy: 0.9369 - val_loss: 0.4469 - val_accuracy: 0.8770\n",
      "Epoch 60/100\n",
      "776/776 [==============================] - 344s 443ms/step - loss: 0.1477 - accuracy: 0.9380 - val_loss: 0.4206 - val_accuracy: 0.8808\n",
      "Epoch 61/100\n",
      "776/776 [==============================] - 360s 464ms/step - loss: 0.1450 - accuracy: 0.9378 - val_loss: 0.4592 - val_accuracy: 0.8753\n",
      "Epoch 62/100\n",
      "776/776 [==============================] - 375s 484ms/step - loss: 0.1457 - accuracy: 0.9379 - val_loss: 0.4278 - val_accuracy: 0.8767\n",
      "Epoch 63/100\n",
      "776/776 [==============================] - 366s 471ms/step - loss: 0.1407 - accuracy: 0.9398 - val_loss: 0.4404 - val_accuracy: 0.8744\n",
      "Epoch 64/100\n",
      "776/776 [==============================] - 354s 456ms/step - loss: 0.1379 - accuracy: 0.9414 - val_loss: 0.4376 - val_accuracy: 0.8790\n",
      "Epoch 65/100\n",
      "776/776 [==============================] - 354s 456ms/step - loss: 0.1411 - accuracy: 0.9405 - val_loss: 0.4396 - val_accuracy: 0.8829\n",
      "Epoch 66/100\n",
      "776/776 [==============================] - 350s 452ms/step - loss: 0.1378 - accuracy: 0.9414 - val_loss: 0.4493 - val_accuracy: 0.8813\n",
      "Epoch 67/100\n",
      "776/776 [==============================] - 354s 457ms/step - loss: 0.1376 - accuracy: 0.9412 - val_loss: 0.4377 - val_accuracy: 0.8788\n",
      "Epoch 68/100\n",
      "776/776 [==============================] - 350s 451ms/step - loss: 0.1337 - accuracy: 0.9429 - val_loss: 0.4596 - val_accuracy: 0.8750\n",
      "Epoch 69/100\n",
      "776/776 [==============================] - 348s 449ms/step - loss: 0.1338 - accuracy: 0.9436 - val_loss: 0.4673 - val_accuracy: 0.8785\n",
      "Epoch 70/100\n",
      "776/776 [==============================] - 349s 449ms/step - loss: 0.1310 - accuracy: 0.9440 - val_loss: 0.4544 - val_accuracy: 0.8782\n",
      "Epoch 71/100\n",
      "776/776 [==============================] - 352s 454ms/step - loss: 0.1308 - accuracy: 0.9444 - val_loss: 0.4492 - val_accuracy: 0.8778\n",
      "Epoch 72/100\n",
      "776/776 [==============================] - 350s 452ms/step - loss: 0.1279 - accuracy: 0.9459 - val_loss: 0.4884 - val_accuracy: 0.8788\n",
      "Epoch 73/100\n",
      "776/776 [==============================] - 357s 460ms/step - loss: 0.1283 - accuracy: 0.9451 - val_loss: 0.4421 - val_accuracy: 0.8821\n",
      "Epoch 74/100\n",
      "776/776 [==============================] - 345s 445ms/step - loss: 0.1276 - accuracy: 0.9456 - val_loss: 0.4615 - val_accuracy: 0.8775\n",
      "Epoch 75/100\n",
      "776/776 [==============================] - 342s 441ms/step - loss: 0.1244 - accuracy: 0.9472 - val_loss: 0.4652 - val_accuracy: 0.8824\n",
      "Epoch 76/100\n",
      "776/776 [==============================] - 340s 439ms/step - loss: 0.1274 - accuracy: 0.9457 - val_loss: 0.4621 - val_accuracy: 0.8771\n",
      "Epoch 77/100\n",
      "776/776 [==============================] - 339s 437ms/step - loss: 0.1225 - accuracy: 0.9476 - val_loss: 0.4413 - val_accuracy: 0.8820\n",
      "Epoch 78/100\n",
      "776/776 [==============================] - 337s 435ms/step - loss: 0.1230 - accuracy: 0.9480 - val_loss: 0.4657 - val_accuracy: 0.8787\n",
      "Epoch 79/100\n",
      "776/776 [==============================] - 338s 436ms/step - loss: 0.1211 - accuracy: 0.9487 - val_loss: 0.4635 - val_accuracy: 0.8801\n",
      "Epoch 80/100\n",
      "776/776 [==============================] - 337s 434ms/step - loss: 0.1201 - accuracy: 0.9491 - val_loss: 0.4685 - val_accuracy: 0.8833\n",
      "Epoch 81/100\n",
      "776/776 [==============================] - 336s 434ms/step - loss: 0.1161 - accuracy: 0.9511 - val_loss: 0.4911 - val_accuracy: 0.8820\n",
      "Epoch 82/100\n",
      "776/776 [==============================] - 336s 433ms/step - loss: 0.1159 - accuracy: 0.9505 - val_loss: 0.4615 - val_accuracy: 0.8831\n",
      "Epoch 83/100\n",
      "776/776 [==============================] - 334s 430ms/step - loss: 0.1178 - accuracy: 0.9503 - val_loss: 0.4708 - val_accuracy: 0.8834\n",
      "Epoch 84/100\n",
      "776/776 [==============================] - 335s 432ms/step - loss: 0.1160 - accuracy: 0.9503 - val_loss: 0.4819 - val_accuracy: 0.8809\n",
      "Epoch 85/100\n",
      "776/776 [==============================] - 335s 432ms/step - loss: 0.1143 - accuracy: 0.9521 - val_loss: 0.5114 - val_accuracy: 0.8658\n",
      "Epoch 86/100\n",
      "776/776 [==============================] - 337s 434ms/step - loss: 0.1135 - accuracy: 0.9514 - val_loss: 0.4888 - val_accuracy: 0.8785\n",
      "Epoch 87/100\n",
      "776/776 [==============================] - 335s 431ms/step - loss: 0.1119 - accuracy: 0.9532 - val_loss: 0.4897 - val_accuracy: 0.8822\n",
      "Epoch 88/100\n",
      "776/776 [==============================] - 336s 433ms/step - loss: 0.1119 - accuracy: 0.9517 - val_loss: 0.4904 - val_accuracy: 0.8820\n",
      "Epoch 89/100\n",
      "776/776 [==============================] - 335s 432ms/step - loss: 0.1111 - accuracy: 0.9526 - val_loss: 0.4884 - val_accuracy: 0.8817\n",
      "Epoch 90/100\n",
      "776/776 [==============================] - 338s 435ms/step - loss: 0.1080 - accuracy: 0.9530 - val_loss: 0.5133 - val_accuracy: 0.8839\n",
      "Epoch 91/100\n",
      "776/776 [==============================] - 340s 439ms/step - loss: 0.1087 - accuracy: 0.9539 - val_loss: 0.4872 - val_accuracy: 0.8860\n",
      "Epoch 92/100\n",
      "776/776 [==============================] - 340s 438ms/step - loss: 0.1054 - accuracy: 0.9544 - val_loss: 0.5003 - val_accuracy: 0.8827\n",
      "Epoch 93/100\n",
      "776/776 [==============================] - 341s 440ms/step - loss: 0.1057 - accuracy: 0.9544 - val_loss: 0.4848 - val_accuracy: 0.8832\n",
      "Epoch 94/100\n",
      "776/776 [==============================] - 339s 437ms/step - loss: 0.1064 - accuracy: 0.9551 - val_loss: 0.4803 - val_accuracy: 0.8799\n",
      "Epoch 95/100\n",
      "776/776 [==============================] - 343s 441ms/step - loss: 0.1018 - accuracy: 0.9565 - val_loss: 0.5147 - val_accuracy: 0.8826\n",
      "Epoch 96/100\n",
      "776/776 [==============================] - 343s 442ms/step - loss: 0.1025 - accuracy: 0.9563 - val_loss: 0.4813 - val_accuracy: 0.8817\n",
      "Epoch 97/100\n",
      "776/776 [==============================] - 348s 448ms/step - loss: 0.0989 - accuracy: 0.9579 - val_loss: 0.5145 - val_accuracy: 0.8836\n",
      "Epoch 98/100\n",
      "776/776 [==============================] - 348s 449ms/step - loss: 0.1020 - accuracy: 0.9571 - val_loss: 0.5128 - val_accuracy: 0.8858\n",
      "Epoch 99/100\n",
      "776/776 [==============================] - 345s 444ms/step - loss: 0.0993 - accuracy: 0.9587 - val_loss: 0.5173 - val_accuracy: 0.8846\n",
      "Epoch 100/100\n",
      "776/776 [==============================] - 356s 459ms/step - loss: 0.1007 - accuracy: 0.9572 - val_loss: 0.5137 - val_accuracy: 0.8805\n"
     ]
    },
    {
     "data": {
      "text/plain": [
       "<keras.src.callbacks.History at 0x2b6521201c0>"
      ]
     },
     "execution_count": 30,
     "metadata": {},
     "output_type": "execute_result"
    }
   ],
   "source": [
    "tensorboard_callback = tf.keras.callbacks.TensorBoard(log_dir=\"./logs\")\n",
    "# checkpoint_filepath = '/tmp/checkpoint'\n",
    "# model_checkpoint_callback = tf.keras.callbacks.ModelCheckpoint(\n",
    "#     filepath=checkpoint_filepath,\n",
    "#     save_weights_only=True,\n",
    "#     monitor='val_accuracy',\n",
    "#     mode='max',\n",
    "#     save_best_only=True\n",
    "# )\n",
    "parada_callback = tf.keras.callbacks.EarlyStopping(\n",
    "    monitor=\"val_accuracy\", patience=15, restore_best_weights=True\n",
    ")\n",
    "modelo.fit(\n",
    "    x,\n",
    "    y_one_hot,\n",
    "    shuffle=True, \n",
    "    epochs=200,\n",
    "    batch_size=64,\n",
    "    validation_split=0.2,\n",
    "    callbacks=[tensorboard_callback, parada_callback]\n",
    ")"
   ]
  },
  {
   "cell_type": "code",
   "execution_count": 31,
   "metadata": {},
   "outputs": [
    {
     "name": "stdout",
     "output_type": "stream",
     "text": [
      "INFO:tensorflow:Assets written to: models/tf-cnn-model\\assets\n"
     ]
    },
    {
     "name": "stderr",
     "output_type": "stream",
     "text": [
      "INFO:tensorflow:Assets written to: models/tf-cnn-model\\assets\n"
     ]
    }
   ],
   "source": [
    "modelo.save('models/tf-cnn-model')"
   ]
  },
  {
   "cell_type": "markdown",
   "metadata": {},
   "source": [
    "# Pontuação de treino e teste"
   ]
  },
  {
   "cell_type": "code",
   "execution_count": 32,
   "metadata": {},
   "outputs": [
    {
     "name": "stdout",
     "output_type": "stream",
     "text": [
      "Model: \"sequential_7\"\n",
      "_________________________________________________________________\n",
      " Layer (type)                Output Shape              Param #   \n",
      "=================================================================\n",
      " conv2d_10 (Conv2D)          (None, 487, 4, 128)       5888      \n",
      "                                                                 \n",
      " max_pooling2d_8 (MaxPoolin  (None, 243, 2, 128)       0         \n",
      " g2D)                                                            \n",
      "                                                                 \n",
      " flatten_5 (Flatten)         (None, 62208)             0         \n",
      "                                                                 \n",
      " dense_15 (Dense)            (None, 256)               15925504  \n",
      "                                                                 \n",
      " dense_16 (Dense)            (None, 256)               65792     \n",
      "                                                                 \n",
      " dense_17 (Dense)            (None, 3)                 771       \n",
      "                                                                 \n",
      "=================================================================\n",
      "Total params: 15997955 (61.03 MB)\n",
      "Trainable params: 15997955 (61.03 MB)\n",
      "Non-trainable params: 0 (0.00 Byte)\n",
      "_________________________________________________________________\n"
     ]
    }
   ],
   "source": [
    "from keras.models import load_model\n",
    "\n",
    "modelo = load_model('models/tf-cnn-model')\n",
    "modelo.summary()"
   ]
  },
  {
   "cell_type": "code",
   "execution_count": 33,
   "metadata": {},
   "outputs": [],
   "source": [
    "# modelo.evaluate(x_test, y_test)"
   ]
  },
  {
   "cell_type": "markdown",
   "metadata": {},
   "source": [
    "# Teste Finaceiro"
   ]
  },
  {
   "cell_type": "code",
   "execution_count": 38,
   "metadata": {},
   "outputs": [
    {
     "name": "stderr",
     "output_type": "stream",
     "text": [
      "  0%|          | 0/27217 [00:00<?, ?it/s]"
     ]
    },
    {
     "name": "stderr",
     "output_type": "stream",
     "text": [
      "  0%|          | 0/27217 [00:00<?, ?it/s]\n"
     ]
    },
    {
     "ename": "IndexError",
     "evalue": "index 27240 is out of bounds for axis 0 with size 300",
     "output_type": "error",
     "traceback": [
      "\u001b[1;31m---------------------------------------------------------------------------\u001b[0m",
      "\u001b[1;31mIndexError\u001b[0m                                Traceback (most recent call last)",
      "\u001b[1;32mc:\\Users\\aurel\\Documents\\Projetos\\tradingPredictor\\classificador-cnn-M5-300-D1-200.ipynb Cell 38\u001b[0m line \u001b[0;36m3\n\u001b[0;32m     <a href='vscode-notebook-cell:/c%3A/Users/aurel/Documents/Projetos/tradingPredictor/classificador-cnn-M5-300-D1-200.ipynb#X51sZmlsZQ%3D%3D?line=28'>29</a>\u001b[0m hist[\u001b[39m0\u001b[39m, \u001b[39m-\u001b[39m\u001b[39m4\u001b[39m:] \u001b[39m=\u001b[39m histM5NP[\u001b[39m-\u001b[39m\u001b[39m1\u001b[39m][\u001b[39m-\u001b[39m\u001b[39m4\u001b[39m:]\n\u001b[0;32m     <a href='vscode-notebook-cell:/c%3A/Users/aurel/Documents/Projetos/tradingPredictor/classificador-cnn-M5-300-D1-200.ipynb#X51sZmlsZQ%3D%3D?line=29'>30</a>\u001b[0m hist[\u001b[39m1\u001b[39m:\u001b[39m301\u001b[39m] \u001b[39m=\u001b[39m histM5NP[:, :\u001b[39m6\u001b[39m]\n\u001b[1;32m---> <a href='vscode-notebook-cell:/c%3A/Users/aurel/Documents/Projetos/tradingPredictor/classificador-cnn-M5-300-D1-200.ipynb#X51sZmlsZQ%3D%3D?line=30'>31</a>\u001b[0m histD1 \u001b[39m=\u001b[39m obterSimboloData(histM5\u001b[39m.\u001b[39;49mindex[i\u001b[39m+\u001b[39;49mnFuturo])\n\u001b[0;32m     <a href='vscode-notebook-cell:/c%3A/Users/aurel/Documents/Projetos/tradingPredictor/classificador-cnn-M5-300-D1-200.ipynb#X51sZmlsZQ%3D%3D?line=31'>32</a>\u001b[0m histD1NP \u001b[39m=\u001b[39m rawDataD1\u001b[39m.\u001b[39mto_numpy()\n\u001b[0;32m     <a href='vscode-notebook-cell:/c%3A/Users/aurel/Documents/Projetos/tradingPredictor/classificador-cnn-M5-300-D1-200.ipynb#X51sZmlsZQ%3D%3D?line=32'>33</a>\u001b[0m hist[\u001b[39m301\u001b[39m:] \u001b[39m=\u001b[39m histD1NP\n",
      "File \u001b[1;32mc:\\Users\\aurel\\AppData\\Local\\Programs\\Python\\Python310\\lib\\site-packages\\pandas\\core\\indexes\\base.py:5361\u001b[0m, in \u001b[0;36mIndex.__getitem__\u001b[1;34m(self, key)\u001b[0m\n\u001b[0;32m   5358\u001b[0m \u001b[39mif\u001b[39;00m is_integer(key) \u001b[39mor\u001b[39;00m is_float(key):\n\u001b[0;32m   5359\u001b[0m     \u001b[39m# GH#44051 exclude bool, which would return a 2d ndarray\u001b[39;00m\n\u001b[0;32m   5360\u001b[0m     key \u001b[39m=\u001b[39m com\u001b[39m.\u001b[39mcast_scalar_indexer(key, warn_float\u001b[39m=\u001b[39m\u001b[39mTrue\u001b[39;00m)\n\u001b[1;32m-> 5361\u001b[0m     \u001b[39mreturn\u001b[39;00m getitem(key)\n\u001b[0;32m   5363\u001b[0m \u001b[39mif\u001b[39;00m \u001b[39misinstance\u001b[39m(key, \u001b[39mslice\u001b[39m):\n\u001b[0;32m   5364\u001b[0m     \u001b[39m# This case is separated from the conditional above to avoid\u001b[39;00m\n\u001b[0;32m   5365\u001b[0m     \u001b[39m# pessimization com.is_bool_indexer and ndim checks.\u001b[39;00m\n\u001b[0;32m   5366\u001b[0m     result \u001b[39m=\u001b[39m getitem(key)\n",
      "File \u001b[1;32mc:\\Users\\aurel\\AppData\\Local\\Programs\\Python\\Python310\\lib\\site-packages\\pandas\\core\\arrays\\datetimelike.py:358\u001b[0m, in \u001b[0;36mDatetimeLikeArrayMixin.__getitem__\u001b[1;34m(self, key)\u001b[0m\n\u001b[0;32m    350\u001b[0m \u001b[39m\u001b[39m\u001b[39m\"\"\"\u001b[39;00m\n\u001b[0;32m    351\u001b[0m \u001b[39mThis getitem defers to the underlying array, which by-definition can\u001b[39;00m\n\u001b[0;32m    352\u001b[0m \u001b[39monly handle list-likes, slices, and integer scalars\u001b[39;00m\n\u001b[0;32m    353\u001b[0m \u001b[39m\"\"\"\u001b[39;00m\n\u001b[0;32m    354\u001b[0m \u001b[39m# Use cast as we know we will get back a DatetimeLikeArray or DTScalar,\u001b[39;00m\n\u001b[0;32m    355\u001b[0m \u001b[39m# but skip evaluating the Union at runtime for performance\u001b[39;00m\n\u001b[0;32m    356\u001b[0m \u001b[39m# (see https://github.com/pandas-dev/pandas/pull/44624)\u001b[39;00m\n\u001b[0;32m    357\u001b[0m result \u001b[39m=\u001b[39m cast(\n\u001b[1;32m--> 358\u001b[0m     \u001b[39m\"\u001b[39m\u001b[39mUnion[DatetimeLikeArrayT, DTScalarOrNaT]\u001b[39m\u001b[39m\"\u001b[39m, \u001b[39msuper\u001b[39;49m()\u001b[39m.\u001b[39;49m\u001b[39m__getitem__\u001b[39;49m(key)\n\u001b[0;32m    359\u001b[0m )\n\u001b[0;32m    360\u001b[0m \u001b[39mif\u001b[39;00m lib\u001b[39m.\u001b[39mis_scalar(result):\n\u001b[0;32m    361\u001b[0m     \u001b[39mreturn\u001b[39;00m result\n",
      "File \u001b[1;32mc:\\Users\\aurel\\AppData\\Local\\Programs\\Python\\Python310\\lib\\site-packages\\pandas\\core\\arrays\\_mixins.py:289\u001b[0m, in \u001b[0;36mNDArrayBackedExtensionArray.__getitem__\u001b[1;34m(self, key)\u001b[0m\n\u001b[0;32m    283\u001b[0m \u001b[39mdef\u001b[39;00m \u001b[39m__getitem__\u001b[39m(\n\u001b[0;32m    284\u001b[0m     \u001b[39mself\u001b[39m: NDArrayBackedExtensionArrayT,\n\u001b[0;32m    285\u001b[0m     key: PositionalIndexer2D,\n\u001b[0;32m    286\u001b[0m ) \u001b[39m-\u001b[39m\u001b[39m>\u001b[39m NDArrayBackedExtensionArrayT \u001b[39m|\u001b[39m Any:\n\u001b[0;32m    287\u001b[0m     \u001b[39mif\u001b[39;00m lib\u001b[39m.\u001b[39mis_integer(key):\n\u001b[0;32m    288\u001b[0m         \u001b[39m# fast-path\u001b[39;00m\n\u001b[1;32m--> 289\u001b[0m         result \u001b[39m=\u001b[39m \u001b[39mself\u001b[39;49m\u001b[39m.\u001b[39;49m_ndarray[key]\n\u001b[0;32m    290\u001b[0m         \u001b[39mif\u001b[39;00m \u001b[39mself\u001b[39m\u001b[39m.\u001b[39mndim \u001b[39m==\u001b[39m \u001b[39m1\u001b[39m:\n\u001b[0;32m    291\u001b[0m             \u001b[39mreturn\u001b[39;00m \u001b[39mself\u001b[39m\u001b[39m.\u001b[39m_box_func(result)\n",
      "\u001b[1;31mIndexError\u001b[0m: index 27240 is out of bounds for axis 0 with size 300"
     ]
    }
   ],
   "source": [
    "from json import dumps\n",
    "\n",
    "target = 30\n",
    "stop = 10\n",
    "timeLimit = 24\n",
    "total = 0\n",
    "long = False\n",
    "short = False\n",
    "position = 0\n",
    "candle = -1\n",
    "operacoes = {\n",
    "    'longSuccess' : [0, 0],\n",
    "    'longFail' : [0, 0],\n",
    "    'longEndSuccess' : [0, 0],\n",
    "    'longEndFail' : [0, 0],\n",
    "    'shortSuccess' : [0, 0],\n",
    "    'shortFail' : [0, 0],\n",
    "    'shortEndSuccess' : [0, 0],\n",
    "    'shortEndFail' : [0, 0],\n",
    "}\n",
    "for i in tqdm(range(252*108, -1, -1)):\n",
    "    histM5 = obterSimboloPosicao('WDO$N', n=300, delayCandles=i)\n",
    "    histM5['minute'] = histM5.index.minute\n",
    "    histM5['hour'] = histM5.index.hour\n",
    "    histM5['day_of_week'] = histM5.index.day_of_week\n",
    "    histM5['day'] = histM5.index.day\n",
    "    histM5NP = histM5.to_numpy()\n",
    "    hist = np.zeros((501, 6))\n",
    "    hist[0, -4:] = histM5NP[-1][-4:]\n",
    "    hist[1:301] = histM5NP[:, :6]\n",
    "    histD1 = obterSimboloData(histM5.index[-1])\n",
    "    histD1NP = rawDataD1.to_numpy()\n",
    "    hist[301:] = histD1NP\n",
    "    vmax = hist[1:, :4].max()\n",
    "    vmin = hist[1:, :4].min()\n",
    "    hist[1:, :4] = (hist[1:, :4] - vmin) / (vmax - vmin)\n",
    "    vmax = hist[1:, 4].max()\n",
    "    vmin = hist[1:, 4].min()\n",
    "    hist[1:, 4] = (hist[1:, 4] - vmin) / (vmax - vmin)\n",
    "    vmax = hist[1:, 5].max()\n",
    "    vmin = hist[1:, 5].min()\n",
    "    hist[1:, 5] = (hist[1:, 5] - vmin) / (vmax - vmin)\n",
    "    hist[0, 2] /= 60\n",
    "    hist[0, 3] /= 24\n",
    "    hist[0, 4] /= 4\n",
    "    hist[0, 5] /= 31\n",
    "    priceNow = histM5['close'].iloc[-1]\n",
    "    if long:\n",
    "        if priceNow >= position + target:\n",
    "            total += priceNow - position\n",
    "            long = False\n",
    "            operacoes['longSuccess'][0] += 1\n",
    "            operacoes['longSuccess'][1] += priceNow - position\n",
    "        if priceNow <= position - stop:\n",
    "            total += priceNow - position\n",
    "            long = False\n",
    "            operacoes['longFail'][0] += 1\n",
    "            operacoes['longFail'][1] += priceNow - position\n",
    "        if i >= candle + timeLimit:\n",
    "            total += priceNow - position\n",
    "            long = False\n",
    "            if priceNow - position > 0:\n",
    "                operacoes['longEndSuccess'][0] += 1\n",
    "                operacoes['longEndSuccess'][1] += priceNow - position\n",
    "            else:\n",
    "                operacoes['longEndFail'][0] += 1\n",
    "                operacoes['longEndFail'][1] += priceNow - position\n",
    "        continue\n",
    "    if short:\n",
    "        if priceNow <= position - target:\n",
    "            total += position - priceNow\n",
    "            short = False\n",
    "            operacoes['shortSuccess'][0] += 1\n",
    "            operacoes['shortSuccess'][1] += position - priceNow\n",
    "        if priceNow >= position + stop:\n",
    "            total += position - priceNow\n",
    "            short = False\n",
    "            operacoes['shortFail'][0] += 1\n",
    "            operacoes['shortFail'][1] += position - priceNow\n",
    "        if i >= candle + timeLimit:\n",
    "            total += position - priceNow\n",
    "            short = False\n",
    "            if position - priceNow > 0:\n",
    "                operacoes['shortEndSuccess'][0] += 1\n",
    "                operacoes['shortEndSuccess'][1] += position - priceNow\n",
    "            else:\n",
    "                operacoes['shortEndFail'][0] += 1\n",
    "                operacoes['shortEndFail'][1] += position - priceNow\n",
    "        continue\n",
    "\n",
    "    previsao = np.argmax(modelo.predict(np.array([hist]), verbose=0)[0])\n",
    "    if previsao == 1:\n",
    "        long = True\n",
    "        position = priceNow\n",
    "        candle = i\n",
    "    if previsao == 2:\n",
    "        short = True\n",
    "        position = priceNow\n",
    "        candle = i\n",
    "\n",
    "print('Total:', total)\n",
    "print('Operações: ', dumps(operacoes, indent=4))"
   ]
  }
 ],
 "metadata": {
  "kernelspec": {
   "display_name": "Python 3",
   "language": "python",
   "name": "python3"
  },
  "language_info": {
   "codemirror_mode": {
    "name": "ipython",
    "version": 3
   },
   "file_extension": ".py",
   "mimetype": "text/x-python",
   "name": "python",
   "nbconvert_exporter": "python",
   "pygments_lexer": "ipython3",
   "version": "3.10.8"
  },
  "orig_nbformat": 4
 },
 "nbformat": 4,
 "nbformat_minor": 2
}
