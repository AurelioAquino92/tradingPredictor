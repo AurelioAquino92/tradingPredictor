{
 "cells": [
  {
   "attachments": {},
   "cell_type": "markdown",
   "metadata": {},
   "source": [
    "# Bibliotecas"
   ]
  },
  {
   "cell_type": "code",
   "execution_count": null,
   "metadata": {},
   "outputs": [],
   "source": [
    "from obterDados import obterSimboloPosicao, obterSimboloData\n",
    "import numpy as np\n",
    "from tqdm import tqdm\n",
    "import tensorflow as tf\n",
    "from keras.models import Sequential\n",
    "from keras.layers import Conv2D\n",
    "from keras.layers import MaxPooling2D\n",
    "from keras.layers import Flatten\n",
    "from keras.layers import Dense"
   ]
  },
  {
   "cell_type": "markdown",
   "metadata": {},
   "source": [
    "# Abrindo dados"
   ]
  },
  {
   "cell_type": "code",
   "execution_count": null,
   "metadata": {},
   "outputs": [],
   "source": [
    "x = np.float64(np.load(open('data/cnn/x.npy', 'rb')))\n",
    "y = np.int8(np.load(open('data/cnn/y.npy', 'rb')))"
   ]
  },
  {
   "cell_type": "code",
   "execution_count": null,
   "metadata": {},
   "outputs": [],
   "source": [
    "from keras.utils import to_categorical\n",
    "\n",
    "y_one_hot = to_categorical(y, 3)\n",
    "y_one_hot"
   ]
  },
  {
   "cell_type": "markdown",
   "metadata": {},
   "source": [
    "# Criar Modelo"
   ]
  },
  {
   "cell_type": "code",
   "execution_count": null,
   "metadata": {},
   "outputs": [],
   "source": [
    "modelo = Sequential()\n",
    "\n",
    "modelo.add(Conv2D(256, (25, 5), activation='relu', input_shape=(501, 6, 1)))\n",
    "modelo.add(MaxPooling2D((2, 2)))\n",
    "\n",
    "modelo.add(Flatten())\n",
    "modelo.add(Dense(256, activation='relu'))\n",
    "modelo.add(Dense(256, activation='relu'))\n",
    "modelo.add(Dense(3, activation='softmax'))\n",
    "\n",
    "modelo.compile(optimizer='adam',\n",
    "              loss='categorical_crossentropy',\n",
    "              metrics=['accuracy'])\n",
    "\n",
    "modelo.summary()"
   ]
  },
  {
   "cell_type": "markdown",
   "metadata": {},
   "source": [
    "# Treinar Modelo"
   ]
  },
  {
   "cell_type": "code",
   "execution_count": null,
   "metadata": {},
   "outputs": [],
   "source": [
    "tensorboard_callback = tf.keras.callbacks.TensorBoard(log_dir=\"./logs\")\n",
    "# checkpoint_filepath = '/tmp/checkpoint'\n",
    "# model_checkpoint_callback = tf.keras.callbacks.ModelCheckpoint(\n",
    "#     filepath=checkpoint_filepath,\n",
    "#     save_weights_only=True,\n",
    "#     monitor='val_accuracy',\n",
    "#     mode='max',\n",
    "#     save_best_only=True\n",
    "# )\n",
    "parada_callback = tf.keras.callbacks.EarlyStopping(\n",
    "    monitor=\"val_accuracy\", patience=15, restore_best_weights=True\n",
    ")\n",
    "modelo.fit(\n",
    "    x,\n",
    "    y_one_hot,\n",
    "    shuffle=True, \n",
    "    epochs=200,\n",
    "    batch_size=256,\n",
    "    validation_split=0.2,\n",
    "    callbacks=[tensorboard_callback, parada_callback]\n",
    ")"
   ]
  },
  {
   "cell_type": "code",
   "execution_count": null,
   "metadata": {},
   "outputs": [],
   "source": [
    "modelo.save('models/tf-cnn-model')"
   ]
  },
  {
   "cell_type": "markdown",
   "metadata": {},
   "source": [
    "# Carregar modelo"
   ]
  },
  {
   "cell_type": "code",
   "execution_count": null,
   "metadata": {},
   "outputs": [],
   "source": [
    "from keras.models import load_model\n",
    "\n",
    "modelo = load_model('models/tf-cnn-model')\n",
    "modelo.summary()"
   ]
  },
  {
   "cell_type": "markdown",
   "metadata": {},
   "source": [
    "# Teste Finaceiro"
   ]
  },
  {
   "cell_type": "code",
   "execution_count": null,
   "metadata": {},
   "outputs": [],
   "source": [
    "from json import dumps\n",
    "\n",
    "target = 30\n",
    "stop = 10\n",
    "timeLimit = 24\n",
    "total = 0\n",
    "long = False\n",
    "short = False\n",
    "position = 0\n",
    "candle = -1\n",
    "operacoes = {\n",
    "    'longSuccess' : [0, 0],\n",
    "    'longFail' : [0, 0],\n",
    "    'longEndSuccess' : [0, 0],\n",
    "    'longEndFail' : [0, 0],\n",
    "    'shortSuccess' : [0, 0],\n",
    "    'shortFail' : [0, 0],\n",
    "    'shortEndSuccess' : [0, 0],\n",
    "    'shortEndFail' : [0, 0],\n",
    "}\n",
    "for i in tqdm(range(50*108, -1, -1)):\n",
    "    histM5 = obterSimboloPosicao('WDO$N', n=300, delayCandles=i)\n",
    "    histM5['minute'] = histM5.index.minute\n",
    "    histM5['hour'] = histM5.index.hour\n",
    "    histM5['day_of_week'] = histM5.index.day_of_week\n",
    "    histM5['day'] = histM5.index.day\n",
    "    histM5NP = histM5.to_numpy()\n",
    "    hist = np.zeros((501, 6))\n",
    "    hist[0, -4:] = histM5NP[-1][-4:]\n",
    "    hist[1:301] = histM5NP[:, :6]\n",
    "    histD1 = obterSimboloData(histM5.index[-1])\n",
    "    histD1NP = histD1.to_numpy()\n",
    "    hist[301:] = histD1NP\n",
    "    vmax = hist[1:301, :4].max()\n",
    "    vmin = hist[1:301, :4].min()\n",
    "    hist[1:301, :4] = (hist[1:301, :4] - vmin) / (vmax - vmin)\n",
    "    vmax = hist[1:301, 4].max()\n",
    "    vmin = hist[1:301, 4].min()\n",
    "    hist[1:301, 4] = (hist[1:301, 4] - vmin) / (vmax - vmin)\n",
    "    vmax = hist[1:301, 5].max()\n",
    "    vmin = hist[1:301, 5].min()\n",
    "    hist[1:301, 5] = (hist[1:301, 5] - vmin) / (vmax - vmin)\n",
    "    vmax = hist[301:, :4].max()\n",
    "    vmin = hist[301:, :4].min()\n",
    "    hist[301:, :4] = (hist[301:, :4] - vmin) / (vmax - vmin)\n",
    "    vmax = hist[301:, 4].max()\n",
    "    vmin = hist[301:, 4].min()\n",
    "    hist[301:, 4] = (hist[301:, 4] - vmin) / (vmax - vmin)\n",
    "    vmax = hist[301:, 5].max()\n",
    "    vmin = hist[301:, 5].min()\n",
    "    hist[301:, 5] = (hist[301:, 5] - vmin) / (vmax - vmin)\n",
    "    hist[0, 2] /= 60\n",
    "    hist[0, 3] /= 24\n",
    "    hist[0, 4] /= 4\n",
    "    hist[0, 5] /= 31\n",
    "    priceNow = histM5['close'].iloc[-1]\n",
    "    if long:\n",
    "        if priceNow >= position + target:\n",
    "            total += priceNow - position\n",
    "            long = False\n",
    "            operacoes['longSuccess'][0] += 1\n",
    "            operacoes['longSuccess'][1] += priceNow - position\n",
    "        if priceNow <= position - stop:\n",
    "            total += priceNow - position\n",
    "            long = False\n",
    "            operacoes['longFail'][0] += 1\n",
    "            operacoes['longFail'][1] += priceNow - position\n",
    "        if i >= candle + timeLimit:\n",
    "            total += priceNow - position\n",
    "            long = False\n",
    "            if priceNow - position > 0:\n",
    "                operacoes['longEndSuccess'][0] += 1\n",
    "                operacoes['longEndSuccess'][1] += priceNow - position\n",
    "            else:\n",
    "                operacoes['longEndFail'][0] += 1\n",
    "                operacoes['longEndFail'][1] += priceNow - position\n",
    "        continue\n",
    "    if short:\n",
    "        if priceNow <= position - target:\n",
    "            total += position - priceNow\n",
    "            short = False\n",
    "            operacoes['shortSuccess'][0] += 1\n",
    "            operacoes['shortSuccess'][1] += position - priceNow\n",
    "        if priceNow >= position + stop:\n",
    "            total += position - priceNow\n",
    "            short = False\n",
    "            operacoes['shortFail'][0] += 1\n",
    "            operacoes['shortFail'][1] += position - priceNow\n",
    "        if i >= candle + timeLimit:\n",
    "            total += position - priceNow\n",
    "            short = False\n",
    "            if position - priceNow > 0:\n",
    "                operacoes['shortEndSuccess'][0] += 1\n",
    "                operacoes['shortEndSuccess'][1] += position - priceNow\n",
    "            else:\n",
    "                operacoes['shortEndFail'][0] += 1\n",
    "                operacoes['shortEndFail'][1] += position - priceNow\n",
    "        continue\n",
    "\n",
    "    previsao = np.argmax(modelo.predict(np.array([hist]), verbose=0)[0])\n",
    "    if previsao == 1:\n",
    "        long = True\n",
    "        position = priceNow\n",
    "        candle = i\n",
    "    if previsao == 2:\n",
    "        short = True\n",
    "        position = priceNow\n",
    "        candle = i\n",
    "\n",
    "print('Total:', total)\n",
    "print('Operações: ', dumps(operacoes, indent=4))"
   ]
  }
 ],
 "metadata": {
  "kernelspec": {
   "display_name": "Python 3",
   "language": "python",
   "name": "python3"
  },
  "language_info": {
   "codemirror_mode": {
    "name": "ipython",
    "version": 3
   },
   "file_extension": ".py",
   "mimetype": "text/x-python",
   "name": "python",
   "nbconvert_exporter": "python",
   "pygments_lexer": "ipython3",
   "version": "3.10.8"
  },
  "orig_nbformat": 4
 },
 "nbformat": 4,
 "nbformat_minor": 2
}
