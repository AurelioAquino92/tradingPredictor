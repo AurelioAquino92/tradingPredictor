{
 "cells": [
  {
   "attachments": {},
   "cell_type": "markdown",
   "metadata": {},
   "source": [
    "# Bibliotecas"
   ]
  },
  {
   "cell_type": "code",
   "execution_count": null,
   "metadata": {},
   "outputs": [],
   "source": [
    "import numpy as np"
   ]
  },
  {
   "cell_type": "markdown",
   "metadata": {},
   "source": [
    "# Abrindo dados"
   ]
  },
  {
   "cell_type": "code",
   "execution_count": null,
   "metadata": {},
   "outputs": [],
   "source": [
    "x = np.float64(np.load(open('data/cnn/x.npy', 'rb')))\n",
    "y = np.int8(np.load(open('data/cnn/y.npy', 'rb')))"
   ]
  },
  {
   "cell_type": "code",
   "execution_count": null,
   "metadata": {},
   "outputs": [],
   "source": [
    "from keras.utils import to_categorical\n",
    "\n",
    "y_one_hot = to_categorical(y, 3)\n",
    "y_one_hot"
   ]
  },
  {
   "cell_type": "markdown",
   "metadata": {},
   "source": [
    "# Criar Modelo"
   ]
  },
  {
   "cell_type": "code",
   "execution_count": null,
   "metadata": {},
   "outputs": [],
   "source": [
    "from keras import layers, models\n",
    "\n",
    "input = layers.Input(shape=(501, 6, 1))\n",
    "\n",
    "conv1 = layers.Conv2D(100, (5, 5))(input)\n",
    "conv1 = layers.AveragePooling2D((2, 2))(conv1)\n",
    "conv1 = layers.Flatten()(conv1)\n",
    "conv2 = layers.Conv2D(100, (25, 5))(input)\n",
    "conv2 = layers.AveragePooling2D((2, 2))(conv2)\n",
    "conv2 = layers.Flatten()(conv2)\n",
    "conv3 = layers.Conv2D(100, (100, 5))(input)\n",
    "conv3 = layers.AveragePooling2D((2, 2))(conv3)\n",
    "conv3 = layers.Flatten()(conv3)\n",
    "\n",
    "conv_layers = layers.Concatenate()([conv1, conv2, conv3])\n",
    "\n",
    "modelo = layers.Dropout(0.5)(conv_layers)\n",
    "modelo = layers.Dense(1000, 'relu')(modelo)\n",
    "modelo = layers.Dropout(0.5)(modelo)\n",
    "modelo = layers.Dense(1000, 'relu')(modelo)\n",
    "modelo = layers.Dense(3, 'softmax')(modelo)\n",
    "\n",
    "modelo = models.Model(input, modelo)\n",
    "modelo.compile(loss='categorical_crossentropy', metrics=['accuracy'])\n",
    "modelo.summary()"
   ]
  },
  {
   "cell_type": "markdown",
   "metadata": {},
   "source": [
    "# Treinar Modelo"
   ]
  },
  {
   "cell_type": "code",
   "execution_count": null,
   "metadata": {},
   "outputs": [],
   "source": [
    "from keras.callbacks import EarlyStopping, ModelCheckpoint, TensorBoard\n",
    "\n",
    "tensorboard_callback = TensorBoard(log_dir=\"./logs/customModel/\")\n",
    "earlystop_cb = EarlyStopping(monitor='val_accuracy', patience=20, min_delta=0.001, verbose=True)\n",
    "modelcheckpoint_cb = ModelCheckpoint('/mnt/c/Users/aurel/OneDrive/Documentos/Projetos/tradingPredictor/models/CustomModel1.h5', 'val_accuracy', save_best_only=True)\n",
    "\n",
    "modelo.fit(\n",
    "    x,\n",
    "    y_one_hot,\n",
    "    shuffle=True, \n",
    "    epochs=500,\n",
    "    batch_size=256,\n",
    "    validation_split=0.2,\n",
    "    callbacks=[tensorboard_callback, earlystop_cb, modelcheckpoint_cb]\n",
    ")"
   ]
  }
 ],
 "metadata": {
  "kernelspec": {
   "display_name": "Python 3",
   "language": "python",
   "name": "python3"
  },
  "language_info": {
   "codemirror_mode": {
    "name": "ipython",
    "version": 3
   },
   "file_extension": ".py",
   "mimetype": "text/x-python",
   "name": "python",
   "nbconvert_exporter": "python",
   "pygments_lexer": "ipython3",
   "version": "3.10.12"
  },
  "orig_nbformat": 4
 },
 "nbformat": 4,
 "nbformat_minor": 2
}
