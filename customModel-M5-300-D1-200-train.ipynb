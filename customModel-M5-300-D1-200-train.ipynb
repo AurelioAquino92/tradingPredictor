{
 "cells": [
  {
   "attachments": {},
   "cell_type": "markdown",
   "metadata": {},
   "source": [
    "# Bibliotecas"
   ]
  },
  {
   "cell_type": "code",
   "execution_count": 1,
   "metadata": {},
   "outputs": [],
   "source": [
    "import numpy as np"
   ]
  },
  {
   "cell_type": "markdown",
   "metadata": {},
   "source": [
    "# Abrindo dados"
   ]
  },
  {
   "cell_type": "code",
   "execution_count": 2,
   "metadata": {},
   "outputs": [],
   "source": [
    "x = np.float64(np.load(open('data/cnn/x.npy', 'rb')))\n",
    "y = np.int8(np.load(open('data/cnn/y.npy', 'rb')))"
   ]
  },
  {
   "cell_type": "code",
   "execution_count": 3,
   "metadata": {},
   "outputs": [
    {
     "name": "stderr",
     "output_type": "stream",
     "text": [
      "2024-04-04 21:38:27.419901: I tensorflow/core/util/port.cc:113] oneDNN custom operations are on. You may see slightly different numerical results due to floating-point round-off errors from different computation orders. To turn them off, set the environment variable `TF_ENABLE_ONEDNN_OPTS=0`.\n",
      "2024-04-04 21:38:27.451415: E external/local_xla/xla/stream_executor/cuda/cuda_dnn.cc:9261] Unable to register cuDNN factory: Attempting to register factory for plugin cuDNN when one has already been registered\n",
      "2024-04-04 21:38:27.451467: E external/local_xla/xla/stream_executor/cuda/cuda_fft.cc:607] Unable to register cuFFT factory: Attempting to register factory for plugin cuFFT when one has already been registered\n",
      "2024-04-04 21:38:27.452459: E external/local_xla/xla/stream_executor/cuda/cuda_blas.cc:1515] Unable to register cuBLAS factory: Attempting to register factory for plugin cuBLAS when one has already been registered\n",
      "2024-04-04 21:38:27.458791: I tensorflow/core/platform/cpu_feature_guard.cc:182] This TensorFlow binary is optimized to use available CPU instructions in performance-critical operations.\n",
      "To enable the following instructions: AVX2 AVX_VNNI FMA, in other operations, rebuild TensorFlow with the appropriate compiler flags.\n",
      "2024-04-04 21:38:28.061218: W tensorflow/compiler/tf2tensorrt/utils/py_utils.cc:38] TF-TRT Warning: Could not find TensorRT\n",
      "/usr/lib/python3/dist-packages/scipy/__init__.py:146: UserWarning: A NumPy version >=1.17.3 and <1.25.0 is required for this version of SciPy (detected version 1.26.3\n",
      "  warnings.warn(f\"A NumPy version >={np_minversion} and <{np_maxversion}\"\n"
     ]
    },
    {
     "data": {
      "text/plain": [
       "array([[1., 0., 0.],\n",
       "       [1., 0., 0.],\n",
       "       [0., 0., 1.],\n",
       "       ...,\n",
       "       [0., 1., 0.],\n",
       "       [0., 0., 1.],\n",
       "       [0., 1., 0.]], dtype=float32)"
      ]
     },
     "execution_count": 3,
     "metadata": {},
     "output_type": "execute_result"
    }
   ],
   "source": [
    "from keras.utils import to_categorical\n",
    "\n",
    "y_one_hot = to_categorical(y, 3)\n",
    "y_one_hot"
   ]
  },
  {
   "cell_type": "markdown",
   "metadata": {},
   "source": [
    "# Criar Modelo"
   ]
  },
  {
   "cell_type": "code",
   "execution_count": 6,
   "metadata": {},
   "outputs": [
    {
     "name": "stdout",
     "output_type": "stream",
     "text": [
      "Model: \"model_1\"\n",
      "__________________________________________________________________________________________________\n",
      " Layer (type)                Output Shape                 Param #   Connected to                  \n",
      "==================================================================================================\n",
      " input_2 (InputLayer)        [(None, 501, 6, 1)]          0         []                            \n",
      "                                                                                                  \n",
      " cropping2d_4 (Cropping2D)   (None, 300, 6, 1)            0         ['input_2[0][0]']             \n",
      "                                                                                                  \n",
      " cropping2d_5 (Cropping2D)   (None, 200, 6, 1)            0         ['input_2[0][0]']             \n",
      "                                                                                                  \n",
      " conv2d_2 (Conv2D)           (None, 277, 2, 50)           6050      ['cropping2d_4[0][0]']        \n",
      "                                                                                                  \n",
      " conv2d_3 (Conv2D)           (None, 177, 2, 50)           6050      ['cropping2d_5[0][0]']        \n",
      "                                                                                                  \n",
      " max_pooling2d_2 (MaxPoolin  (None, 138, 1, 50)           0         ['conv2d_2[0][0]']            \n",
      " g2D)                                                                                             \n",
      "                                                                                                  \n",
      " max_pooling2d_3 (MaxPoolin  (None, 88, 1, 50)            0         ['conv2d_3[0][0]']            \n",
      " g2D)                                                                                             \n",
      "                                                                                                  \n",
      " reshape_2 (Reshape)         (None, 138, 50)              0         ['max_pooling2d_2[0][0]']     \n",
      "                                                                                                  \n",
      " reshape_3 (Reshape)         (None, 88, 50)               0         ['max_pooling2d_3[0][0]']     \n",
      "                                                                                                  \n",
      " conv1d_4 (Conv1D)           (None, 115, 100)             120100    ['reshape_2[0][0]']           \n",
      "                                                                                                  \n",
      " conv1d_6 (Conv1D)           (None, 65, 100)              120100    ['reshape_3[0][0]']           \n",
      "                                                                                                  \n",
      " max_pooling1d_4 (MaxPoolin  (None, 57, 100)              0         ['conv1d_4[0][0]']            \n",
      " g1D)                                                                                             \n",
      "                                                                                                  \n",
      " max_pooling1d_6 (MaxPoolin  (None, 32, 100)              0         ['conv1d_6[0][0]']            \n",
      " g1D)                                                                                             \n",
      "                                                                                                  \n",
      " conv1d_5 (Conv1D)           (None, 50, 200)              160200    ['max_pooling1d_4[0][0]']     \n",
      "                                                                                                  \n",
      " conv1d_7 (Conv1D)           (None, 25, 200)              160200    ['max_pooling1d_6[0][0]']     \n",
      "                                                                                                  \n",
      " cropping2d_3 (Cropping2D)   (None, 1, 4, 1)              0         ['input_2[0][0]']             \n",
      "                                                                                                  \n",
      " max_pooling1d_5 (MaxPoolin  (None, 25, 200)              0         ['conv1d_5[0][0]']            \n",
      " g1D)                                                                                             \n",
      "                                                                                                  \n",
      " max_pooling1d_7 (MaxPoolin  (None, 12, 200)              0         ['conv1d_7[0][0]']            \n",
      " g1D)                                                                                             \n",
      "                                                                                                  \n",
      " flatten_3 (Flatten)         (None, 4)                    0         ['cropping2d_3[0][0]']        \n",
      "                                                                                                  \n",
      " flatten_4 (Flatten)         (None, 5000)                 0         ['max_pooling1d_5[0][0]']     \n",
      "                                                                                                  \n",
      " flatten_5 (Flatten)         (None, 2400)                 0         ['max_pooling1d_7[0][0]']     \n",
      "                                                                                                  \n",
      " concatenate_1 (Concatenate  (None, 7404)                 0         ['flatten_3[0][0]',           \n",
      " )                                                                   'flatten_4[0][0]',           \n",
      "                                                                     'flatten_5[0][0]']           \n",
      "                                                                                                  \n",
      " dropout_2 (Dropout)         (None, 7404)                 0         ['concatenate_1[0][0]']       \n",
      "                                                                                                  \n",
      " dense_3 (Dense)             (None, 5000)                 3702500   ['dropout_2[0][0]']           \n",
      "                                                          0                                       \n",
      "                                                                                                  \n",
      " dropout_3 (Dropout)         (None, 5000)                 0         ['dense_3[0][0]']             \n",
      "                                                                                                  \n",
      " dense_4 (Dense)             (None, 5000)                 2500500   ['dropout_3[0][0]']           \n",
      "                                                          0                                       \n",
      "                                                                                                  \n",
      " dense_5 (Dense)             (None, 3)                    15003     ['dense_4[0][0]']             \n",
      "                                                                                                  \n",
      "==================================================================================================\n",
      "Total params: 62617703 (238.87 MB)\n",
      "Trainable params: 62617703 (238.87 MB)\n",
      "Non-trainable params: 0 (0.00 Byte)\n",
      "__________________________________________________________________________________________________\n"
     ]
    }
   ],
   "source": [
    "from keras import layers, models\n",
    "\n",
    "input = layers.Input(shape=(501, 6, 1))\n",
    "\n",
    "timeData = layers.Cropping2D(((0, 500), (2, 0)))(input)\n",
    "timeData = layers.Flatten()(timeData)\n",
    "\n",
    "m5Data = layers.Cropping2D(((1, 200), (0, 0)))(input)\n",
    "m5Data = layers.Conv2D(50, (24, 5))(m5Data)\n",
    "m5Data = layers.MaxPooling2D((2, 2))(m5Data)\n",
    "m5Data = layers.Reshape((138, 50))(m5Data)\n",
    "m5Data = layers.Conv1D(100, 24)(m5Data)\n",
    "m5Data = layers.MaxPooling1D(2)(m5Data)\n",
    "m5Data = layers.Conv1D(200, 8)(m5Data)\n",
    "m5Data = layers.MaxPooling1D(2)(m5Data)\n",
    "m5Data = layers.Flatten()(m5Data)\n",
    "\n",
    "d1Data = layers.Cropping2D(((301, 0), (0, 0)))(input)\n",
    "d1Data = layers.Conv2D(50, (24, 5))(d1Data)\n",
    "d1Data = layers.MaxPooling2D((2, 2))(d1Data)\n",
    "d1Data = layers.Reshape((88, 50))(d1Data)\n",
    "d1Data = layers.Conv1D(100, 24)(d1Data)\n",
    "d1Data = layers.MaxPooling1D(2)(d1Data)\n",
    "d1Data = layers.Conv1D(200, 8)(d1Data)\n",
    "d1Data = layers.MaxPooling1D(2)(d1Data)\n",
    "d1Data = layers.Flatten()(d1Data)\n",
    "\n",
    "concat = layers.Concatenate()([timeData, m5Data, d1Data])\n",
    "\n",
    "modelo = layers.Dropout(0.5)(concat)\n",
    "modelo = layers.Dense(5000, 'relu')(modelo)\n",
    "modelo = layers.Dropout(0.5)(modelo)\n",
    "modelo = layers.Dense(5000, 'relu')(modelo)\n",
    "modelo = layers.Dense(3, 'softmax')(modelo)\n",
    "\n",
    "modelo = models.Model(input, modelo)\n",
    "modelo.compile(loss='categorical_crossentropy', metrics=['accuracy'], optimizer='adam')\n",
    "modelo.summary()"
   ]
  },
  {
   "cell_type": "markdown",
   "metadata": {},
   "source": [
    "# Treinar Modelo"
   ]
  },
  {
   "cell_type": "code",
   "execution_count": 7,
   "metadata": {},
   "outputs": [
    {
     "name": "stdout",
     "output_type": "stream",
     "text": [
      "Epoch 1/500\n",
      "234/234 [==============================] - 18s 73ms/step - loss: 1.2727 - accuracy: 0.4051 - val_loss: 1.0384 - val_accuracy: 0.4471\n",
      "Epoch 2/500\n",
      "234/234 [==============================] - 14s 61ms/step - loss: 1.0263 - accuracy: 0.4462 - val_loss: 1.0251 - val_accuracy: 0.4503\n",
      "Epoch 3/500\n",
      "234/234 [==============================] - 15s 64ms/step - loss: 0.9998 - accuracy: 0.4732 - val_loss: 0.9803 - val_accuracy: 0.4964\n",
      "Epoch 4/500\n",
      "234/234 [==============================] - 15s 62ms/step - loss: 0.9640 - accuracy: 0.5097 - val_loss: 0.9070 - val_accuracy: 0.5523\n",
      "Epoch 5/500\n",
      "234/234 [==============================] - 15s 63ms/step - loss: 0.8852 - accuracy: 0.5745 - val_loss: 0.7960 - val_accuracy: 0.6357\n",
      "Epoch 6/500\n",
      "234/234 [==============================] - 15s 62ms/step - loss: 0.7509 - accuracy: 0.6666 - val_loss: 0.6266 - val_accuracy: 0.7541\n",
      "Epoch 7/500\n",
      "234/234 [==============================] - 14s 61ms/step - loss: 0.6178 - accuracy: 0.7449 - val_loss: 0.4912 - val_accuracy: 0.8071\n",
      "Epoch 8/500\n",
      "234/234 [==============================] - 14s 60ms/step - loss: 0.5133 - accuracy: 0.7960 - val_loss: 0.4358 - val_accuracy: 0.8412\n",
      "Epoch 9/500\n",
      "234/234 [==============================] - 14s 60ms/step - loss: 0.4545 - accuracy: 0.8243 - val_loss: 0.3955 - val_accuracy: 0.8579\n",
      "Epoch 10/500\n",
      "234/234 [==============================] - 14s 60ms/step - loss: 0.4089 - accuracy: 0.8429 - val_loss: 0.3726 - val_accuracy: 0.8626\n",
      "Epoch 11/500\n",
      "234/234 [==============================] - 15s 62ms/step - loss: 0.3740 - accuracy: 0.8580 - val_loss: 0.3581 - val_accuracy: 0.8702\n",
      "Epoch 12/500\n",
      "234/234 [==============================] - 14s 60ms/step - loss: 0.3524 - accuracy: 0.8656 - val_loss: 0.3421 - val_accuracy: 0.8745\n",
      "Epoch 13/500\n",
      "234/234 [==============================] - 14s 60ms/step - loss: 0.3318 - accuracy: 0.8730 - val_loss: 0.3250 - val_accuracy: 0.8798\n",
      "Epoch 14/500\n",
      "234/234 [==============================] - 14s 62ms/step - loss: 0.3147 - accuracy: 0.8796 - val_loss: 0.3238 - val_accuracy: 0.8829\n",
      "Epoch 15/500\n",
      "234/234 [==============================] - 14s 60ms/step - loss: 0.3019 - accuracy: 0.8833 - val_loss: 0.3204 - val_accuracy: 0.8859\n",
      "Epoch 16/500\n",
      "234/234 [==============================] - 11s 46ms/step - loss: 0.2956 - accuracy: 0.8866 - val_loss: 0.3266 - val_accuracy: 0.8837\n",
      "Epoch 17/500\n",
      "234/234 [==============================] - 11s 45ms/step - loss: 0.2852 - accuracy: 0.8901 - val_loss: 0.3303 - val_accuracy: 0.8825\n",
      "Epoch 18/500\n",
      "234/234 [==============================] - 14s 60ms/step - loss: 0.2791 - accuracy: 0.8950 - val_loss: 0.3162 - val_accuracy: 0.8874\n",
      "Epoch 19/500\n",
      "234/234 [==============================] - 11s 45ms/step - loss: 0.2694 - accuracy: 0.8972 - val_loss: 0.3298 - val_accuracy: 0.8832\n",
      "Epoch 20/500\n",
      "234/234 [==============================] - 11s 46ms/step - loss: 0.2751 - accuracy: 0.8958 - val_loss: 0.3394 - val_accuracy: 0.8866\n",
      "Epoch 21/500\n",
      "234/234 [==============================] - 14s 61ms/step - loss: 0.2661 - accuracy: 0.8991 - val_loss: 0.3239 - val_accuracy: 0.8923\n",
      "Epoch 22/500\n",
      "234/234 [==============================] - 11s 45ms/step - loss: 0.2644 - accuracy: 0.9001 - val_loss: 0.3467 - val_accuracy: 0.8884\n",
      "Epoch 23/500\n",
      "234/234 [==============================] - 11s 45ms/step - loss: 0.2570 - accuracy: 0.9033 - val_loss: 0.3377 - val_accuracy: 0.8910\n",
      "Epoch 24/500\n",
      "234/234 [==============================] - 11s 45ms/step - loss: 0.2489 - accuracy: 0.9057 - val_loss: 0.3486 - val_accuracy: 0.8888\n",
      "Epoch 25/500\n",
      "234/234 [==============================] - 11s 45ms/step - loss: 0.2566 - accuracy: 0.9034 - val_loss: 0.3475 - val_accuracy: 0.8886\n",
      "Epoch 26/500\n",
      "234/234 [==============================] - 14s 61ms/step - loss: 0.2407 - accuracy: 0.9101 - val_loss: 0.3437 - val_accuracy: 0.8939\n",
      "Epoch 27/500\n",
      "234/234 [==============================] - 14s 60ms/step - loss: 0.2443 - accuracy: 0.9095 - val_loss: 0.3376 - val_accuracy: 0.8948\n",
      "Epoch 28/500\n",
      "234/234 [==============================] - 11s 46ms/step - loss: 0.2365 - accuracy: 0.9117 - val_loss: 0.3695 - val_accuracy: 0.8917\n",
      "Epoch 29/500\n",
      "234/234 [==============================] - 11s 45ms/step - loss: 0.2393 - accuracy: 0.9108 - val_loss: 0.3624 - val_accuracy: 0.8911\n",
      "Epoch 30/500\n",
      "234/234 [==============================] - 11s 45ms/step - loss: 0.2438 - accuracy: 0.9093 - val_loss: 0.3552 - val_accuracy: 0.8889\n",
      "Epoch 31/500\n",
      "234/234 [==============================] - 11s 46ms/step - loss: 0.2283 - accuracy: 0.9166 - val_loss: 0.3642 - val_accuracy: 0.8915\n",
      "Epoch 32/500\n",
      "234/234 [==============================] - 11s 46ms/step - loss: 0.2289 - accuracy: 0.9157 - val_loss: 0.4049 - val_accuracy: 0.8855\n",
      "Epoch 33/500\n",
      "234/234 [==============================] - 11s 46ms/step - loss: 0.2239 - accuracy: 0.9190 - val_loss: 0.3845 - val_accuracy: 0.8878\n",
      "Epoch 34/500\n",
      "234/234 [==============================] - 11s 46ms/step - loss: 0.2224 - accuracy: 0.9196 - val_loss: 0.3760 - val_accuracy: 0.8912\n",
      "Epoch 35/500\n",
      "234/234 [==============================] - 11s 46ms/step - loss: 0.2146 - accuracy: 0.9208 - val_loss: 0.3712 - val_accuracy: 0.8914\n",
      "Epoch 36/500\n",
      "234/234 [==============================] - 11s 46ms/step - loss: 0.2184 - accuracy: 0.9212 - val_loss: 0.4105 - val_accuracy: 0.8912\n",
      "Epoch 37/500\n",
      "234/234 [==============================] - 11s 46ms/step - loss: 0.2110 - accuracy: 0.9240 - val_loss: 0.3812 - val_accuracy: 0.8918\n",
      "Epoch 38/500\n",
      "234/234 [==============================] - 11s 46ms/step - loss: 0.2071 - accuracy: 0.9262 - val_loss: 0.3847 - val_accuracy: 0.8942\n",
      "Epoch 39/500\n",
      "234/234 [==============================] - 11s 45ms/step - loss: 0.2132 - accuracy: 0.9237 - val_loss: 0.4062 - val_accuracy: 0.8930\n",
      "Epoch 40/500\n",
      "234/234 [==============================] - 11s 46ms/step - loss: 0.2040 - accuracy: 0.9274 - val_loss: 0.4221 - val_accuracy: 0.8928\n",
      "Epoch 41/500\n",
      "234/234 [==============================] - 11s 46ms/step - loss: 0.1957 - accuracy: 0.9304 - val_loss: 0.3775 - val_accuracy: 0.8899\n",
      "Epoch 41: early stopping\n"
     ]
    },
    {
     "data": {
      "text/plain": [
       "<keras.src.callbacks.History at 0x7f37c81d3820>"
      ]
     },
     "execution_count": 7,
     "metadata": {},
     "output_type": "execute_result"
    }
   ],
   "source": [
    "from keras.callbacks import EarlyStopping, ModelCheckpoint, TensorBoard\n",
    "\n",
    "tensorboard_callback = TensorBoard(log_dir=\"./logs/customModel/\")\n",
    "earlystop_cb = EarlyStopping(monitor='val_accuracy', patience=15, min_delta=0.001, verbose=True)\n",
    "modelcheckpoint_cb = ModelCheckpoint('/mnt/c/Users/aurel/OneDrive/Documentos/Projetos/tradingPredictor/models/CustomModel2.h5', 'val_accuracy', save_best_only=True)\n",
    "\n",
    "modelo.fit(\n",
    "    x,\n",
    "    y_one_hot,\n",
    "    shuffle=True, \n",
    "    epochs=500,\n",
    "    batch_size=256,\n",
    "    validation_split=0.2,\n",
    "    callbacks=[tensorboard_callback, earlystop_cb, modelcheckpoint_cb]\n",
    ")"
   ]
  }
 ],
 "metadata": {
  "kernelspec": {
   "display_name": "Python 3",
   "language": "python",
   "name": "python3"
  },
  "language_info": {
   "codemirror_mode": {
    "name": "ipython",
    "version": 3
   },
   "file_extension": ".py",
   "mimetype": "text/x-python",
   "name": "python",
   "nbconvert_exporter": "python",
   "pygments_lexer": "ipython3",
   "version": "3.10.12"
  },
  "orig_nbformat": 4
 },
 "nbformat": 4,
 "nbformat_minor": 2
}
