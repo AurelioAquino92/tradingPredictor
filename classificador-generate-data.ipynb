{
 "cells": [
  {
   "attachments": {},
   "cell_type": "markdown",
   "metadata": {},
   "source": [
    "# Bibliotecas"
   ]
  },
  {
   "cell_type": "code",
   "execution_count": null,
   "metadata": {},
   "outputs": [],
   "source": [
    "from obterDados import obterSimboloPosicao, obterSimboloData\n",
    "import numpy as np\n",
    "from tqdm import tqdm\n",
    "from matplotlib import pyplot as plt\n",
    "import tensorflow as tf\n",
    "from keras.models import Sequential\n",
    "from keras.layers import Conv2D\n",
    "from keras.layers import MaxPooling2D\n",
    "from keras.layers import Flatten\n",
    "from keras.layers import Dense"
   ]
  },
  {
   "attachments": {},
   "cell_type": "markdown",
   "metadata": {},
   "source": [
    "# Obtendo dados"
   ]
  },
  {
   "cell_type": "code",
   "execution_count": null,
   "metadata": {},
   "outputs": [],
   "source": [
    "rawDataM5 = obterSimboloPosicao()\n",
    "rawDataM5"
   ]
  },
  {
   "cell_type": "code",
   "execution_count": null,
   "metadata": {},
   "outputs": [],
   "source": [
    "# rawDataM5[:-50*108]"
   ]
  },
  {
   "cell_type": "code",
   "execution_count": null,
   "metadata": {},
   "outputs": [],
   "source": [
    "rawDataM5['minute'] = rawDataM5.index.minute\n",
    "rawDataM5['hour'] = rawDataM5.index.hour\n",
    "rawDataM5['day_of_week'] = rawDataM5.index.day_of_week\n",
    "rawDataM5['day'] = rawDataM5.index.day\n",
    "# rawDataM5NP = rawDataM5.to_numpy()\n",
    "rawDataM5NP = rawDataM5[:-50*108].to_numpy()\n",
    "rawDataM5NP"
   ]
  },
  {
   "cell_type": "code",
   "execution_count": null,
   "metadata": {},
   "outputs": [],
   "source": [
    "# np.save(open('data/raw/rawDataM5NP.npy', 'wb'), rawDataM5NP)"
   ]
  },
  {
   "attachments": {},
   "cell_type": "markdown",
   "metadata": {},
   "source": [
    "# Tratamento de Dados"
   ]
  },
  {
   "attachments": {},
   "cell_type": "markdown",
   "metadata": {},
   "source": [
    "### Gerando colunas com preços passados"
   ]
  },
  {
   "cell_type": "code",
   "execution_count": null,
   "metadata": {},
   "outputs": [],
   "source": [
    "nPassado = 300\n",
    "nFuturo = 24\n",
    "histM5NP = np.zeros((len(rawDataM5NP)-(nPassado+nFuturo), nPassado+1, 6))\n",
    "for i in tqdm(range(len(histM5NP))):\n",
    "    histM5NP[i, 0, -4:] = rawDataM5NP[i:i+nPassado][-1][-4:]\n",
    "    histM5NP[i, 1:] = rawDataM5NP[i:i+nPassado, :6]"
   ]
  },
  {
   "cell_type": "markdown",
   "metadata": {},
   "source": [
    "### Achar quando comprar, vender ou fazer nada"
   ]
  },
  {
   "cell_type": "code",
   "execution_count": null,
   "metadata": {},
   "outputs": [],
   "source": [
    "pontos = 30\n",
    "y = np.zeros((len(histM5NP)))\n",
    "for i in tqdm(range(len(y))):\n",
    "    ultimoPreco = histM5NP[i, -1, 3]\n",
    "    for j in range(nFuturo):\n",
    "        # nao fazer nada se for mais de 14hs\n",
    "        # if rawNP[nPassado+i+j, -3] > 14:\n",
    "        #     break\n",
    "        # comprar\n",
    "        if rawDataM5NP[nPassado+i+j, 1] >= ultimoPreco + pontos:\n",
    "            y[i] = 1\n",
    "            break\n",
    "        # vender\n",
    "        if rawDataM5NP[nPassado+i+j, 2] <= ultimoPreco - pontos:\n",
    "            y[i] = 2\n",
    "            break"
   ]
  },
  {
   "cell_type": "markdown",
   "metadata": {},
   "source": [
    "# Obtendo histórico D1"
   ]
  },
  {
   "cell_type": "code",
   "execution_count": null,
   "metadata": {},
   "outputs": [],
   "source": [
    "histNP = np.zeros((histM5NP.shape[0], histM5NP.shape[1] + 200, histM5NP.shape[2]))\n",
    "\n",
    "for i in tqdm(range(len(histNP))):\n",
    "    rawDataD1 = obterSimboloData(rawDataM5.index[i+nFuturo])\n",
    "    rawDataD1NP = rawDataD1.to_numpy()\n",
    "    histNP[i, :histM5NP.shape[1]] = histM5NP[i]\n",
    "    histNP[i, histM5NP.shape[1]:] = rawDataD1NP\n",
    "    "
   ]
  },
  {
   "cell_type": "markdown",
   "metadata": {},
   "source": [
    "### Normalização"
   ]
  },
  {
   "cell_type": "code",
   "execution_count": null,
   "metadata": {},
   "outputs": [],
   "source": [
    "histNPNorm = np.zeros(histNP.shape, dtype=np.float64)\n",
    "for i in tqdm(range(len(histNPNorm))):\n",
    "    # preços\n",
    "    vmax = histNP[i, 1:nPassado+1, :4].max()\n",
    "    vmin = histNP[i, 1:nPassado+1, :4].min()\n",
    "    histNPNorm[i, 1:nPassado+1, :4] = (histNP[i, 1:nPassado+1, :4] - vmin) / (vmax - vmin)\n",
    "    # tick volume\n",
    "    vmax = histNP[i, 1:nPassado+1, 4].max()\n",
    "    vmin = histNP[i, 1:nPassado+1, 4].min()\n",
    "    histNPNorm[i, 1:nPassado+1, 4] = (histNP[i, 1:nPassado+1, 4] - vmin) / (vmax - vmin)\n",
    "    # real volume\n",
    "    vmax = histNP[i, 1:nPassado+1, 5].max()\n",
    "    vmin = histNP[i, 1:nPassado+1, 5].min()\n",
    "    histNPNorm[i, 1:nPassado+1, 5] = (histNP[i, 1:nPassado+1, 5] - vmin) / (vmax - vmin)\n",
    "    # preços\n",
    "    vmax = histNP[i, nPassado+1:, :4].max()\n",
    "    vmin = histNP[i, nPassado+1:, :4].min()\n",
    "    histNPNorm[i, nPassado+1:, :4] = (histNP[i, nPassado+1:, :4] - vmin) / (vmax - vmin)\n",
    "    # tick volume\n",
    "    vmax = histNP[i, nPassado+1:, 4].max()\n",
    "    vmin = histNP[i, nPassado+1:, 4].min()\n",
    "    histNPNorm[i, nPassado+1:, 4] = (histNP[i, nPassado+1:, 4] - vmin) / (vmax - vmin)\n",
    "    # real volume\n",
    "    vmax = histNP[i, nPassado+1:, 5].max()\n",
    "    vmin = histNP[i, nPassado+1:, 5].min()\n",
    "    histNPNorm[i, nPassado+1:, 5] = (histNP[i, nPassado+1:, 5] - vmin) / (vmax - vmin)\n",
    "# minuto\n",
    "histNPNorm[:, 0, 2] = histNP[:, 0, 2] / 60\n",
    "# hora\n",
    "histNPNorm[:, 0, 3] = histNP[:, 0, 3] / 24\n",
    "# dia da semana\n",
    "histNPNorm[:, 0, 4] = histNP[:, 0, 4] / 4\n",
    "# dia\n",
    "histNPNorm[:, 0, 5] = histNP[:, 0, 5] / 31\n"
   ]
  },
  {
   "cell_type": "markdown",
   "metadata": {},
   "source": [
    "### Sem Reshape para 2d no caso para CNNs"
   ]
  },
  {
   "cell_type": "code",
   "execution_count": null,
   "metadata": {},
   "outputs": [],
   "source": [
    "x = histNPNorm"
   ]
  },
  {
   "cell_type": "markdown",
   "metadata": {},
   "source": [
    "### Balanceamento de Classes"
   ]
  },
  {
   "cell_type": "code",
   "execution_count": null,
   "metadata": {},
   "outputs": [],
   "source": [
    "unicos, contagem = np.unique(y, return_counts=True)\n",
    "print(contagem)\n",
    "plt.pie(contagem, labels=unicos)"
   ]
  },
  {
   "cell_type": "code",
   "execution_count": null,
   "metadata": {},
   "outputs": [],
   "source": [
    "amostra = contagem.min()\n",
    "Amostragem = np.zeros((amostra * 3, x.shape[1], x.shape[2] + 1), dtype=np.float64)\n",
    "\n",
    "for i in range(3):\n",
    "    xClasse_i = x[y == i]\n",
    "    xAmostra = xClasse_i[np.random.choice(xClasse_i.shape[0], size=amostra, replace=False)]\n",
    "    Amostragem[i*amostra:(i+1)*amostra, :, :-1] = xAmostra\n",
    "    Amostragem[i*amostra:(i+1)*amostra, :, -1] = i\n",
    "\n",
    "Amostragem.shape"
   ]
  },
  {
   "cell_type": "code",
   "execution_count": null,
   "metadata": {},
   "outputs": [],
   "source": [
    "np.random.shuffle(Amostragem)\n",
    "x = Amostragem[:, :, :-1]\n",
    "y = Amostragem[:, :, -1][:, 0]\n",
    "y"
   ]
  },
  {
   "cell_type": "code",
   "execution_count": null,
   "metadata": {},
   "outputs": [],
   "source": [
    "unicos, contagem = np.unique(y, return_counts=True)\n",
    "print(contagem)\n",
    "plt.pie(contagem, labels=unicos)"
   ]
  },
  {
   "attachments": {},
   "cell_type": "markdown",
   "metadata": {},
   "source": [
    "### Salvando dados em 2D"
   ]
  },
  {
   "cell_type": "code",
   "execution_count": null,
   "metadata": {},
   "outputs": [],
   "source": [
    "np.save(open('data/cnn/x.npy', 'wb'), x)\n",
    "np.save(open('data/cnn/y.npy', 'wb'), y)"
   ]
  },
  {
   "cell_type": "markdown",
   "metadata": {},
   "source": [
    "### Salvando dados em 1D"
   ]
  },
  {
   "cell_type": "code",
   "execution_count": null,
   "metadata": {},
   "outputs": [],
   "source": [
    "np.save(open('data/x.npy', 'wb'), np.reshape(x, (x.shape[0], x.shape[1] * x.shape[2])))\n",
    "np.save(open('data/y.npy', 'wb'), y)"
   ]
  },
  {
   "cell_type": "markdown",
   "metadata": {},
   "source": [
    "# Salvando a data do treino"
   ]
  },
  {
   "cell_type": "code",
   "execution_count": null,
   "metadata": {},
   "outputs": [],
   "source": [
    "from datetime import datetime\n",
    "\n",
    "file = open('lastDataTrained.txt', 'w')\n",
    "file.write(str(datetime.now().strftime('%Y-%m-%d')))\n",
    "file.close()"
   ]
  }
 ],
 "metadata": {
  "kernelspec": {
   "display_name": "Python 3",
   "language": "python",
   "name": "python3"
  },
  "language_info": {
   "codemirror_mode": {
    "name": "ipython",
    "version": 3
   },
   "file_extension": ".py",
   "mimetype": "text/x-python",
   "name": "python",
   "nbconvert_exporter": "python",
   "pygments_lexer": "ipython3",
   "version": "3.10.8"
  },
  "orig_nbformat": 4
 },
 "nbformat": 4,
 "nbformat_minor": 2
}
