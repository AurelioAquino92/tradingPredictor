{
 "cells": [
  {
   "attachments": {},
   "cell_type": "markdown",
   "metadata": {},
   "source": [
    "# Bibliotecas"
   ]
  },
  {
   "cell_type": "code",
   "execution_count": null,
   "metadata": {},
   "outputs": [],
   "source": [
    "from sklearn.metrics import r2_score, mean_squared_error\n",
    "from obterDados import obterSimbolo"
   ]
  },
  {
   "attachments": {},
   "cell_type": "markdown",
   "metadata": {},
   "source": [
    "# Obtendo dados"
   ]
  },
  {
   "cell_type": "code",
   "execution_count": null,
   "metadata": {},
   "outputs": [],
   "source": [
    "rawDataM5 = obterSimbolo('WDO$')\n",
    "rawDataM5"
   ]
  },
  {
   "attachments": {},
   "cell_type": "markdown",
   "metadata": {},
   "source": [
    "# Tratamento de Dados"
   ]
  },
  {
   "attachments": {},
   "cell_type": "markdown",
   "metadata": {},
   "source": [
    "### Gerando colunas com preços passados e futuros"
   ]
  },
  {
   "cell_type": "code",
   "execution_count": null,
   "metadata": {},
   "outputs": [],
   "source": [
    "hist = rawDataM5.copy().drop(columns=['spread'])\n",
    "colunas0 = ['open', 'high', 'low', 'close', 'tick_volume', 'real_volume']\n",
    "for i in range(1, 1000):\n",
    "    for coluna in colunas0:\n",
    "        hist[coluna+str(i)] = hist[coluna].shift(i)\n",
    "colunasY = []\n",
    "for i in range(1, 25):\n",
    "    for coluna in colunas0:\n",
    "        nomeCol = f'{coluna}-{str(i)}'\n",
    "        hist[nomeCol] = hist[coluna].shift(-i)\n",
    "        colunasY.append(nomeCol)\n",
    "\n",
    "hist = hist.dropna()\n",
    "hist"
   ]
  },
  {
   "attachments": {},
   "cell_type": "markdown",
   "metadata": {},
   "source": [
    "# Modelo de Classificação"
   ]
  },
  {
   "cell_type": "markdown",
   "metadata": {},
   "source": [
    "### Normalização"
   ]
  },
  {
   "cell_type": "code",
   "execution_count": null,
   "metadata": {},
   "outputs": [],
   "source": [
    "# maxVs = hist.drop(columns=colunasY).max(axis='columns')\n",
    "# minVs = hist.drop(columns=colunasY).min(axis='columns')\n",
    "# histNorm = hist.subtract(minVs, axis=0).divide(maxVs - minVs, axis=0)\n",
    "# histNorm"
   ]
  },
  {
   "cell_type": "markdown",
   "metadata": {},
   "source": [
    "### Achar quando comprar, vender ou fazer nada"
   ]
  },
  {
   "cell_type": "code",
   "execution_count": null,
   "metadata": {},
   "outputs": [],
   "source": [
    "hist['action'] = 0\n",
    "ganhoEmPontos = 30\n",
    "actions = hist['action'].to_numpy()\n",
    "fechamentos = hist['close'].to_numpy()\n",
    "for i in range(len(fechamentos)):\n",
    "    for j in range(1, 25):\n",
    "        nameCol = f'high-{str(j)}'\n",
    "        if hist[nameCol].to_numpy()[i] >= fechamentos[i] + ganhoEmPontos:\n",
    "            actions[i] = 1\n",
    "            break\n",
    "        nameCol = f'low-{str(j)}'\n",
    "        if hist[nameCol].to_numpy()[i] <= fechamentos[i] - ganhoEmPontos:\n",
    "            actions[i] = 2\n",
    "            break\n",
    "hist['action'] = actions.tolist()\n",
    "colunasY.append('action')\n",
    "colunasY"
   ]
  },
  {
   "attachments": {},
   "cell_type": "markdown",
   "metadata": {},
   "source": [
    "### Separar dados de treino e teste"
   ]
  },
  {
   "cell_type": "code",
   "execution_count": null,
   "metadata": {},
   "outputs": [],
   "source": [
    "xClass = hist.drop(columns=colunasY)\n",
    "yClass = hist['action']\n",
    "splitDays = 108 * 150\n",
    "x_train_class = xClass.iloc[:-splitDays]\n",
    "x_test_class = xClass.iloc[-splitDays:]\n",
    "y_train_class = yClass.iloc[:-splitDays]\n",
    "y_test_class = yClass.iloc[-splitDays:]"
   ]
  },
  {
   "attachments": {},
   "cell_type": "markdown",
   "metadata": {},
   "source": [
    "### Lazy Classifier"
   ]
  },
  {
   "cell_type": "code",
   "execution_count": null,
   "metadata": {},
   "outputs": [],
   "source": [
    "from lazypredict.Supervised import LazyClassifier\n",
    "\n",
    "lazyReg = LazyClassifier()\n",
    "lazyReg.fit(x_train_class, x_test_class, y_train_class, y_test_class)"
   ]
  },
  {
   "attachments": {},
   "cell_type": "markdown",
   "metadata": {},
   "source": [
    "### Criando um dos modelos encontrados"
   ]
  },
  {
   "cell_type": "code",
   "execution_count": null,
   "metadata": {},
   "outputs": [],
   "source": [
    "from sklearn.ensemble import AdaBoostClassifier\n",
    "from sklearn.neural_network import MLPClassifier\n",
    "\n",
    "# modelo = MLPClassifier(verbose=True)\n",
    "modelo = AdaBoostClassifier()\n",
    "modelo.fit(x_train_class, y_train_class)\n"
   ]
  },
  {
   "cell_type": "markdown",
   "metadata": {},
   "source": [
    "### Salvar Modelo de Classificação"
   ]
  },
  {
   "cell_type": "code",
   "execution_count": null,
   "metadata": {},
   "outputs": [],
   "source": [
    "import pickle\n",
    "\n",
    "pickle.dump(modelo, open('modeloClassificador.pickle', 'wb'))"
   ]
  },
  {
   "cell_type": "markdown",
   "metadata": {},
   "source": [
    "# Pontuação de treino e teste"
   ]
  },
  {
   "cell_type": "code",
   "execution_count": null,
   "metadata": {},
   "outputs": [],
   "source": [
    "from sklearn.metrics import classification_report\n",
    "from pickle import load\n",
    "\n",
    "modelo = load(open('modeloClassificador.pickle', 'rb'))\n",
    "print('Treino: ', classification_report(y_train_class, modelo.predict(x_train_class)))\n",
    "print('Teste: ', classification_report(y_test_class, modelo.predict(x_test_class)))"
   ]
  }
 ],
 "metadata": {
  "kernelspec": {
   "display_name": "Python 3",
   "language": "python",
   "name": "python3"
  },
  "language_info": {
   "codemirror_mode": {
    "name": "ipython",
    "version": 3
   },
   "file_extension": ".py",
   "mimetype": "text/x-python",
   "name": "python",
   "nbconvert_exporter": "python",
   "pygments_lexer": "ipython3",
   "version": "3.10.8"
  },
  "orig_nbformat": 4
 },
 "nbformat": 4,
 "nbformat_minor": 2
}
