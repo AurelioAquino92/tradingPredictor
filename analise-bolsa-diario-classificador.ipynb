{
 "cells": [
  {
   "attachments": {},
   "cell_type": "markdown",
   "metadata": {},
   "source": [
    "# Bibliotecas"
   ]
  },
  {
   "cell_type": "code",
   "execution_count": null,
   "metadata": {},
   "outputs": [],
   "source": [
    "from sklearn.metrics import r2_score, mean_squared_error\n",
    "from obterDados import obterSimbolo"
   ]
  },
  {
   "attachments": {},
   "cell_type": "markdown",
   "metadata": {},
   "source": [
    "# Obtendo dados"
   ]
  },
  {
   "cell_type": "code",
   "execution_count": null,
   "metadata": {},
   "outputs": [],
   "source": [
    "rawDataM5 = obterSimbolo('WDO$')\n",
    "rawDataM5"
   ]
  },
  {
   "attachments": {},
   "cell_type": "markdown",
   "metadata": {},
   "source": [
    "# Tratamento de Dados"
   ]
  },
  {
   "attachments": {},
   "cell_type": "markdown",
   "metadata": {},
   "source": [
    "### Gerando colunas com preços passados e futuros"
   ]
  },
  {
   "cell_type": "code",
   "execution_count": null,
   "metadata": {},
   "outputs": [],
   "source": [
    "hist = rawDataM5.copy().drop(columns=['tick_volume', 'real_volume', 'spread'])\n",
    "for i in range(1000):\n",
    "    hist['open'+str(i+1)] = hist['open'].shift(i+1)\n",
    "    hist['high'+str(i+1)] = hist['high'].shift(i+1)\n",
    "    hist['low'+str(i+1)] = hist['low'].shift(i+1)\n",
    "    hist['close'+str(i+1)] = hist['close'].shift(i+1)\n",
    "colunas0 = ['open', 'high', 'low', 'close']\n",
    "colunasY = []\n",
    "for i in range(24):\n",
    "    for name in colunas0:\n",
    "        nomeCol = f'{name}-{str(i+1)}'\n",
    "        hist[nomeCol] = hist[name].shift(-1-i)\n",
    "        colunasY.append(nomeCol)\n",
    "\n",
    "hist = hist.dropna()\n",
    "hist"
   ]
  },
  {
   "attachments": {},
   "cell_type": "markdown",
   "metadata": {},
   "source": [
    "# Modelo de Classificação"
   ]
  },
  {
   "cell_type": "markdown",
   "metadata": {},
   "source": [
    "### Normalização"
   ]
  },
  {
   "cell_type": "code",
   "execution_count": null,
   "metadata": {},
   "outputs": [],
   "source": [
    "maxVs = hist.drop(columns=colunasY).max(axis='columns')\n",
    "minVs = hist.drop(columns=colunasY).min(axis='columns')\n",
    "histNorm = hist.subtract(minVs, axis=0).divide(maxVs - minVs, axis=0)\n",
    "histNorm"
   ]
  },
  {
   "attachments": {},
   "cell_type": "markdown",
   "metadata": {},
   "source": [
    "### Separar dados de treino e teste"
   ]
  },
  {
   "cell_type": "code",
   "execution_count": 6,
   "metadata": {},
   "outputs": [],
   "source": [
    "xClass = histNorm.drop(columns=colunasY)\n",
    "yClass = histNorm[colunasY]\n",
    "splitDays = 108 * 150\n",
    "x_train_class = xClass.iloc[:-splitDays]\n",
    "x_test_class = xClass.iloc[-splitDays:]\n",
    "y_train_class = yClass.iloc[:-splitDays]\n",
    "y_test_class = yClass.iloc[-splitDays:]"
   ]
  },
  {
   "attachments": {},
   "cell_type": "markdown",
   "metadata": {},
   "source": [
    "### Lazy Regressor"
   ]
  },
  {
   "cell_type": "code",
   "execution_count": null,
   "metadata": {},
   "outputs": [],
   "source": [
    "from lazypredict.Supervised import LazyClassifier\n",
    "\n",
    "lazyReg = LazyClassifier()\n",
    "lazyReg.fit(x_train_class, x_test_class, y_train_class, y_test_class)"
   ]
  },
  {
   "attachments": {},
   "cell_type": "markdown",
   "metadata": {},
   "source": [
    "### Criando um dos modelos encontrados"
   ]
  },
  {
   "cell_type": "code",
   "execution_count": null,
   "metadata": {},
   "outputs": [],
   "source": [
    "from sklearn.linear_model import OrthogonalMatchingPursuit\n",
    "from sklearn.neural_network import MLPRegressor\n",
    "from math import sqrt\n",
    "\n",
    "# modelo = OrthogonalMatchingPursuit()\n",
    "modelo = MLPRegressor(verbose=True)\n",
    "modelo.fit(x_train_class, y_train_class)\n",
    "y_train_predict = modelo.predict(x_train_class)\n",
    "y_test_predict = modelo.predict(x_test_class)\n",
    "print('Treino R2:', r2_score(y_train_class, y_train_predict))\n",
    "print('Teste R2:', r2_score(y_test_class, y_test_predict))\n",
    "print('Treino RMSE:', sqrt(mean_squared_error(y_train_class, modelo.predict(x_train_class))))\n",
    "print('Teste RMSE:', sqrt(mean_squared_error(y_test_class, modelo.predict(x_test_class))))\n"
   ]
  },
  {
   "cell_type": "markdown",
   "metadata": {},
   "source": [
    "### Salvar Modelo de Classificação"
   ]
  },
  {
   "cell_type": "code",
   "execution_count": null,
   "metadata": {},
   "outputs": [],
   "source": [
    "import pickle\n",
    "\n",
    "pickle.dump(modelo, open('modeloClassificador.pickle', 'wb'))"
   ]
  }
 ],
 "metadata": {
  "kernelspec": {
   "display_name": "Python 3",
   "language": "python",
   "name": "python3"
  },
  "language_info": {
   "codemirror_mode": {
    "name": "ipython",
    "version": 3
   },
   "file_extension": ".py",
   "mimetype": "text/x-python",
   "name": "python",
   "nbconvert_exporter": "python",
   "pygments_lexer": "ipython3",
   "version": "3.10.8"
  },
  "orig_nbformat": 4
 },
 "nbformat": 4,
 "nbformat_minor": 2
}
