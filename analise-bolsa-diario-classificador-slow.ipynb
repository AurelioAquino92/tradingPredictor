{
 "cells": [
  {
   "attachments": {},
   "cell_type": "markdown",
   "metadata": {},
   "source": [
    "# Bibliotecas"
   ]
  },
  {
   "cell_type": "code",
   "execution_count": 1,
   "metadata": {},
   "outputs": [],
   "source": [
    "from sklearn.metrics import r2_score, mean_squared_error\n",
    "from obterDados import obterSimbolo"
   ]
  },
  {
   "attachments": {},
   "cell_type": "markdown",
   "metadata": {},
   "source": [
    "# Obtendo dados"
   ]
  },
  {
   "cell_type": "code",
   "execution_count": 2,
   "metadata": {},
   "outputs": [
    {
     "data": {
      "text/html": [
       "<div>\n",
       "<style scoped>\n",
       "    .dataframe tbody tr th:only-of-type {\n",
       "        vertical-align: middle;\n",
       "    }\n",
       "\n",
       "    .dataframe tbody tr th {\n",
       "        vertical-align: top;\n",
       "    }\n",
       "\n",
       "    .dataframe thead th {\n",
       "        text-align: right;\n",
       "    }\n",
       "</style>\n",
       "<table border=\"1\" class=\"dataframe\">\n",
       "  <thead>\n",
       "    <tr style=\"text-align: right;\">\n",
       "      <th></th>\n",
       "      <th>open</th>\n",
       "      <th>high</th>\n",
       "      <th>low</th>\n",
       "      <th>close</th>\n",
       "      <th>tick_volume</th>\n",
       "      <th>spread</th>\n",
       "      <th>real_volume</th>\n",
       "    </tr>\n",
       "    <tr>\n",
       "      <th>time</th>\n",
       "      <th></th>\n",
       "      <th></th>\n",
       "      <th></th>\n",
       "      <th></th>\n",
       "      <th></th>\n",
       "      <th></th>\n",
       "      <th></th>\n",
       "    </tr>\n",
       "  </thead>\n",
       "  <tbody>\n",
       "    <tr>\n",
       "      <th>2019-11-19 13:15:00</th>\n",
       "      <td>5031.071</td>\n",
       "      <td>5031.667</td>\n",
       "      <td>5028.087</td>\n",
       "      <td>5029.877</td>\n",
       "      <td>2003</td>\n",
       "      <td>1</td>\n",
       "      <td>7607</td>\n",
       "    </tr>\n",
       "    <tr>\n",
       "      <th>2019-11-19 13:20:00</th>\n",
       "      <td>5029.877</td>\n",
       "      <td>5031.667</td>\n",
       "      <td>5029.877</td>\n",
       "      <td>5030.474</td>\n",
       "      <td>976</td>\n",
       "      <td>1</td>\n",
       "      <td>3893</td>\n",
       "    </tr>\n",
       "    <tr>\n",
       "      <th>2019-11-19 13:25:00</th>\n",
       "      <td>5030.474</td>\n",
       "      <td>5033.458</td>\n",
       "      <td>5029.877</td>\n",
       "      <td>5031.071</td>\n",
       "      <td>2472</td>\n",
       "      <td>1</td>\n",
       "      <td>9451</td>\n",
       "    </tr>\n",
       "    <tr>\n",
       "      <th>2019-11-19 13:30:00</th>\n",
       "      <td>5031.071</td>\n",
       "      <td>5031.667</td>\n",
       "      <td>5026.296</td>\n",
       "      <td>5026.893</td>\n",
       "      <td>2866</td>\n",
       "      <td>1</td>\n",
       "      <td>11183</td>\n",
       "    </tr>\n",
       "    <tr>\n",
       "      <th>2019-11-19 13:35:00</th>\n",
       "      <td>5027.490</td>\n",
       "      <td>5029.877</td>\n",
       "      <td>5015.554</td>\n",
       "      <td>5020.925</td>\n",
       "      <td>9905</td>\n",
       "      <td>1</td>\n",
       "      <td>45587</td>\n",
       "    </tr>\n",
       "    <tr>\n",
       "      <th>...</th>\n",
       "      <td>...</td>\n",
       "      <td>...</td>\n",
       "      <td>...</td>\n",
       "      <td>...</td>\n",
       "      <td>...</td>\n",
       "      <td>...</td>\n",
       "      <td>...</td>\n",
       "    </tr>\n",
       "    <tr>\n",
       "      <th>2023-07-21 17:35:00</th>\n",
       "      <td>4785.500</td>\n",
       "      <td>4786.000</td>\n",
       "      <td>4785.000</td>\n",
       "      <td>4785.500</td>\n",
       "      <td>483</td>\n",
       "      <td>0</td>\n",
       "      <td>4170</td>\n",
       "    </tr>\n",
       "    <tr>\n",
       "      <th>2023-07-21 17:40:00</th>\n",
       "      <td>4786.000</td>\n",
       "      <td>4786.500</td>\n",
       "      <td>4785.000</td>\n",
       "      <td>4786.000</td>\n",
       "      <td>598</td>\n",
       "      <td>0</td>\n",
       "      <td>5252</td>\n",
       "    </tr>\n",
       "    <tr>\n",
       "      <th>2023-07-21 17:45:00</th>\n",
       "      <td>4786.000</td>\n",
       "      <td>4787.500</td>\n",
       "      <td>4784.000</td>\n",
       "      <td>4787.500</td>\n",
       "      <td>913</td>\n",
       "      <td>0</td>\n",
       "      <td>10318</td>\n",
       "    </tr>\n",
       "    <tr>\n",
       "      <th>2023-07-21 17:50:00</th>\n",
       "      <td>4787.000</td>\n",
       "      <td>4789.500</td>\n",
       "      <td>4786.500</td>\n",
       "      <td>4788.000</td>\n",
       "      <td>867</td>\n",
       "      <td>0</td>\n",
       "      <td>9567</td>\n",
       "    </tr>\n",
       "    <tr>\n",
       "      <th>2023-07-21 17:55:00</th>\n",
       "      <td>4787.500</td>\n",
       "      <td>4790.500</td>\n",
       "      <td>4786.500</td>\n",
       "      <td>4789.000</td>\n",
       "      <td>690</td>\n",
       "      <td>0</td>\n",
       "      <td>9390</td>\n",
       "    </tr>\n",
       "  </tbody>\n",
       "</table>\n",
       "<p>99999 rows × 7 columns</p>\n",
       "</div>"
      ],
      "text/plain": [
       "                         open      high       low     close  tick_volume  \\\n",
       "time                                                                       \n",
       "2019-11-19 13:15:00  5031.071  5031.667  5028.087  5029.877         2003   \n",
       "2019-11-19 13:20:00  5029.877  5031.667  5029.877  5030.474          976   \n",
       "2019-11-19 13:25:00  5030.474  5033.458  5029.877  5031.071         2472   \n",
       "2019-11-19 13:30:00  5031.071  5031.667  5026.296  5026.893         2866   \n",
       "2019-11-19 13:35:00  5027.490  5029.877  5015.554  5020.925         9905   \n",
       "...                       ...       ...       ...       ...          ...   \n",
       "2023-07-21 17:35:00  4785.500  4786.000  4785.000  4785.500          483   \n",
       "2023-07-21 17:40:00  4786.000  4786.500  4785.000  4786.000          598   \n",
       "2023-07-21 17:45:00  4786.000  4787.500  4784.000  4787.500          913   \n",
       "2023-07-21 17:50:00  4787.000  4789.500  4786.500  4788.000          867   \n",
       "2023-07-21 17:55:00  4787.500  4790.500  4786.500  4789.000          690   \n",
       "\n",
       "                     spread  real_volume  \n",
       "time                                      \n",
       "2019-11-19 13:15:00       1         7607  \n",
       "2019-11-19 13:20:00       1         3893  \n",
       "2019-11-19 13:25:00       1         9451  \n",
       "2019-11-19 13:30:00       1        11183  \n",
       "2019-11-19 13:35:00       1        45587  \n",
       "...                     ...          ...  \n",
       "2023-07-21 17:35:00       0         4170  \n",
       "2023-07-21 17:40:00       0         5252  \n",
       "2023-07-21 17:45:00       0        10318  \n",
       "2023-07-21 17:50:00       0         9567  \n",
       "2023-07-21 17:55:00       0         9390  \n",
       "\n",
       "[99999 rows x 7 columns]"
      ]
     },
     "execution_count": 2,
     "metadata": {},
     "output_type": "execute_result"
    }
   ],
   "source": [
    "rawDataM5 = obterSimbolo('WDO$')\n",
    "rawDataM5"
   ]
  },
  {
   "attachments": {},
   "cell_type": "markdown",
   "metadata": {},
   "source": [
    "# Tratamento de Dados"
   ]
  },
  {
   "attachments": {},
   "cell_type": "markdown",
   "metadata": {},
   "source": [
    "### Gerando colunas com preços passados e futuros"
   ]
  },
  {
   "cell_type": "code",
   "execution_count": null,
   "metadata": {},
   "outputs": [],
   "source": [
    "hist = rawDataM5.copy().drop(columns=['spread'])\n",
    "colunas0 = ['open', 'high', 'low', 'close', 'tick_volume', 'real_volume']\n",
    "for i in range(1, 1000):\n",
    "    for coluna in colunas0:\n",
    "        hist[coluna+str(i)] = hist[coluna].shift(i)\n",
    "colunasY = []\n",
    "for i in range(1, 25):\n",
    "    for coluna in colunas0:\n",
    "        nomeCol = f'{coluna}-{str(i)}'\n",
    "        hist[nomeCol] = hist[coluna].shift(-i)\n",
    "        colunasY.append(nomeCol)\n",
    "\n",
    "hist = hist.dropna()\n",
    "hist"
   ]
  },
  {
   "attachments": {},
   "cell_type": "markdown",
   "metadata": {},
   "source": [
    "# Modelo de Classificação"
   ]
  },
  {
   "cell_type": "markdown",
   "metadata": {},
   "source": [
    "### Achar quando comprar, vender ou fazer nada"
   ]
  },
  {
   "cell_type": "code",
   "execution_count": null,
   "metadata": {},
   "outputs": [],
   "source": [
    "hist['action'] = 0\n",
    "hist['hora'] = hist.index.hour\n",
    "ganhoEmPontos = 30\n",
    "actions = hist['action'].to_numpy()\n",
    "fechamentos = hist['close'].to_numpy()\n",
    "horas = hist['hora'].to_numpy()\n",
    "for i in range(len(fechamentos)):\n",
    "    if horas[i] > 14:\n",
    "        continue\n",
    "    for j in range(1, 25):\n",
    "        nameCol = f'high-{str(j)}'\n",
    "        if hist[nameCol].to_numpy()[i] >= fechamentos[i] + ganhoEmPontos:\n",
    "            actions[i] = 1\n",
    "            break\n",
    "        nameCol = f'low-{str(j)}'\n",
    "        if hist[nameCol].to_numpy()[i] <= fechamentos[i] - ganhoEmPontos:\n",
    "            actions[i] = 2\n",
    "            break\n",
    "hist['action'] = actions.tolist()\n",
    "colunasY.append('action')\n",
    "colunasY"
   ]
  },
  {
   "cell_type": "markdown",
   "metadata": {},
   "source": [
    "### Colunas para normalização"
   ]
  },
  {
   "cell_type": "code",
   "execution_count": null,
   "metadata": {},
   "outputs": [],
   "source": [
    "colunasPrecos = colunas0[:4].copy()\n",
    "colunasTickV = ['tick_volume']\n",
    "colunasRealV = ['real_volume']\n",
    "for i in range(1, 1000):\n",
    "    for coluna in colunas0[:4]:\n",
    "        colunasPrecos.append(coluna + str(i))\n",
    "    colunasTickV.append(colunasTickV[0] + str(i))\n",
    "    colunasRealV.append(colunasRealV[0] + str(i))\n",
    "colunasPrecos"
   ]
  },
  {
   "cell_type": "markdown",
   "metadata": {},
   "source": [
    "### Normalização"
   ]
  },
  {
   "cell_type": "code",
   "execution_count": null,
   "metadata": {},
   "outputs": [],
   "source": [
    "histNorm = hist.copy()"
   ]
  },
  {
   "cell_type": "code",
   "execution_count": 7,
   "metadata": {},
   "outputs": [],
   "source": [
    "maxVs = hist[colunasPrecos].max(axis='columns')\n",
    "minVs = hist[colunasPrecos].min(axis='columns')\n",
    "histNormPart = hist[colunasPrecos].subtract(minVs, axis=0).divide(maxVs - minVs, axis=0)\n",
    "for coluna in histNormPart.columns:\n",
    "    histNorm[coluna] = histNormPart[coluna]"
   ]
  },
  {
   "cell_type": "code",
   "execution_count": null,
   "metadata": {},
   "outputs": [],
   "source": [
    "maxVs = hist[colunasTickV].max(axis='columns')\n",
    "minVs = hist[colunasTickV].min(axis='columns')\n",
    "histNormPart = hist[colunasTickV].subtract(minVs, axis=0).divide(maxVs - minVs, axis=0)\n",
    "for coluna in histNormPart.columns:\n",
    "    histNorm[coluna] = histNormPart[coluna]"
   ]
  },
  {
   "cell_type": "code",
   "execution_count": null,
   "metadata": {},
   "outputs": [],
   "source": [
    "maxVs = hist[colunasRealV].max(axis='columns')\n",
    "minVs = hist[colunasRealV].min(axis='columns')\n",
    "histNormPart = hist[colunasRealV].subtract(minVs, axis=0).divide(maxVs - minVs, axis=0)\n",
    "for coluna in histNormPart.columns:\n",
    "    histNorm[coluna] = histNormPart[coluna]"
   ]
  },
  {
   "attachments": {},
   "cell_type": "markdown",
   "metadata": {},
   "source": [
    "### Separar dados de treino e teste"
   ]
  },
  {
   "cell_type": "code",
   "execution_count": null,
   "metadata": {},
   "outputs": [],
   "source": [
    "xClass = hist.drop(columns=colunasY).values\n",
    "yClass = hist['action'].values\n",
    "splitDays = 108 * 200\n",
    "x_train_class = xClass.iloc[:-splitDays]\n",
    "x_test_class = xClass.iloc[-splitDays:]\n",
    "y_train_class = yClass.iloc[:-splitDays]\n",
    "y_test_class = yClass.iloc[-splitDays:]"
   ]
  },
  {
   "attachments": {},
   "cell_type": "markdown",
   "metadata": {},
   "source": [
    "### Lazy Classifier"
   ]
  },
  {
   "cell_type": "code",
   "execution_count": null,
   "metadata": {},
   "outputs": [],
   "source": [
    "# from lazypredict.Supervised import LazyClassifier\n",
    "\n",
    "# lazyReg = LazyClassifier()\n",
    "# lazyReg.fit(x_train_class, x_test_class, y_train_class, y_test_class)"
   ]
  },
  {
   "cell_type": "markdown",
   "metadata": {},
   "source": [
    "### Gerando pesos das classes"
   ]
  },
  {
   "cell_type": "code",
   "execution_count": null,
   "metadata": {},
   "outputs": [],
   "source": [
    "import numpy as np\n",
    "\n",
    "pesos = y_train_class.copy()\n",
    "maximaOcorrencia = -1\n",
    "for i in range(3):\n",
    "    print(y_train_class[y_train_class == i].count())\n",
    "    if y_train_class[y_train_class == i].count() > maximaOcorrencia:\n",
    "        maximaOcorrencia = y_train_class[y_train_class == i].count()\n",
    "for i in range(3):\n",
    "    pesos[pesos == i] = maximaOcorrencia / (len(pesos) * y_train_class[y_train_class == i].count())\n",
    "pesos"
   ]
  },
  {
   "attachments": {},
   "cell_type": "markdown",
   "metadata": {},
   "source": [
    "### Criando um dos modelos encontrados"
   ]
  },
  {
   "cell_type": "code",
   "execution_count": null,
   "metadata": {},
   "outputs": [],
   "source": [
    "from sklearn.ensemble import AdaBoostClassifier\n",
    "from sklearn.neural_network import MLPClassifier\n",
    "\n",
    "modelo = MLPClassifier(verbose=True)\n",
    "# modelo = AdaBoostClassifier()\n",
    "# modelo.fit(x_train_class, y_train_class, sample_weight=pesos)\n",
    "modelo.fit(x_train_class, y_train_class)"
   ]
  },
  {
   "cell_type": "markdown",
   "metadata": {},
   "source": [
    "### Salvar Modelo de Classificação"
   ]
  },
  {
   "cell_type": "code",
   "execution_count": null,
   "metadata": {},
   "outputs": [],
   "source": [
    "import pickle\n",
    "\n",
    "pickle.dump(modelo, open('modeloClassificadorMLP.pickle', 'wb'))\n",
    "# pickle.dump(modelo, open('modeloClassificadorAdaBoost.pickle', 'wb'))"
   ]
  },
  {
   "cell_type": "markdown",
   "metadata": {},
   "source": [
    "# Pontuação de treino e teste"
   ]
  },
  {
   "cell_type": "code",
   "execution_count": null,
   "metadata": {},
   "outputs": [],
   "source": [
    "from sklearn.metrics import classification_report\n",
    "from pickle import load\n",
    "\n",
    "modelo = load(open('modeloClassificadorAdaBoost.pickle', 'rb'))\n",
    "print('Treino: ', classification_report(y_train_class, modelo.predict(x_train_class)))\n",
    "print('Teste: ', classification_report(y_test_class, modelo.predict(x_test_class)))"
   ]
  }
 ],
 "metadata": {
  "kernelspec": {
   "display_name": "Python 3",
   "language": "python",
   "name": "python3"
  },
  "language_info": {
   "codemirror_mode": {
    "name": "ipython",
    "version": 3
   },
   "file_extension": ".py",
   "mimetype": "text/x-python",
   "name": "python",
   "nbconvert_exporter": "python",
   "pygments_lexer": "ipython3",
   "version": "3.10.8"
  },
  "orig_nbformat": 4
 },
 "nbformat": 4,
 "nbformat_minor": 2
}
